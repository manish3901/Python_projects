{
 "cells": [
  {
   "cell_type": "markdown",
   "id": "889bc171",
   "metadata": {},
   "source": [
    "## Loops practice"
   ]
  },
  {
   "cell_type": "code",
   "execution_count": 1,
   "id": "2d092eb2",
   "metadata": {},
   "outputs": [],
   "source": [
    "#P1.program to give first 10 numbers using for and while loop."
   ]
  },
  {
   "cell_type": "code",
   "execution_count": 2,
   "id": "062e6b9c",
   "metadata": {},
   "outputs": [
    {
     "name": "stdout",
     "output_type": "stream",
     "text": [
      "0 1 2 3 4 5 6 7 8 9 10 "
     ]
    }
   ],
   "source": [
    "for i in range(11):\n",
    "    print(i,end=' ')"
   ]
  },
  {
   "cell_type": "code",
   "execution_count": 3,
   "id": "42e5fa2d",
   "metadata": {},
   "outputs": [
    {
     "name": "stdout",
     "output_type": "stream",
     "text": [
      "0 1 2 3 4 5 6 7 8 9 10 "
     ]
    }
   ],
   "source": [
    "i = 0\n",
    "while i < 11:\n",
    "    print(i,end=' ')\n",
    "    i += 1"
   ]
  },
  {
   "cell_type": "code",
   "execution_count": 12,
   "id": "66d0ccf7",
   "metadata": {},
   "outputs": [
    {
     "name": "stdout",
     "output_type": "stream",
     "text": [
      "0 1 2 3 4 5 6 7 8 9 10 "
     ]
    }
   ],
   "source": [
    "i = 0\n",
    "while i >= 0:\n",
    "    print(i,end=' ')\n",
    "    i += 1\n",
    "    if i == 11:    #condition controlled loop\n",
    "        break"
   ]
  },
  {
   "cell_type": "code",
   "execution_count": 13,
   "id": "c32812b8",
   "metadata": {},
   "outputs": [],
   "source": [
    "#P2. Write a program to calculate the average of first n numbers."
   ]
  },
  {
   "cell_type": "code",
   "execution_count": 17,
   "id": "c335cc95",
   "metadata": {},
   "outputs": [
    {
     "name": "stdout",
     "output_type": "stream",
     "text": [
      "Enter any integer: 10\n",
      "55\n",
      "5.5\n"
     ]
    }
   ],
   "source": [
    "n = int(input('Enter any integer: '))\n",
    "Sum = 0\n",
    "for i in range(n+1):\n",
    "    Sum += i\n",
    "avg = Sum/n\n",
    "print(Sum)\n",
    "print(avg)"
   ]
  },
  {
   "cell_type": "code",
   "execution_count": 19,
   "id": "e7b78d73",
   "metadata": {},
   "outputs": [
    {
     "name": "stdout",
     "output_type": "stream",
     "text": [
      "Enter any integer: 10\n",
      "55\n",
      "5.5\n"
     ]
    }
   ],
   "source": [
    "n = int(input('Enter any integer: '))\n",
    "Sum = 0\n",
    "i = 0\n",
    "while i <= n:\n",
    "    Sum += i\n",
    "    i += 1\n",
    "avg = Sum/n\n",
    "print(Sum)\n",
    "print(avg)"
   ]
  },
  {
   "cell_type": "code",
   "execution_count": 20,
   "id": "1d814d72",
   "metadata": {},
   "outputs": [],
   "source": [
    "#P3. Write a program to print the multiplication table of n,where n is entered by the user."
   ]
  },
  {
   "cell_type": "code",
   "execution_count": 26,
   "id": "65b88658",
   "metadata": {},
   "outputs": [
    {
     "name": "stdout",
     "output_type": "stream",
     "text": [
      "Enter any integer : 3\n",
      "Multiplication table of 3\n",
      "3 * 1 = 3\n",
      "3 * 2 = 6\n",
      "3 * 3 = 9\n",
      "3 * 4 = 12\n",
      "3 * 5 = 15\n",
      "3 * 6 = 18\n",
      "3 * 7 = 21\n",
      "3 * 8 = 24\n",
      "3 * 9 = 27\n",
      "3 * 10 = 30\n"
     ]
    }
   ],
   "source": [
    "n = int(input('Enter any integer : '))\n",
    "print(f'Multiplication table of {n}')\n",
    "for i in range(1,11):\n",
    "    print(f\"{n} * {i} = {n * i}\")"
   ]
  },
  {
   "cell_type": "code",
   "execution_count": 27,
   "id": "3cfaa39f",
   "metadata": {},
   "outputs": [
    {
     "name": "stdout",
     "output_type": "stream",
     "text": [
      "Enter any integer : 3\n",
      "Multiplication table of 3\n",
      "3 * 1 = 3\n",
      "3 * 2 = 6\n",
      "3 * 3 = 9\n",
      "3 * 4 = 12\n",
      "3 * 5 = 15\n",
      "3 * 6 = 18\n",
      "3 * 7 = 21\n",
      "3 * 8 = 24\n",
      "3 * 9 = 27\n",
      "3 * 10 = 30\n"
     ]
    }
   ],
   "source": [
    "n = int(input('Enter any integer : '))\n",
    "print(f'Multiplication table of {n}')\n",
    "i = 1\n",
    "while i <= 10:\n",
    "    print(f\"{n} * {i} = {n * i}\")\n",
    "    i += 1"
   ]
  },
  {
   "cell_type": "code",
   "execution_count": 28,
   "id": "cc08ac25",
   "metadata": {},
   "outputs": [],
   "source": [
    "#P4. Write a program to print all the numbers from m-n thereby classifing them as even or odd."
   ]
  },
  {
   "cell_type": "code",
   "execution_count": 35,
   "id": "68da641b",
   "metadata": {},
   "outputs": [
    {
     "name": "stdout",
     "output_type": "stream",
     "text": [
      "Enter any integer: 5\n",
      "Enter any integer: 10\n",
      "List of all numbers from 5 to 10: [5, 6, 7, 8, 9, 10]\n",
      "List of Even Numbers from 5 to 10 : [6, 8, 10]\n",
      "List of Odd Numbers from 5 to 10  : [5, 7, 9]\n"
     ]
    }
   ],
   "source": [
    "#lets create empty lists for numbers\n",
    "even_no = []\n",
    "odd_no = []\n",
    "num = []\n",
    "\n",
    "#inputs\n",
    "m = int(input('Enter any integer: '))\n",
    "n = int(input('Enter any integer: '))\n",
    "\n",
    "#for loop\n",
    "for i in range(m,n+1):\n",
    "    num.append(i)\n",
    "    if i % 2 == 0:\n",
    "        even_no.append(i)\n",
    "    else:\n",
    "        odd_no.append(i)\n",
    "print(f'List of all numbers from {m} to {n}: {num}')\n",
    "print(f'List of Even Numbers from {m} to {n} : {even_no}')\n",
    "print(f'List of Odd Numbers from {m} to {n}  : {odd_no}')"
   ]
  },
  {
   "cell_type": "code",
   "execution_count": 36,
   "id": "feb9c93c",
   "metadata": {},
   "outputs": [
    {
     "name": "stdout",
     "output_type": "stream",
     "text": [
      "Enter any integer: 5\n",
      "Enter any integer: 10\n",
      "List of all numbers from 5 to 10: [5, 6, 7, 8, 9, 10]\n",
      "List of Even Numbers from 5 to 10 : [6, 8, 10]\n",
      "List of Odd Numbers from 5 to 10  : [5, 7, 9]\n"
     ]
    }
   ],
   "source": [
    "even_no = []\n",
    "odd_no = []\n",
    "num = []\n",
    "\n",
    "#inputs\n",
    "m = int(input('Enter any integer: '))\n",
    "n = int(input('Enter any integer: '))\n",
    "M = m\n",
    "N = n\n",
    "\n",
    "while m <= n:\n",
    "    num.append(m)\n",
    "    if m % 2 == 0:\n",
    "        even_no.append(m)\n",
    "    else:\n",
    "        odd_no.append(m)\n",
    "    m +=1\n",
    "print(f'List of all numbers from {M} to {N}: {num}')\n",
    "print(f'List of Even Numbers from {M} to {N} : {even_no}')\n",
    "print(f'List of Odd Numbers from {M} to {N}  : {odd_no}')"
   ]
  },
  {
   "cell_type": "code",
   "execution_count": null,
   "id": "d2eb1521",
   "metadata": {},
   "outputs": [],
   "source": [
    "#P5. Write a program using for loop to calculate factorial of a number.\n",
    "# 5! = 5 * 4 * 3 * 2 * 1 == 120"
   ]
  },
  {
   "cell_type": "code",
   "execution_count": 71,
   "id": "e07b333d",
   "metadata": {},
   "outputs": [
    {
     "name": "stdout",
     "output_type": "stream",
     "text": [
      "Enter any integer: 5\n",
      "Factorial of  5  is :  120\n"
     ]
    }
   ],
   "source": [
    "n = int(input('Enter any integer: '))\n",
    "fact = 1\n",
    "N= n\n",
    "for i in range(n):\n",
    "    fact *= (n-i)\n",
    "print('Factorial of ',  N , ' is : ' ,fact)"
   ]
  },
  {
   "cell_type": "code",
   "execution_count": 72,
   "id": "605274bc",
   "metadata": {},
   "outputs": [
    {
     "name": "stdout",
     "output_type": "stream",
     "text": [
      "Enter any integer: 5\n",
      "Factorial of  5  is :  120\n"
     ]
    }
   ],
   "source": [
    "n = int(input('Enter any integer: '))\n",
    "N = n\n",
    "for i in range(1,n):\n",
    "    n *= i\n",
    "print('Factorial of ',  N , ' is : ' ,n)"
   ]
  },
  {
   "cell_type": "code",
   "execution_count": 59,
   "id": "dd92ed2b",
   "metadata": {},
   "outputs": [
    {
     "name": "stdout",
     "output_type": "stream",
     "text": [
      "Enter any integer: 5\n",
      "Factorial of  5  is :  120\n"
     ]
    }
   ],
   "source": [
    "n = int(input('Enter any integer: '))\n",
    "N = n\n",
    "fact = 1\n",
    "i = 0\n",
    "while i < n:\n",
    "    fact *= (n-i)\n",
    "    i += 1\n",
    "print('Factorial of ',  N , ' is : ' ,fact)"
   ]
  },
  {
   "cell_type": "code",
   "execution_count": 74,
   "id": "de015d0d",
   "metadata": {},
   "outputs": [
    {
     "name": "stdout",
     "output_type": "stream",
     "text": [
      "Enter any integer: 7\n",
      "Factorial of  7  is :  5040\n"
     ]
    }
   ],
   "source": [
    "n = int(input('Enter any integer: '))\n",
    "N = n\n",
    "fact = 1\n",
    "while n > 0:\n",
    "    fact *= n\n",
    "    n -= 1    \n",
    "print('Factorial of ',  N , ' is : ' ,fact)    "
   ]
  },
  {
   "cell_type": "code",
   "execution_count": 75,
   "id": "97206492",
   "metadata": {},
   "outputs": [],
   "source": [
    "#P6. Write a program to classify a given number as prime or composite."
   ]
  },
  {
   "cell_type": "code",
   "execution_count": 140,
   "id": "abbfe4a6",
   "metadata": {},
   "outputs": [
    {
     "name": "stdout",
     "output_type": "stream",
     "text": [
      "Enter any integer: 5\n",
      "5 is a prime number\n"
     ]
    }
   ],
   "source": [
    "n = int(input('Enter any integer: '))\n",
    "if n == 0 or n == 1:\n",
    "    print(f\"{n} is not prime nor composite number!\")\n",
    "elif n == 2:\n",
    "    print(f'{n} is a prime number')\n",
    "else:   \n",
    "    for i in range(2,n):\n",
    "        if n % i == 0:\n",
    "            print(f'{n} is a composite number')                 \n",
    "            break\n",
    "    else:\n",
    "        print(f'{n} is a prime number')         "
   ]
  },
  {
   "cell_type": "code",
   "execution_count": 139,
   "id": "77ed2549",
   "metadata": {},
   "outputs": [
    {
     "name": "stdout",
     "output_type": "stream",
     "text": [
      "Enter any integer: 9\n",
      "9 is a composite number\n"
     ]
    }
   ],
   "source": [
    "n = int(input('Enter any integer: '))\n",
    "if n > 2:\n",
    "    for i in range(2,n):\n",
    "        if n % i == 0:\n",
    "            print(f'{n} is a composite number')\n",
    "            break\n",
    "    else:\n",
    "        print(f'{n} is a prime number') \n",
    "if n == 0 or n == 1:\n",
    "    print(f\"{n} is not prime nor composite number!\")\n",
    "elif n == 2:\n",
    "    print(f'{n} is a prime number')\n",
    "else: \n",
    "    pass"
   ]
  },
  {
   "cell_type": "code",
   "execution_count": 115,
   "id": "b4297d64",
   "metadata": {},
   "outputs": [
    {
     "data": {
      "text/plain": [
       "True"
      ]
     },
     "execution_count": 115,
     "metadata": {},
     "output_type": "execute_result"
    }
   ],
   "source": [
    "9 % 3 == 0"
   ]
  },
  {
   "cell_type": "code",
   "execution_count": 145,
   "id": "f562baba",
   "metadata": {},
   "outputs": [
    {
     "name": "stdout",
     "output_type": "stream",
     "text": [
      "Enter any integer: 7\n",
      "7 is a prime number\n"
     ]
    }
   ],
   "source": [
    "n = int(input('Enter any integer: '))\n",
    "if n == 0 or n == 1:\n",
    "    print(f\"{n} is not prime nor composite number!\")\n",
    "elif n == 2:\n",
    "    print(f'{n} is a prime number')\n",
    "else:\n",
    "    i = 2\n",
    "    while i < n:\n",
    "        if n % i == 0:\n",
    "            print(f'{n} is a composite number')\n",
    "            break\n",
    "        i += 1\n",
    "    else:\n",
    "        print(f'{n} is a prime number')\n",
    "       \n",
    "                  "
   ]
  },
  {
   "cell_type": "code",
   "execution_count": 146,
   "id": "835b30dc",
   "metadata": {},
   "outputs": [],
   "source": [
    "#P7.Write a program using while loop to read the numbers untill -1 is encounterd.\n",
    "#Also count the number of prime numbers and composite numbers entered by the user."
   ]
  },
  {
   "cell_type": "code",
   "execution_count": 153,
   "id": "d401aff8",
   "metadata": {},
   "outputs": [
    {
     "name": "stdout",
     "output_type": "stream",
     "text": [
      "-1 will break the loop!\n",
      "Enter any number: 4\n",
      "Enter any number: 6\n",
      "Enter any number: 7\n",
      "Enter any number: 8\n",
      "Enter any number: 9\n",
      "Enter any number: 10\n",
      "Enter any number: 11\n",
      "Enter any number: 35\n",
      "Enter any number: 76\n",
      "Enter any number: 39\n",
      "Enter any number: -1\n",
      "Prime count    :  2\n",
      "composite count:  8\n"
     ]
    }
   ],
   "source": [
    "print('-1 will break the loop!')\n",
    "prime_count = 0\n",
    "composite_count = 0\n",
    "while True:\n",
    "    n = int(input('Enter any number: '))\n",
    "    if n == -1:\n",
    "        break\n",
    "    elif n < 2:\n",
    "        pass\n",
    "    elif n ==2 :\n",
    "        prime_count += 1\n",
    "    else:\n",
    "        for i in range(2,n):\n",
    "            if n % i == 0:\n",
    "                composite_count+=1\n",
    "                break\n",
    "        else:\n",
    "            prime_count += 1\n",
    "print('Prime count    : ',prime_count)\n",
    "print('composite count: ',composite_count)"
   ]
  },
  {
   "cell_type": "code",
   "execution_count": 148,
   "id": "ee27a3d8",
   "metadata": {},
   "outputs": [
    {
     "name": "stdout",
     "output_type": "stream",
     "text": [
      "-1 will break the loop!\n",
      "Enter any number: 7\n",
      "Enter any number: 9\n",
      "Enter any number: 1\n",
      "Enter any number: -1\n",
      "Prime count    :  1\n",
      "composite count:  1\n"
     ]
    }
   ],
   "source": [
    "print('-1 will break the loop!')\n",
    "prime_count = 0\n",
    "composite_count = 0\n",
    "while True:\n",
    "    n = int(input('Enter any number: '))\n",
    "    if n == -1:\n",
    "        break\n",
    "    elif n < 2:\n",
    "        pass\n",
    "\n",
    "    elif n ==2 :\n",
    "        prime_count += 1\n",
    "    else:\n",
    "        i = 2\n",
    "        while i < n:\n",
    "            if n % i == 0:\n",
    "                composite_count += 1\n",
    "                break\n",
    "            i += 1\n",
    "        else:\n",
    "            prime_count += 1\n",
    "print('Prime count    : ',prime_count)\n",
    "print('composite count: ',composite_count)"
   ]
  },
  {
   "cell_type": "code",
   "execution_count": 154,
   "id": "c372bbba",
   "metadata": {},
   "outputs": [],
   "source": [
    "#P8. Write a program to calculate power(x,n)"
   ]
  },
  {
   "cell_type": "code",
   "execution_count": 155,
   "id": "749e3f3c",
   "metadata": {},
   "outputs": [
    {
     "name": "stdout",
     "output_type": "stream",
     "text": [
      "Enter any integer: 2\n",
      "Enter power to above integer: 5\n",
      "32\n"
     ]
    }
   ],
   "source": [
    "x = int(input('Enter any integer: '))\n",
    "n = int(input('Enter power to above integer: '))\n",
    "power = x ** n\n",
    "print(power)"
   ]
  },
  {
   "cell_type": "code",
   "execution_count": 169,
   "id": "9c7f7f9f",
   "metadata": {},
   "outputs": [
    {
     "name": "stdout",
     "output_type": "stream",
     "text": [
      "Enter any integer: 2\n",
      "Enter power to above integer: 5\n",
      "32\n"
     ]
    }
   ],
   "source": [
    "x = int(input('Enter any integer: '))\n",
    "n = int(input('Enter power to above integer: '))\n",
    "for i in range(n+1):\n",
    "    power = x ** i\n",
    "print(power)"
   ]
  },
  {
   "cell_type": "code",
   "execution_count": 171,
   "id": "a21033a9",
   "metadata": {},
   "outputs": [
    {
     "name": "stdout",
     "output_type": "stream",
     "text": [
      "Enter any integer: 2\n",
      "Enter power to above integer: 5\n",
      "32\n"
     ]
    }
   ],
   "source": [
    "x = int(input('Enter any integer: '))\n",
    "n = int(input('Enter power to above integer: '))\n",
    "power = 1\n",
    "for i in range(n):\n",
    "    power *= x\n",
    "print(power)"
   ]
  },
  {
   "cell_type": "code",
   "execution_count": 167,
   "id": "689135e5",
   "metadata": {},
   "outputs": [
    {
     "name": "stdout",
     "output_type": "stream",
     "text": [
      "Enter any integer: 2\n",
      "Enter power to above integer: 5\n",
      "32\n"
     ]
    }
   ],
   "source": [
    "x = int(input('Enter any integer: '))\n",
    "n = int(input('Enter power to above integer: '))\n",
    "while True:\n",
    "    power = x ** n\n",
    "    break\n",
    "print(power)"
   ]
  },
  {
   "cell_type": "code",
   "execution_count": 174,
   "id": "1bceb219",
   "metadata": {},
   "outputs": [
    {
     "name": "stdout",
     "output_type": "stream",
     "text": [
      "Enter any integer: 2\n",
      "Enter power to above integer: 5\n",
      "32\n"
     ]
    }
   ],
   "source": [
    "x = int(input('Enter any integer: '))\n",
    "n = int(input('Enter power to above integer: '))\n",
    "power = 1\n",
    "i = 1\n",
    "while i <= n:\n",
    "    power *= x\n",
    "    i += 1\n",
    "print(power)"
   ]
  },
  {
   "cell_type": "code",
   "execution_count": 176,
   "id": "f9ca3fe8",
   "metadata": {},
   "outputs": [
    {
     "name": "stdout",
     "output_type": "stream",
     "text": [
      "Enter any yr: 2000\n",
      "Leap yr!\n"
     ]
    }
   ],
   "source": [
    "#P9.Write a program that displays all leap years from 1900-2101\n",
    "# (divisible by 4 and not divisible by 100) or (divisible by 400)\n",
    "yr = int(input('Enter any yr: '))\n",
    "if (yr % 4 == 0 and yr % 100 != 0) or yr % 400 == 0:\n",
    "    print('Leap yr!')\n",
    "else:\n",
    "    print('Not a leap yr!')"
   ]
  },
  {
   "cell_type": "code",
   "execution_count": 182,
   "id": "3ee9b77b",
   "metadata": {},
   "outputs": [
    {
     "name": "stdout",
     "output_type": "stream",
     "text": [
      "[1904, 1908, 1912, 1916, 1920, 1924, 1928, 1932, 1936, 1940, 1944, 1948, 1952, 1956, 1960, 1964, 1968, 1972, 1976, 1980, 1984, 1988, 1992, 1996, 2000, 2004, 2008, 2012, 2016, 2020, 2024, 2028, 2032, 2036, 2040, 2044, 2048, 2052, 2056, 2060, 2064, 2068, 2072, 2076, 2080, 2084, 2088, 2092, 2096]\n",
      "49\n"
     ]
    }
   ],
   "source": [
    "leap_yr = []\n",
    "leap_count = 0\n",
    "for i in range(1900,2102):\n",
    "    if (i % 4 == 0 and i % 100 != 0) or i % 400 == 0:\n",
    "        leap_yr.append(i)\n",
    "        leap_count +=1\n",
    "print(leap_yr)\n",
    "print(leap_count)"
   ]
  },
  {
   "cell_type": "code",
   "execution_count": 183,
   "id": "c53c0278",
   "metadata": {},
   "outputs": [],
   "source": [
    "#P10. Write a program to sum the series 1+1/2+...+1/n"
   ]
  },
  {
   "cell_type": "code",
   "execution_count": 186,
   "id": "8b598e28",
   "metadata": {},
   "outputs": [
    {
     "name": "stdout",
     "output_type": "stream",
     "text": [
      "Enter any integer : 3\n",
      "1.83\n"
     ]
    }
   ],
   "source": [
    "n = int(input('Enter any integer : '))\n",
    "Sum = 0\n",
    "for i in range(1,n+1):\n",
    "    den= 1/i\n",
    "    Sum += den\n",
    "print(round(Sum,2))"
   ]
  },
  {
   "cell_type": "code",
   "execution_count": 188,
   "id": "95087674",
   "metadata": {},
   "outputs": [
    {
     "data": {
      "text/plain": [
       "1.8333333333333333"
      ]
     },
     "execution_count": 188,
     "metadata": {},
     "output_type": "execute_result"
    }
   ],
   "source": [
    "1 + (1/2) + (1/3)"
   ]
  },
  {
   "cell_type": "code",
   "execution_count": 187,
   "id": "3ab0ebd7",
   "metadata": {},
   "outputs": [],
   "source": [
    "#P11. Write a program to sum the series 1/1**2 + 1/2**2 + .. + 1/n**2"
   ]
  },
  {
   "cell_type": "code",
   "execution_count": 190,
   "id": "78b76688",
   "metadata": {},
   "outputs": [
    {
     "name": "stdout",
     "output_type": "stream",
     "text": [
      "Enter any integer : 5\n",
      "1.46\n"
     ]
    }
   ],
   "source": [
    "n = int(input('Enter any integer : '))\n",
    "Sum = 0\n",
    "for i in range(1,n+1):\n",
    "    den = 1/(i**2)\n",
    "    Sum += den\n",
    "print(round(Sum,2))"
   ]
  },
  {
   "cell_type": "code",
   "execution_count": 193,
   "id": "5732f77e",
   "metadata": {},
   "outputs": [
    {
     "name": "stdout",
     "output_type": "stream",
     "text": [
      "Enter any integer : 5\n",
      "1.46\n"
     ]
    }
   ],
   "source": [
    "n = int(input('Enter any integer : '))\n",
    "Sum = 0\n",
    "i = 1\n",
    "while i <= n:\n",
    "    den = 1/(i**2)\n",
    "    Sum += den\n",
    "    i += 1\n",
    "print(round(Sum,2))"
   ]
  },
  {
   "cell_type": "code",
   "execution_count": 203,
   "id": "5d42e158",
   "metadata": {},
   "outputs": [
    {
     "name": "stdout",
     "output_type": "stream",
     "text": [
      "Enter any integer : 5\n",
      "3.55\n"
     ]
    }
   ],
   "source": [
    "#P.12 Write a program to sum the series 1/2+2/3+..+n/(n+1)\n",
    "n = int(input('Enter any integer : '))\n",
    "Sum = 0\n",
    "for i in range(1,n+1):\n",
    "    series = i/(i+1)\n",
    "    Sum += series\n",
    "print(round(Sum,2))"
   ]
  },
  {
   "cell_type": "code",
   "execution_count": 204,
   "id": "743f4f6e",
   "metadata": {},
   "outputs": [],
   "source": [
    "#P13. Write a program to sum the series 1/1 + 2**2/2 + 3**3/3 + n**2/n"
   ]
  },
  {
   "cell_type": "code",
   "execution_count": 205,
   "id": "35499838",
   "metadata": {},
   "outputs": [
    {
     "name": "stdout",
     "output_type": "stream",
     "text": [
      "Enter any integer : 5\n",
      "701.0\n"
     ]
    }
   ],
   "source": [
    "n = int(input('Enter any integer : '))\n",
    "Sum = 0\n",
    "for i in range(1,n+1):\n",
    "    series = (i**i)/i\n",
    "    Sum += series\n",
    "print(Sum)"
   ]
  },
  {
   "cell_type": "code",
   "execution_count": 206,
   "id": "8d08d11f",
   "metadata": {},
   "outputs": [],
   "source": [
    "#P14. Write a program to calculate the sum of cubes of numbers from 1 - n."
   ]
  },
  {
   "cell_type": "code",
   "execution_count": 207,
   "id": "e9eb487f",
   "metadata": {},
   "outputs": [
    {
     "name": "stdout",
     "output_type": "stream",
     "text": [
      "Enter any integer : 5\n",
      "225\n"
     ]
    }
   ],
   "source": [
    "n = int(input('Enter any integer : '))\n",
    "Sum = 0\n",
    "for i in range(1,n+1):\n",
    "    Sum += i**3\n",
    "print(Sum)"
   ]
  },
  {
   "cell_type": "code",
   "execution_count": 211,
   "id": "c98c5dcc",
   "metadata": {},
   "outputs": [
    {
     "data": {
      "text/plain": [
       "225"
      ]
     },
     "execution_count": 211,
     "metadata": {},
     "output_type": "execute_result"
    }
   ],
   "source": [
    "1 + 2**3 + 3**3 + 4**3 + 5**3"
   ]
  },
  {
   "cell_type": "code",
   "execution_count": 209,
   "id": "4deff5c9",
   "metadata": {},
   "outputs": [
    {
     "name": "stdout",
     "output_type": "stream",
     "text": [
      "Enter any integer : 4\n",
      "100\n"
     ]
    }
   ],
   "source": [
    "n = int(input('Enter any integer : '))\n",
    "Sum = 0\n",
    "i = 1\n",
    "while i <= n:\n",
    "    Sum += i**3\n",
    "    i += 1\n",
    "print(Sum)"
   ]
  },
  {
   "cell_type": "code",
   "execution_count": 210,
   "id": "c7bcc0e5",
   "metadata": {},
   "outputs": [
    {
     "data": {
      "text/plain": [
       "100"
      ]
     },
     "execution_count": 210,
     "metadata": {},
     "output_type": "execute_result"
    }
   ],
   "source": [
    "1 + 2**3 + 3**3 + 4**3"
   ]
  },
  {
   "cell_type": "code",
   "execution_count": 212,
   "id": "d1764ee8",
   "metadata": {},
   "outputs": [],
   "source": [
    "#P15. Write a program to sum of squares of even numbers."
   ]
  },
  {
   "cell_type": "code",
   "execution_count": 213,
   "id": "d31db1ed",
   "metadata": {},
   "outputs": [
    {
     "name": "stdout",
     "output_type": "stream",
     "text": [
      "Enter any integer : 10\n",
      "220\n"
     ]
    }
   ],
   "source": [
    "n = int(input('Enter any integer : '))\n",
    "Sum = 0\n",
    "for i in range(1,n+1):\n",
    "    if i % 2 == 0:\n",
    "        Sum += i**2\n",
    "print(Sum)"
   ]
  },
  {
   "cell_type": "code",
   "execution_count": 214,
   "id": "826b188a",
   "metadata": {},
   "outputs": [
    {
     "name": "stdout",
     "output_type": "stream",
     "text": [
      "Enter any integer : 10\n",
      "220\n"
     ]
    }
   ],
   "source": [
    "n = int(input('Enter any integer : '))\n",
    "Sum = 0\n",
    "for i in range(0,n+1,2):\n",
    "    Sum += i**2\n",
    "print(Sum)"
   ]
  },
  {
   "cell_type": "code",
   "execution_count": 215,
   "id": "a0d85b34",
   "metadata": {},
   "outputs": [
    {
     "name": "stdout",
     "output_type": "stream",
     "text": [
      "Enter any integer : 10\n",
      "220\n"
     ]
    }
   ],
   "source": [
    "n = int(input('Enter any integer : '))\n",
    "Sum = 0\n",
    "i = 1\n",
    "while i <= n:\n",
    "    if i % 2 == 0:\n",
    "        Sum += i**2\n",
    "    i += 1\n",
    "print(Sum)"
   ]
  },
  {
   "cell_type": "code",
   "execution_count": null,
   "id": "bfa9e0b6",
   "metadata": {},
   "outputs": [],
   "source": [
    "#P16. Write a program using for loop to calculate the value of an investment.\n",
    "#Input an initial value of investement and annual interest,and calculate the value of investment over time.\n",
    "#Future value = investment amount x (1 + (interest rate x length of investment)"
   ]
  },
  {
   "cell_type": "code",
   "execution_count": 218,
   "id": "b8f71ead",
   "metadata": {},
   "outputs": [
    {
     "name": "stdout",
     "output_type": "stream",
     "text": [
      "Enter investment amt: 20000\n",
      "Enter interest rate in pc per yr : 12\n",
      "Enter for how many years want to invest : 5\n",
      "22400.0\n",
      "25088.0\n",
      "28098.56\n",
      "31470.39\n",
      "35246.83\n"
     ]
    }
   ],
   "source": [
    "amt = int(input('Enter investment amt: '))\n",
    "interest = int(input('Enter interest rate in pc per yr : '))\n",
    "length_of_investement = (int(input('Enter for how many years want to invest : ')))\n",
    "value = amt * (1 + (interest * length_of_investement))\n",
    "\n",
    "#loop for yrs\n",
    "for i in range(1,length_of_investement+1):\n",
    "    amt *= (1 + interest/100)\n",
    "    print(round(amt,2))"
   ]
  },
  {
   "cell_type": "code",
   "execution_count": 223,
   "id": "2940f6d2",
   "metadata": {},
   "outputs": [
    {
     "name": "stdout",
     "output_type": "stream",
     "text": [
      "Enter initial value of investment : 20000\n",
      "Enter annual interest rate : 12\n",
      "Enter length of investment in years : 5\n",
      "Value of investement over 1 yrs: 22400\n",
      "Value of investement over 2 yrs: 25088\n",
      "Value of investement over 3 yrs: 28099\n",
      "Value of investement over 4 yrs: 31470\n",
      "Value of investement over 5 yrs: 35247\n"
     ]
    }
   ],
   "source": [
    "amt = int(input(\"Enter initial value of investment : \"))\n",
    "roi = int(input(\"Enter annual interest rate : \"))\n",
    "yrs = int(input(\"Enter length of investment in years : \"))\n",
    "value_yrs = amt\n",
    "i = 1\n",
    "while i <= yrs:\n",
    "    value_yrs *= (1 + (roi/100))\n",
    "    print(f'Value of investement over {i} yrs: {round(value_yrs)}')\n",
    "    i += 1"
   ]
  },
  {
   "cell_type": "markdown",
   "id": "60841620",
   "metadata": {},
   "source": [
    "## Thank You!"
   ]
  }
 ],
 "metadata": {
  "kernelspec": {
   "display_name": "Python 3 (ipykernel)",
   "language": "python",
   "name": "python3"
  },
  "language_info": {
   "codemirror_mode": {
    "name": "ipython",
    "version": 3
   },
   "file_extension": ".py",
   "mimetype": "text/x-python",
   "name": "python",
   "nbconvert_exporter": "python",
   "pygments_lexer": "ipython3",
   "version": "3.9.12"
  }
 },
 "nbformat": 4,
 "nbformat_minor": 5
}
