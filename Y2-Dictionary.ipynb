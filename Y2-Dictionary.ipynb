{
 "cells": [
  {
   "cell_type": "code",
   "execution_count": 1,
   "id": "5de9fe96",
   "metadata": {},
   "outputs": [
    {
     "data": {
      "text/plain": [
       "True"
      ]
     },
     "execution_count": 1,
     "metadata": {},
     "output_type": "execute_result"
    }
   ],
   "source": [
    "#Q1\n",
    "#Write a Python program that checks if a key exists in a dictionary or not\n",
    "d= {'a':4,'b':6}\n",
    "key = 'a'\n",
    "key in d"
   ]
  },
  {
   "cell_type": "code",
   "execution_count": 2,
   "id": "197972ce",
   "metadata": {},
   "outputs": [
    {
     "name": "stdout",
     "output_type": "stream",
     "text": [
      "True\n"
     ]
    }
   ],
   "source": [
    "#method1\n",
    "my_dict ={\"a\":1,\"b\":2,\"c\":3}\n",
    "key= \"a\"\n",
    "print(key in my_dict)"
   ]
  },
  {
   "cell_type": "code",
   "execution_count": 3,
   "id": "27d84182",
   "metadata": {},
   "outputs": [
    {
     "name": "stdout",
     "output_type": "stream",
     "text": [
      "False\n"
     ]
    }
   ],
   "source": [
    "my_dict ={\"a\":1,\"b\":2,\"c\":3}\n",
    "key= \"d\"\n",
    "print(key in my_dict)"
   ]
  },
  {
   "cell_type": "code",
   "execution_count": 12,
   "id": "63057390",
   "metadata": {},
   "outputs": [
    {
     "name": "stdout",
     "output_type": "stream",
     "text": [
      "{'January': 45, 'February': 56, 'March': 67, 'April': 67}\n"
     ]
    }
   ],
   "source": [
    "#Q2\n",
    "#Write a Python program that adds a new key-value pair to a dictionary only if the key doesn't exist already.\n",
    "#If the key-value pair exists in the dictionary, do not update the existing value. \n",
    "#The dictionary should not be modified in this case.\n",
    "my_dict={\"January\": 45, \"February\": 56, \"March\": 67}\n",
    "new_key= \"April\"\n",
    "new_value= 67\n",
    "if new_key not in my_dict:\n",
    "    my_dict[new_key] = new_value\n",
    "print(my_dict)"
   ]
  },
  {
   "cell_type": "code",
   "execution_count": 18,
   "id": "ed40ab19",
   "metadata": {},
   "outputs": [
    {
     "data": {
      "text/plain": [
       "True"
      ]
     },
     "execution_count": 18,
     "metadata": {},
     "output_type": "execute_result"
    }
   ],
   "source": [
    "45 in {\"January\": 45, \"February\": 56, \"March\": 67}.values()"
   ]
  },
  {
   "cell_type": "code",
   "execution_count": 20,
   "id": "bb168054",
   "metadata": {},
   "outputs": [
    {
     "data": {
      "text/plain": [
       "True"
      ]
     },
     "execution_count": 20,
     "metadata": {},
     "output_type": "execute_result"
    }
   ],
   "source": [
    "\"April\" not in {\"January\": 45, \"February\": 56, \"March\": 67}"
   ]
  },
  {
   "cell_type": "code",
   "execution_count": 21,
   "id": "b36e1953",
   "metadata": {},
   "outputs": [
    {
     "name": "stdout",
     "output_type": "stream",
     "text": [
      "{'January': 45, 'February': 56, 'March': 67}\n"
     ]
    }
   ],
   "source": [
    "my_dict={\"January\": 45, \"February\": 56, \"March\": 67}\n",
    "new_key= \"January\"\n",
    "new_value= 67\n",
    "\n",
    "if new_key not in my_dict:\n",
    "    my_dict[new_key] = new_value\n",
    "print(my_dict)"
   ]
  },
  {
   "cell_type": "code",
   "execution_count": 28,
   "id": "a8a2018d",
   "metadata": {},
   "outputs": [
    {
     "name": "stdout",
     "output_type": "stream",
     "text": [
      "{'a': 1, 'b': 2, 'c': 4, 'd': 6, 'e': 8}\n"
     ]
    }
   ],
   "source": [
    "#Q3\n",
    "#Write a Python program that merges two dictionaries and prints the resulting dictionary.\n",
    "#\"Merging\" the dictionaries involves making a new dictionary with the key-value pairs in both dictionaries.\n",
    "\n",
    "my_dict1 = {\"a\": 1, \"b\": 2, \"c\": 3}\n",
    "my_dict2 = {\"c\": 4, \"d\": 6, \"e\": 8}\n",
    "\n",
    "my_dict1.update(my_dict2)\n",
    "print(my_dict1)"
   ]
  },
  {
   "cell_type": "code",
   "execution_count": 33,
   "id": "60453f04",
   "metadata": {},
   "outputs": [
    {
     "data": {
      "text/plain": [
       "{'a': 1, 'b': 2, 'c': 4}"
      ]
     },
     "execution_count": 33,
     "metadata": {},
     "output_type": "execute_result"
    }
   ],
   "source": [
    "my_dict1 = {\"a\": 1, \"b\": 2, \"c\": 3,\"c\": 4}   #dictionary will not allow repeated keys.\n",
    "my_dict1"
   ]
  },
  {
   "cell_type": "code",
   "execution_count": 31,
   "id": "32948d64",
   "metadata": {},
   "outputs": [
    {
     "ename": "TypeError",
     "evalue": "unsupported operand type(s) for |: 'dict' and 'dict'",
     "output_type": "error",
     "traceback": [
      "\u001b[1;31m---------------------------------------------------------------------------\u001b[0m",
      "\u001b[1;31mTypeError\u001b[0m                                 Traceback (most recent call last)",
      "\u001b[1;32m~\\AppData\\Local\\Temp/ipykernel_9824/917538783.py\u001b[0m in \u001b[0;36m<module>\u001b[1;34m\u001b[0m\n\u001b[0;32m      2\u001b[0m \u001b[0mmy_dict2\u001b[0m \u001b[1;33m=\u001b[0m \u001b[1;33m{\u001b[0m\u001b[1;34m\"c\"\u001b[0m\u001b[1;33m:\u001b[0m \u001b[1;36m4\u001b[0m\u001b[1;33m,\u001b[0m \u001b[1;34m\"d\"\u001b[0m\u001b[1;33m:\u001b[0m \u001b[1;36m6\u001b[0m\u001b[1;33m,\u001b[0m \u001b[1;34m\"e\"\u001b[0m\u001b[1;33m:\u001b[0m \u001b[1;36m8\u001b[0m\u001b[1;33m}\u001b[0m\u001b[1;33m\u001b[0m\u001b[1;33m\u001b[0m\u001b[0m\n\u001b[0;32m      3\u001b[0m \u001b[1;33m\u001b[0m\u001b[0m\n\u001b[1;32m----> 4\u001b[1;33m \u001b[0mfinal_dict\u001b[0m\u001b[1;33m=\u001b[0m \u001b[0mmy_dict1\u001b[0m \u001b[1;33m|\u001b[0m \u001b[0mmy_dict2\u001b[0m\u001b[1;33m\u001b[0m\u001b[1;33m\u001b[0m\u001b[0m\n\u001b[0m\u001b[0;32m      5\u001b[0m \u001b[0mprint\u001b[0m\u001b[1;33m(\u001b[0m\u001b[0mfinal_dict\u001b[0m\u001b[1;33m)\u001b[0m\u001b[1;33m\u001b[0m\u001b[1;33m\u001b[0m\u001b[0m\n",
      "\u001b[1;31mTypeError\u001b[0m: unsupported operand type(s) for |: 'dict' and 'dict'"
     ]
    }
   ],
   "source": [
    "my_dict1 = {\"a\": 1, \"b\": 2, \"c\": 3}\n",
    "my_dict2 = {\"c\": 4, \"d\": 6, \"e\": 8}\n",
    "\n",
    "final_dict= my_dict1 | my_dict2\n",
    "print(final_dict)"
   ]
  },
  {
   "cell_type": "code",
   "execution_count": 29,
   "id": "5bbd1bc9",
   "metadata": {},
   "outputs": [
    {
     "name": "stdout",
     "output_type": "stream",
     "text": [
      "{'a': 1, 'b': 2, 'c': 4, 'd': 6, 'e': 8}\n"
     ]
    }
   ],
   "source": [
    "#method2\n",
    "my_dict1 = {\"a\": 1, \"b\": 2, \"c\": 3}\n",
    "my_dict2 = {\"c\": 4, \"d\": 6, \"e\": 8}\n",
    "\n",
    "final_dict= {**my_dict1,**my_dict2}\n",
    "print(final_dict)"
   ]
  },
  {
   "cell_type": "code",
   "execution_count": 35,
   "id": "1a5c047d",
   "metadata": {},
   "outputs": [
    {
     "name": "stdout",
     "output_type": "stream",
     "text": [
      "True\n"
     ]
    }
   ],
   "source": [
    "#Q4\n",
    "#Write a Python program that checks if all values in a dictionary are equal.\n",
    "my_dict ={\"a\": 4, \"b\": 4, \"c\": 4,\"d\":4}\n",
    "\n",
    "num_unique_values = len(set(my_dict.values()))   #There vl be only 1 value if all dict values are equal.\n",
    "#print(num_unique_values)\n",
    "\n",
    "if num_unique_values == 0:\n",
    "    print(\"Empty\")\n",
    "elif num_unique_values ==1:\n",
    "    print(True)\n",
    "else:\n",
    "    print(False)"
   ]
  },
  {
   "cell_type": "code",
   "execution_count": 36,
   "id": "7c5a0310",
   "metadata": {},
   "outputs": [
    {
     "data": {
      "text/plain": [
       "dict_values([4, 4, 4, 4])"
      ]
     },
     "execution_count": 36,
     "metadata": {},
     "output_type": "execute_result"
    }
   ],
   "source": [
    "my_dict.values()"
   ]
  },
  {
   "cell_type": "code",
   "execution_count": 37,
   "id": "9d055de2",
   "metadata": {},
   "outputs": [
    {
     "data": {
      "text/plain": [
       "{4}"
      ]
     },
     "execution_count": 37,
     "metadata": {},
     "output_type": "execute_result"
    }
   ],
   "source": [
    "set(my_dict.values())"
   ]
  },
  {
   "cell_type": "code",
   "execution_count": 38,
   "id": "6805b278",
   "metadata": {},
   "outputs": [
    {
     "data": {
      "text/plain": [
       "1"
      ]
     },
     "execution_count": 38,
     "metadata": {},
     "output_type": "execute_result"
    }
   ],
   "source": [
    "len(set(my_dict.values())) "
   ]
  },
  {
   "cell_type": "code",
   "execution_count": 40,
   "id": "b70b46eb",
   "metadata": {},
   "outputs": [
    {
     "name": "stdout",
     "output_type": "stream",
     "text": [
      "2\n",
      "False\n"
     ]
    }
   ],
   "source": [
    "my_dict ={\"a\": 4, \"b\": 6, \"c\": 4,\"d\":4}\n",
    "\n",
    "num_unique_values = len(set(my_dict.values()))\n",
    "print(num_unique_values)\n",
    "\n",
    "if num_unique_values == 0:\n",
    "    print(\"Empty\")\n",
    "elif num_unique_values ==1:\n",
    "    print(True)\n",
    "else:\n",
    "    print(False)"
   ]
  },
  {
   "cell_type": "code",
   "execution_count": 41,
   "id": "d81a90a4",
   "metadata": {},
   "outputs": [
    {
     "data": {
      "text/plain": [
       "{4, 6}"
      ]
     },
     "execution_count": 41,
     "metadata": {},
     "output_type": "execute_result"
    }
   ],
   "source": [
    "set(my_dict.values())"
   ]
  },
  {
   "cell_type": "code",
   "execution_count": 53,
   "id": "be668594",
   "metadata": {},
   "outputs": [
    {
     "name": "stdout",
     "output_type": "stream",
     "text": [
      "7\n"
     ]
    }
   ],
   "source": [
    "#Q5\n",
    "#Write a Python program that prints the largest value in a dictionary.\n",
    "\n",
    "my_dict ={\"a\": 4, \"b\": 6, \"c\": 7}\n",
    "\n",
    "if my_dict:  #truthy falsy condn\n",
    "    max_value= max(set(my_dict.values()))\n",
    "    print(max_value)\n",
    "else:\n",
    "    print(None)"
   ]
  },
  {
   "cell_type": "code",
   "execution_count": 45,
   "id": "fbf99abc",
   "metadata": {},
   "outputs": [
    {
     "data": {
      "text/plain": [
       "{4, 6, 7}"
      ]
     },
     "execution_count": 45,
     "metadata": {},
     "output_type": "execute_result"
    }
   ],
   "source": [
    "set(my_dict.values())"
   ]
  },
  {
   "cell_type": "code",
   "execution_count": 54,
   "id": "935a6b28",
   "metadata": {},
   "outputs": [
    {
     "data": {
      "text/plain": [
       "7"
      ]
     },
     "execution_count": 54,
     "metadata": {},
     "output_type": "execute_result"
    }
   ],
   "source": [
    "max(set(my_dict.values()))   #remove duplicate values using set"
   ]
  },
  {
   "cell_type": "code",
   "execution_count": 51,
   "id": "ff49efda",
   "metadata": {},
   "outputs": [
    {
     "name": "stdout",
     "output_type": "stream",
     "text": [
      "7\n"
     ]
    }
   ],
   "source": [
    "my_dict ={\"a\": 4, \"b\": 6, \"c\": 7,'d':6}\n",
    "\n",
    "if my_dict:  #truthy condn\n",
    "    print(max(set(my_dict.values())))\n",
    "\n",
    "else:\n",
    "    print(None)"
   ]
  },
  {
   "cell_type": "code",
   "execution_count": 52,
   "id": "97688739",
   "metadata": {},
   "outputs": [
    {
     "data": {
      "text/plain": [
       "7"
      ]
     },
     "execution_count": 52,
     "metadata": {},
     "output_type": "execute_result"
    }
   ],
   "source": [
    "max({\"a\": 4, \"b\": 6, \"c\": 7,'d':6}.values())"
   ]
  },
  {
   "cell_type": "code",
   "execution_count": 55,
   "id": "9f21547a",
   "metadata": {},
   "outputs": [
    {
     "name": "stdout",
     "output_type": "stream",
     "text": [
      "4\n"
     ]
    }
   ],
   "source": [
    "#Q6\n",
    "#Write a Python program that prints the smallest value in a dictionary.\n",
    "my_dict ={\"a\": 4, \"b\": 6, \"c\": 7,'d':6}\n",
    "\n",
    "if my_dict:\n",
    "    min_value= min(set(my_dict.values()))\n",
    "    print(min_value)\n",
    "else:\n",
    "    print(None)"
   ]
  },
  {
   "cell_type": "code",
   "execution_count": 56,
   "id": "41280053",
   "metadata": {},
   "outputs": [
    {
     "name": "stdout",
     "output_type": "stream",
     "text": [
      "4\n"
     ]
    }
   ],
   "source": [
    "print(min(set(my_dict.values())))"
   ]
  },
  {
   "cell_type": "code",
   "execution_count": 66,
   "id": "0592a318",
   "metadata": {},
   "outputs": [
    {
     "name": "stdout",
     "output_type": "stream",
     "text": [
      "{4: 3, 2: 2, 7: 3}\n"
     ]
    }
   ],
   "source": [
    "#Q7\n",
    "#Find Frequency of Values in a Dictionary\n",
    "my_dict = {\"a\": 4,\"b\": 4,\"c\": 2,\"d\": 7,\"e\": 4,\"f\": 2,\"g\": 7,\"h\": 7}\n",
    "\n",
    "freq_dict={}\n",
    "\n",
    "for values in my_dict.values():\n",
    "    if values in freq_dict:\n",
    "        freq_dict[values] +=1\n",
    "    else:\n",
    "        freq_dict[values] =1\n",
    "print(freq_dict)"
   ]
  },
  {
   "cell_type": "code",
   "execution_count": 68,
   "id": "6e0dcf3d",
   "metadata": {},
   "outputs": [
    {
     "name": "stdout",
     "output_type": "stream",
     "text": [
      "{4: 3, 2: 2, 7: 3}\n"
     ]
    }
   ],
   "source": [
    "my_dict = {\"a\": 4,\"b\": 4,\"c\": 2,\"d\": 7,\"e\": 4,\"f\": 2,\"g\": 7,\"h\": 7}\n",
    "\n",
    "freq_dict ={}\n",
    "\n",
    "for value in my_dict.values():\n",
    "    if value not in freq_dict:\n",
    "        freq_dict[value] = 1\n",
    "    else:\n",
    "        freq_dict[value]+=1\n",
    "print(freq_dict)"
   ]
  },
  {
   "cell_type": "code",
   "execution_count": 79,
   "id": "111c013b",
   "metadata": {},
   "outputs": [
    {
     "name": "stdout",
     "output_type": "stream",
     "text": [
      "{'a': 1, 'b': 2, 'c': 3, 'd': 4}\n"
     ]
    }
   ],
   "source": [
    "#Q8\n",
    "#Make a Dictionary from Nested Lists\n",
    "my_list = [[\"a\", 1], [\"b\", 2], [\"c\", 3], [\"d\", 4]]\n",
    "\n",
    "new_dict= {}\n",
    "\n",
    "for nested_list in my_list:\n",
    "    key = nested_list[0]\n",
    "    value= nested_list[1]\n",
    "    \n",
    "    #creating a dict\n",
    "    new_dict[key] = value\n",
    "print(new_dict)"
   ]
  },
  {
   "cell_type": "code",
   "execution_count": 91,
   "id": "7a4ddd6c",
   "metadata": {},
   "outputs": [
    {
     "name": "stdout",
     "output_type": "stream",
     "text": [
      "157\n"
     ]
    }
   ],
   "source": [
    "#Q9\n",
    "#Write a Python program that prints the maximum sum of the values in a dictionary.\n",
    "my_dict = {\"a\": [1, 2, 3],\"b\": [4, 0, -4],\"c\": [3, 5, 9],\"d\": [45, 12, 100]}\n",
    "\n",
    "max_sum = None #initial condn\n",
    "\n",
    "for values in my_dict.values():\n",
    "    list_sum = sum(values)\n",
    "    #print(list_sum)\n",
    "    \n",
    "    if max_sum is None:\n",
    "        max_sum = list_sum\n",
    "    elif max_sum < list_sum:\n",
    "        max_sum = list_sum\n",
    "print(max_sum)"
   ]
  },
  {
   "cell_type": "code",
   "execution_count": 8,
   "id": "aa65b6a5",
   "metadata": {},
   "outputs": [
    {
     "name": "stdout",
     "output_type": "stream",
     "text": [
      "{'h': 1, 'e': 1, 'l': 3, 'o': 2, 'w': 1, 'r': 1, 'd': 1}\n"
     ]
    }
   ],
   "source": [
    "#Q10\n",
    "#Make a Frequency Dictionary for the Characters in a String (*)\n",
    "\n",
    "#Write a Python program that creates and displays a dictionary,\n",
    "#that maps each letter in a string to how many times the character occurs in the string (its frequency).\n",
    "\n",
    "#The dictionary should only include the characters in the string. \n",
    "#The test should be case-insensitive (\"A\" should be counted as \"a\").\n",
    "#The keys in the dictionary should be lowercase letters.\n",
    "\n",
    "my_string = \"Hello, World\"\n",
    "freq_dict ={}\n",
    "\n",
    "for char in my_string.lower():  # to make case insensetive\n",
    "    #check for only alphabetical chars\n",
    "    if char.isalpha():\n",
    "        if char in freq_dict:\n",
    "            freq_dict[char]+=1\n",
    "        else:\n",
    "            freq_dict[char] =1\n",
    "        \n",
    "print((freq_dict))"
   ]
  },
  {
   "cell_type": "code",
   "execution_count": 9,
   "id": "477841ae",
   "metadata": {},
   "outputs": [
    {
     "name": "stdout",
     "output_type": "stream",
     "text": [
      "{'p': 1, 'y': 1, 't': 1, 'h': 1, 'o': 1, 'n': 1}\n"
     ]
    }
   ],
   "source": [
    "my_string = \"Python 123 @#$\"\n",
    "freq_dict ={}\n",
    "\n",
    "for char in my_string.lower():  # to make case insensetive\n",
    "    #check for only alphabetical chars\n",
    "    if char.isalpha():\n",
    "        if char in freq_dict:\n",
    "            freq_dict[char]+=1\n",
    "        else:\n",
    "            freq_dict[char] =1\n",
    "        \n",
    "print((freq_dict))"
   ]
  },
  {
   "cell_type": "code",
   "execution_count": 11,
   "id": "ee1638a9",
   "metadata": {},
   "outputs": [
    {
     "name": "stdout",
     "output_type": "stream",
     "text": [
      "{'a': [2, 3, 4], 'b': [3, 5, 7], 'c': [1, 9, 10], 'd': [1, 3, 4]}\n"
     ]
    }
   ],
   "source": [
    "#Q11\n",
    "#Write a Python program that sorts (in ascending order) the lists contained as values in a dictionary.\n",
    "\n",
    "#The dictionary contains key-value pairs that match strings to lists. You need to sort these lists.\n",
    "#The lists have to be mutated (changed).\n",
    "\n",
    "my_dict = {\"a\": [4, 3, 2],\"b\": [5, 3, 7],\"c\": [1, 9, 10],\"d\": [3, 4, 1]}\n",
    "\n",
    "for values in my_dict.values():\n",
    "    values.sort()\n",
    "print(my_dict)"
   ]
  },
  {
   "cell_type": "markdown",
   "id": "49bc51b0",
   "metadata": {},
   "source": [
    "The .sort() method sorts a list (the list is mutated/changed).Use sort when u want to modify original list.\n",
    "\n",
    "Be careful with using sorted() because it only returns a sorted copy of the list.Use when u want a modified copy of the list."
   ]
  },
  {
   "cell_type": "code",
   "execution_count": 14,
   "id": "e48e2384",
   "metadata": {},
   "outputs": [
    {
     "name": "stdout",
     "output_type": "stream",
     "text": [
      "{'a': [4, 3, 2], 'b': [5, 3, 7], 'c': [1, 9, 10], 'd': [3, 4, 1]}\n"
     ]
    }
   ],
   "source": [
    "my_dict = {\"a\": [4, 3, 2],\"b\": [5, 3, 7],\"c\": [1, 9, 10],\"d\": [3, 4, 1]}\n",
    "\n",
    "for values in my_dict.values():\n",
    "    sorted(values)   #see,sorted don't modify original list.Use .sort() to modify original list.\n",
    "print(my_dict)"
   ]
  },
  {
   "cell_type": "code",
   "execution_count": 15,
   "id": "8fe50ed8",
   "metadata": {},
   "outputs": [
    {
     "name": "stdout",
     "output_type": "stream",
     "text": [
      "{'a': [2, 3, 4], 'b': [3, 5, 7], 'c': [1, 9, 10], 'd': [1, 3, 4]}\n"
     ]
    }
   ],
   "source": [
    "my_dict = {\"a\": [4, 3, 2],\"b\": [5, 3, 7],\"c\": [1, 9, 10],\"d\": [3, 4, 1]}\n",
    "for values in my_dict.values():\n",
    "    values.sort()\n",
    "print(my_dict)"
   ]
  },
  {
   "cell_type": "code",
   "execution_count": 18,
   "id": "bc9b4581",
   "metadata": {},
   "outputs": [
    {
     "data": {
      "text/plain": [
       "[('description', 'shoe'),\n",
       " ('price', 4.56),\n",
       " ('colors', ['green', 'blue', 'red'])]"
      ]
     },
     "execution_count": 18,
     "metadata": {},
     "output_type": "execute_result"
    }
   ],
   "source": [
    "#Q12\n",
    "#Convert Dictionary into a List of Lists (*)\n",
    "#Write a Python program that takes the content of a dictionary and converts it into a list of lists.\n",
    "#Each nested list should contain a key as the first element and its corresponding value as the second element.\n",
    "\n",
    "product_info = {\"description\": \"shoe\",\"price\": 4.56,\"colors\": [\"green\", \"blue\", \"red\"],}\n",
    "new_list= list(product_info.items())\n",
    "new_list"
   ]
  },
  {
   "cell_type": "code",
   "execution_count": 19,
   "id": "3c8ae736",
   "metadata": {},
   "outputs": [
    {
     "name": "stdout",
     "output_type": "stream",
     "text": [
      "[['description', 'shoe'], ['price', 4.56], ['colors', ['green', 'blue', 'red']]]\n"
     ]
    }
   ],
   "source": [
    "#Method1\n",
    "product_info = {\"description\": \"shoe\",\"price\": 4.56,\"colors\": [\"green\", \"blue\", \"red\"],}\n",
    "new_list=[]\n",
    "for key,value in product_info.items():\n",
    "    new_list.append([key,value])  ##for nested list,add key,value pair in [],[key,value]\n",
    "print(new_list)"
   ]
  },
  {
   "cell_type": "code",
   "execution_count": 21,
   "id": "410d37c4",
   "metadata": {},
   "outputs": [
    {
     "name": "stdout",
     "output_type": "stream",
     "text": [
      "[('description', 'shoe'), ('price', 4.56), ('colors', ['green', 'blue', 'red'])]\n"
     ]
    }
   ],
   "source": [
    "product_info = {\"description\": \"shoe\",\"price\": 4.56,\"colors\": [\"green\", \"blue\", \"red\"],}\n",
    "new_list=[]\n",
    "for key,value in product_info.items():\n",
    "    new_list.append((key,value))  #It will create tuples inside list if we don't add mention [].\n",
    "print(new_list)"
   ]
  },
  {
   "cell_type": "code",
   "execution_count": null,
   "id": "d0ca7e86",
   "metadata": {},
   "outputs": [],
   "source": []
  }
 ],
 "metadata": {
  "kernelspec": {
   "display_name": "Python 3 (ipykernel)",
   "language": "python",
   "name": "python3"
  },
  "language_info": {
   "codemirror_mode": {
    "name": "ipython",
    "version": 3
   },
   "file_extension": ".py",
   "mimetype": "text/x-python",
   "name": "python",
   "nbconvert_exporter": "python",
   "pygments_lexer": "ipython3",
   "version": "3.8.12"
  }
 },
 "nbformat": 4,
 "nbformat_minor": 5
}
