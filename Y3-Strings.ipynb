{
 "cells": [
  {
   "cell_type": "markdown",
   "id": "3f264fd5",
   "metadata": {},
   "source": [
    "100 + Python Exercises"
   ]
  },
  {
   "cell_type": "markdown",
   "id": "1717c0cd",
   "metadata": {},
   "source": [
    "# STRINGS"
   ]
  },
  {
   "cell_type": "code",
   "execution_count": 12,
   "id": "00746f97",
   "metadata": {},
   "outputs": [
    {
     "name": "stdout",
     "output_type": "stream",
     "text": [
      "0\n",
      "1\n",
      "6\n",
      "6\n",
      "8\n"
     ]
    }
   ],
   "source": [
    "# Q1\n",
    "#Write a Python program that prints the length of a string s.\n",
    "s =\"\"\n",
    "print(len(s))\n",
    "\n",
    "s =\" \"      #counts spcace as well.\n",
    "print(len(s))\n",
    "\n",
    "s =\"Hello \"\n",
    "print(len(s))\n",
    "\n",
    "s='Python'\n",
    "print(len(s))\n",
    "\n",
    "s='Amazing'\n",
    "len(s)\n",
    "\n",
    "s=' Amazing'   #counts spcace as well.\n",
    "print(len(s))"
   ]
  },
  {
   "cell_type": "code",
   "execution_count": 18,
   "id": "163200bd",
   "metadata": {},
   "outputs": [
    {
     "name": "stdout",
     "output_type": "stream",
     "text": [
      "o\n",
      "a\n"
     ]
    }
   ],
   "source": [
    "#Q2\n",
    "#Print the Character at a Specific Index\n",
    "s='hello'\n",
    "print(s[4])\n",
    "\n",
    "s='Pizza'\n",
    "print(s[4])"
   ]
  },
  {
   "cell_type": "code",
   "execution_count": 26,
   "id": "8661ccfc",
   "metadata": {},
   "outputs": [
    {
     "name": "stdout",
     "output_type": "stream",
     "text": [
      "Empty String!\n"
     ]
    }
   ],
   "source": [
    "# Code for finding index\n",
    "s= \"\"\n",
    "i=15\n",
    "#check for empty string\n",
    "if len(s) == 0:\n",
    "    print('Empty String!')\n",
    "elif i< len(s):\n",
    "    print(s[i])\n",
    "else:\n",
    "    print(\"i out of range!\")"
   ]
  },
  {
   "cell_type": "code",
   "execution_count": 38,
   "id": "fcdfc8a7",
   "metadata": {},
   "outputs": [
    {
     "name": "stdout",
     "output_type": "stream",
     "text": [
      "e\n"
     ]
    }
   ],
   "source": [
    "# method 2 using Truthy & Falsy values  RECOMMENDED!\n",
    "s= \"Hello\"\n",
    "i=1\n",
    "\n",
    "if not s:\n",
    "    print('Empty String!')\n",
    "elif i< len(s):\n",
    "    print(s[i])\n",
    "else:\n",
    "    print(\"i out of range!\")"
   ]
  },
  {
   "cell_type": "code",
   "execution_count": 44,
   "id": "976e3d91",
   "metadata": {},
   "outputs": [
    {
     "name": "stdout",
     "output_type": "stream",
     "text": [
      "nohtyP\n",
      "\n"
     ]
    }
   ],
   "source": [
    "# Q3 Reverse a String\n",
    "s= 'Python'\n",
    "\n",
    "#Method 1 STRING SLICING\n",
    "print(s[::-1])     #STRING[START:STOP:STEP]\n",
    "\n",
    "s= \"\"             # we are printing empty string.(it prints a line only)\n",
    "print(s[::-1])"
   ]
  },
  {
   "cell_type": "code",
   "execution_count": 47,
   "id": "b3ddc5b2",
   "metadata": {},
   "outputs": [
    {
     "name": "stdout",
     "output_type": "stream",
     "text": [
      "olleH\n"
     ]
    }
   ],
   "source": [
    "# METHOD2\n",
    "s = 'Hello'\n",
    "reversed_word = s[::-1]\n",
    "print(reversed_word)"
   ]
  },
  {
   "cell_type": "code",
   "execution_count": 57,
   "id": "1661c766",
   "metadata": {},
   "outputs": [
    {
     "name": "stdout",
     "output_type": "stream",
     "text": [
      "o l l e H\n",
      "olleH\n",
      "olleH\n"
     ]
    }
   ],
   "source": [
    "# METHOD 3\n",
    "s = 'Hello'\n",
    "reversed_word = \" \".join(reversed(s))  # space between reversed list of strings\n",
    "print(reversed_word)\n",
    "\n",
    "reversed_word = \"\".join(reversed(s))  # No space \n",
    "print(reversed_word)\n",
    "\n",
    "reversed_word = \"\".join(s[::-1])\n",
    "print(reversed_word)"
   ]
  },
  {
   "cell_type": "code",
   "execution_count": 55,
   "id": "1d9bfd01",
   "metadata": {},
   "outputs": [
    {
     "data": {
      "text/plain": [
       "<reversed at 0x149ffd66460>"
      ]
     },
     "execution_count": 55,
     "metadata": {},
     "output_type": "execute_result"
    }
   ],
   "source": [
    "# reversed method\n",
    "reversed(\"Hello\")   \n",
    "# it gives list of reversed objects(here,char)--> ['o','l','l','e','H']\n",
    "# \"\".join(['o','l','l','e','H'])"
   ]
  },
  {
   "cell_type": "code",
   "execution_count": 82,
   "id": "f6f6d1fe",
   "metadata": {},
   "outputs": [
    {
     "name": "stdout",
     "output_type": "stream",
     "text": [
      "Wonful\n"
     ]
    }
   ],
   "source": [
    "# Q4\n",
    "#First and Last Three Characters of a String\n",
    "s=\"Wonderful\"\n",
    "#s= \"Amazing\"\n",
    "#s=\"amaze\"\n",
    "\n",
    "# condition\n",
    "if len(s)<6 : #we need minimun 6 char for printing first & last 3 char.\n",
    "    print(\"\") # printing empty string(blank output,same as print())\n",
    "elif len(s) >= 6:\n",
    "    new_str = s[:3] + s[-3:]      # concatenate strings\n",
    "    print(new_str)"
   ]
  },
  {
   "cell_type": "code",
   "execution_count": 75,
   "id": "542889fc",
   "metadata": {},
   "outputs": [
    {
     "name": "stdout",
     "output_type": "stream",
     "text": [
      "ama ing\n"
     ]
    }
   ],
   "source": [
    "#METHOD2\n",
    "s='amazing'       #len(s) =7\n",
    "#s='amaze'\n",
    "#s=\"Wonderful\"\n",
    "if len(s)<6 :\n",
    "    print(\"\")\n",
    "elif len(s) >= 6:\n",
    "    new_str = s[:3] + \" \" + s[len(s)-3:]   # s[len(s)-3:] same as s[-3:]  # \" \" IS JUST FOR EXPLAINATION\n",
    "    print(new_str)"
   ]
  },
  {
   "cell_type": "code",
   "execution_count": 77,
   "id": "c9052961",
   "metadata": {},
   "outputs": [
    {
     "name": "stdout",
     "output_type": "stream",
     "text": [
      "Wond rful\n"
     ]
    }
   ],
   "source": [
    "# METHOD 3\n",
    "# LETS make it more simple.If we want 4 chars instead of 3 ,we vl need to change values in 3-4 diff code blocks:\n",
    "s=\"Wonderful\"\n",
    "if len(s)< 8:   # min 8char reqd(4+4)\n",
    "    print(\"\")\n",
    "elif len(s) >= 8:\n",
    "    new_str = s[:4] + \" \" + s[len(s)-4:]\n",
    "    print(new_str)"
   ]
  },
  {
   "cell_type": "code",
   "execution_count": 83,
   "id": "4122fab0",
   "metadata": {},
   "outputs": [
    {
     "name": "stdout",
     "output_type": "stream",
     "text": [
      "Wond rful\n"
     ]
    }
   ],
   "source": [
    "# To remedy this & change value only once,lets modify our code a bit\n",
    "s=\"Wonderful\"\n",
    "num_char =4\n",
    "\n",
    "if len(s)< num_char*2:   # min 8char reqd(4*2)\n",
    "    print(\"\")\n",
    "else:                    # You can use else instead of elif as well, as we are checking only one condition.\n",
    "    new_str = s[:num_char] + \" \" + s[len(s)-num_char:]\n",
    "    print(new_str)"
   ]
  },
  {
   "cell_type": "code",
   "execution_count": 87,
   "id": "d3c09458",
   "metadata": {},
   "outputs": [
    {
     "name": "stdout",
     "output_type": "stream",
     "text": [
      "amaze ments\n"
     ]
    }
   ],
   "source": [
    "s=\"amazements\"\n",
    "num_char =5\n",
    "\n",
    "if len(s)< num_char*2:   # min 8char reqd(4*2)\n",
    "    print(\"\")\n",
    "else:                    # You can use else instead of elif as well, as we are checking only one condition.\n",
    "    new_str = s[:num_char] + \" \" + s[len(s)-num_char:]   # indexing starts at 0 remember.\n",
    "    print(new_str)"
   ]
  },
  {
   "cell_type": "code",
   "execution_count": 90,
   "id": "a692b44f",
   "metadata": {},
   "outputs": [
    {
     "name": "stdout",
     "output_type": "stream",
     "text": [
      "ama nts\n"
     ]
    }
   ],
   "source": [
    "# With one small change,entire code adjusts & give right answer! Easier to code & maintain!\n",
    "s=\"amazements\"\n",
    "num_char =3\n",
    "\n",
    "if len(s)< num_char*2:   # min 8char reqd(4*2)\n",
    "    print(\"\")\n",
    "else:                    # You can use else instead of elif as well, as we are checking only one condition.\n",
    "    new_str = s[:num_char] + \" \" + s[len(s)-num_char:]   # indexing starts at 0 remember.\n",
    "    print(new_str)"
   ]
  },
  {
   "cell_type": "code",
   "execution_count": 101,
   "id": "a3b0e528",
   "metadata": {},
   "outputs": [
    {
     "data": {
      "text/plain": [
       "'yhn'"
      ]
     },
     "execution_count": 101,
     "metadata": {},
     "output_type": "execute_result"
    }
   ],
   "source": [
    "# Q5\n",
    "# Remove Characters at Even Indices\n",
    "s =\"Python\"\n",
    "new_str= s[1::2]\n",
    "new_str"
   ]
  },
  {
   "cell_type": "code",
   "execution_count": 107,
   "id": "ebd6adbf",
   "metadata": {},
   "outputs": [
    {
     "name": "stdout",
     "output_type": "stream",
     "text": [
      "els\n"
     ]
    }
   ],
   "source": [
    "# to check for even,we need min 2 char in string\n",
    "s =\"Hellos\"\n",
    "#s=\"\"\n",
    "if len(s) <2:\n",
    "    print()\n",
    "#Check for even\n",
    "else:\n",
    "    new_str = s[1::2]\n",
    "    print(new_str)"
   ]
  },
  {
   "cell_type": "code",
   "execution_count": 112,
   "id": "d45787aa",
   "metadata": {},
   "outputs": [
    {
     "name": "stdout",
     "output_type": "stream",
     "text": [
      "oig\n"
     ]
    }
   ],
   "source": [
    "# METHOD1 (USING FOR LOOP)\n",
    "s= \"Coding\"   # len(s)= 6\n",
    "new_str =\"\"  # we will concatenate later\n",
    "\n",
    "for i in range(len(s)):\n",
    "    \n",
    "    # filter OUT even char\n",
    "    #CHECK FOR ODD\n",
    "    if i % 2 != 0 :\n",
    "        new_str += s[i]\n",
    "print(new_str)\n",
    "        "
   ]
  },
  {
   "cell_type": "code",
   "execution_count": 109,
   "id": "ca6ed370",
   "metadata": {},
   "outputs": [
    {
     "data": {
      "text/plain": [
       "'oig'"
      ]
     },
     "execution_count": 109,
     "metadata": {},
     "output_type": "execute_result"
    }
   ],
   "source": [
    "s= \"Coding\"\n",
    "new_str= s[1::2]\n",
    "new_str"
   ]
  },
  {
   "cell_type": "code",
   "execution_count": 115,
   "id": "d594caaa",
   "metadata": {},
   "outputs": [
    {
     "name": "stdout",
     "output_type": "stream",
     "text": [
      "oig\n"
     ]
    }
   ],
   "source": [
    "# METHOD 2  Check odd numbers in range() fn itself with giving step parameter.\n",
    "\n",
    "s= \"Coding\"   # len(s)= 6\n",
    "new_str =\"\"  # empty string to store values after operation.\n",
    "\n",
    "for i in range(1,len(s),2):   #its same as range(start:stop:step),step is used to jump integers.Same as [1::2]\n",
    "    new_str+= s[i]\n",
    "print(new_str)"
   ]
  },
  {
   "cell_type": "code",
   "execution_count": 119,
   "id": "09ac5b81",
   "metadata": {},
   "outputs": [
    {
     "name": "stdout",
     "output_type": "stream",
     "text": [
      "ia\n"
     ]
    }
   ],
   "source": [
    "s='Pizaa'\n",
    "new_str=\"\"\n",
    "\n",
    "for i in range(1,len(s),2):\n",
    "    new_str+= s[i]\n",
    "print(new_str)"
   ]
  },
  {
   "cell_type": "code",
   "execution_count": 125,
   "id": "0068da0a",
   "metadata": {},
   "outputs": [
    {
     "name": "stdout",
     "output_type": "stream",
     "text": [
      "\n"
     ]
    }
   ],
   "source": [
    "s='P'\n",
    "new_str=\"\"\n",
    "\n",
    "for i in range(1,len(s),2):\n",
    "    new_str+= s[i]   #indexing starts at 0 while len starts at 1.So,blank output\n",
    "print(new_str)"
   ]
  },
  {
   "cell_type": "code",
   "execution_count": 126,
   "id": "a34702e5",
   "metadata": {},
   "outputs": [
    {
     "data": {
      "text/plain": [
       "True"
      ]
     },
     "execution_count": 126,
     "metadata": {},
     "output_type": "execute_result"
    }
   ],
   "source": [
    "# Q6\n",
    "#  Check if a String Only Contains Numbers\n",
    "s='234'\n",
    "s.isdigit()"
   ]
  },
  {
   "cell_type": "code",
   "execution_count": 129,
   "id": "6d64117c",
   "metadata": {},
   "outputs": [
    {
     "data": {
      "text/plain": [
       "False"
      ]
     },
     "execution_count": 129,
     "metadata": {},
     "output_type": "execute_result"
    }
   ],
   "source": [
    "s='234g'\n",
    "s.isnumeric()"
   ]
  },
  {
   "cell_type": "code",
   "execution_count": 130,
   "id": "28bda086",
   "metadata": {},
   "outputs": [
    {
     "data": {
      "text/plain": [
       "True"
      ]
     },
     "execution_count": 130,
     "metadata": {},
     "output_type": "execute_result"
    }
   ],
   "source": [
    "s='234g'\n",
    "s.isalnum()"
   ]
  },
  {
   "cell_type": "code",
   "execution_count": 131,
   "id": "32b88014",
   "metadata": {},
   "outputs": [
    {
     "data": {
      "text/plain": [
       "False"
      ]
     },
     "execution_count": 131,
     "metadata": {},
     "output_type": "execute_result"
    }
   ],
   "source": [
    "s='234g'\n",
    "s.isalpha()"
   ]
  },
  {
   "cell_type": "code",
   "execution_count": 144,
   "id": "2c48e0d1",
   "metadata": {},
   "outputs": [
    {
     "name": "stdout",
     "output_type": "stream",
     "text": [
      "False\n"
     ]
    }
   ],
   "source": [
    "s=\"Hello\"\n",
    "s='4567'\n",
    "s=\"\"\n",
    "s=\"0.567\"\n",
    "print(s.isdecimal())"
   ]
  },
  {
   "cell_type": "code",
   "execution_count": 135,
   "id": "09a90135",
   "metadata": {},
   "outputs": [
    {
     "name": "stdout",
     "output_type": "stream",
     "text": [
      "True\n"
     ]
    }
   ],
   "source": [
    "s='4567'\n",
    "print(s.isnumeric())"
   ]
  },
  {
   "cell_type": "code",
   "execution_count": 142,
   "id": "0b688a51",
   "metadata": {},
   "outputs": [
    {
     "name": "stdout",
     "output_type": "stream",
     "text": [
      "True\n"
     ]
    }
   ],
   "source": [
    "s='4567'\n",
    "print(s.isascii())"
   ]
  },
  {
   "cell_type": "code",
   "execution_count": 146,
   "id": "dc0c20e3",
   "metadata": {},
   "outputs": [
    {
     "name": "stdout",
     "output_type": "stream",
     "text": [
      "False\n",
      "True\n"
     ]
    }
   ],
   "source": [
    "s = \"Hello59\"\n",
    "\n",
    "print(s.isdecimal())\n",
    "print(s.isalnum())"
   ]
  },
  {
   "cell_type": "code",
   "execution_count": 150,
   "id": "c200f4a5",
   "metadata": {},
   "outputs": [
    {
     "name": "stdout",
     "output_type": "stream",
     "text": [
      "['H', 'llo']\n",
      "Hllo\n"
     ]
    }
   ],
   "source": [
    "# Q7\n",
    "# Remove nth Character from a String\n",
    "s =\"Hello\"\n",
    "new_str= s.split('e')  # lets remove e from s\n",
    "print(new_str)\n",
    "\n",
    "new_str = \"\".join(new_str)\n",
    "print(new_str)"
   ]
  },
  {
   "cell_type": "code",
   "execution_count": 156,
   "id": "3236ad85",
   "metadata": {},
   "outputs": [
    {
     "name": "stdout",
     "output_type": "stream",
     "text": [
      "['']\n",
      "\n"
     ]
    }
   ],
   "source": [
    "s =\"\"\n",
    "new_str= s.split(' ')  # lets remove e from s\n",
    "print(new_str)\n",
    "\n",
    "new_str = \"\".join(new_str)\n",
    "print(new_str)"
   ]
  },
  {
   "cell_type": "code",
   "execution_count": 154,
   "id": "55a41e40",
   "metadata": {},
   "outputs": [
    {
     "name": "stdout",
     "output_type": "stream",
     "text": [
      "['D', 'g']\n",
      "Dg\n"
     ]
    }
   ],
   "source": [
    "s =\"Dog\"\n",
    "new_str= s.split('o')  # lets remove e from s\n",
    "print(new_str)\n",
    "\n",
    "new_str = \"\".join(new_str)\n",
    "print(new_str)"
   ]
  },
  {
   "cell_type": "code",
   "execution_count": 173,
   "id": "1b9ab901",
   "metadata": {},
   "outputs": [
    {
     "name": "stdout",
     "output_type": "stream",
     "text": [
      "Hllo\n"
     ]
    }
   ],
   "source": [
    "# METHOD 2 RIGHT METHOD\n",
    "# Above methods are not good enough as we have to write split value many times.Lets simplify a bit.\n",
    "s= 'Hello'  #len(s) =5\n",
    "n=1         # Here, n is index position we want to skip\n",
    "\n",
    "if (len(s)==0) or (n >= len(s)):\n",
    "    print(s)\n",
    "else:\n",
    "    new_str =\"\" # Always make empty varibale out of the loop in most cases.\n",
    "    for i in range(len(s)):   #range starts from 0 by default.\n",
    "        if i != n:\n",
    "            new_str+= s[i]\n",
    "    print(new_str)"
   ]
  },
  {
   "cell_type": "code",
   "execution_count": 183,
   "id": "1f645bb5",
   "metadata": {},
   "outputs": [
    {
     "name": "stdout",
     "output_type": "stream",
     "text": [
      "Pyhon\n"
     ]
    }
   ],
   "source": [
    "s ='Python'\n",
    "n=2  #index position of char to skip\n",
    "\n",
    "if len(s)==0 or n >= len(s):\n",
    "    print(s)\n",
    "else:\n",
    "    new_str=\"\" # to create copy of original string without n index char ,as strings are immutable,it won't effect original str.\n",
    "    for i in range(len(s)):\n",
    "        if i!= n:   # to filter out index n value from string s\n",
    "            new_str += s[i]\n",
    "    print(new_str)"
   ]
  },
  {
   "cell_type": "code",
   "execution_count": 188,
   "id": "02b33daa",
   "metadata": {},
   "outputs": [
    {
     "name": "stdout",
     "output_type": "stream",
     "text": [
      "orld\n"
     ]
    }
   ],
   "source": [
    "s ='World'\n",
    "n=0\n",
    "\n",
    "if len(s)==0 or n >= len(s):\n",
    "    print(s)\n",
    "else:\n",
    "    new_str=\"\" \n",
    "    for i in range(len(s)):\n",
    "        if i!= n:\n",
    "            new_str += s[i]\n",
    "    print(new_str)"
   ]
  },
  {
   "cell_type": "code",
   "execution_count": 190,
   "id": "2169bc4a",
   "metadata": {},
   "outputs": [
    {
     "name": "stdout",
     "output_type": "stream",
     "text": [
      "Dog\n"
     ]
    }
   ],
   "source": [
    "s ='Dog'\n",
    "n=3     # its index position.Since we don't have index position 3 in Dog ,it vl give entire string entact due to below code.\n",
    "\n",
    "if len(s)==0 or n >= len(s):   # This condition is True as n = len(s)\n",
    "    print(s)\n",
    "else:\n",
    "    new_str=\"\" \n",
    "    for i in range(len(s)):\n",
    "        if i!= n:\n",
    "            new_str += s[i]\n",
    "    print(new_str)"
   ]
  },
  {
   "cell_type": "code",
   "execution_count": 196,
   "id": "25ffe93e",
   "metadata": {},
   "outputs": [
    {
     "name": "stdout",
     "output_type": "stream",
     "text": [
      "Dog\n"
     ]
    }
   ],
   "source": [
    "# lets make it more simple by adding truthy and falsy value in code.\n",
    "s ='Dog'\n",
    "n=3 \n",
    "if (not s) or n >= len(s):   # This condition is True as n = len(s) ## (not s)--> checks if string is empty.\n",
    "    print(s)\n",
    "else:\n",
    "    new_str=\"\" \n",
    "    for i in range(len(s)):\n",
    "        if i!= n:\n",
    "            new_str += s[i]\n",
    "    print(new_str)"
   ]
  },
  {
   "cell_type": "code",
   "execution_count": 197,
   "id": "3fb2ee32",
   "metadata": {},
   "outputs": [
    {
     "name": "stdout",
     "output_type": "stream",
     "text": [
      "Dogbytes\n"
     ]
    }
   ],
   "source": [
    "s ='Dogsbytes'\n",
    "n=3 \n",
    "if (not s) or n >= len(s):   # This condition is False,as n < len(s)  \n",
    "    print(s)\n",
    "else:                        # This is True\n",
    "    new_str=\"\" \n",
    "    for i in range(len(s)):\n",
    "        if i!= n:\n",
    "            new_str += s[i]\n",
    "    print(new_str)"
   ]
  },
  {
   "cell_type": "code",
   "execution_count": 203,
   "id": "fd78d2c2",
   "metadata": {},
   "outputs": [
    {
     "name": "stdout",
     "output_type": "stream",
     "text": [
      "Hell!\n"
     ]
    }
   ],
   "source": [
    "# Q 8\n",
    "# Replace a Character in a String\n",
    "s = \"Hello\"\n",
    "s=s.replace('o','!')\n",
    "print(s)"
   ]
  },
  {
   "cell_type": "code",
   "execution_count": 213,
   "id": "3f1e01a5",
   "metadata": {},
   "outputs": [
    {
     "name": "stdout",
     "output_type": "stream",
     "text": [
      "Hesso\n"
     ]
    }
   ],
   "source": [
    "# Lets make it more PYTHONIC!\n",
    "s = \"Hello\"\n",
    "new_s= \"\"  #empty string variable to append after final operation\n",
    "\n",
    "current_char= 'l'  # string to replace\n",
    "new_char= 's'      # string to replace with.\n",
    "\n",
    "for char in s:\n",
    "    if char == current_char:  # if l==l\n",
    "        new_s+= new_char      # new_s= ll\n",
    "    else:\n",
    "        new_s += char        # new_char= Heo\n",
    "print(new_s)"
   ]
  },
  {
   "cell_type": "code",
   "execution_count": 223,
   "id": "f86863e3",
   "metadata": {},
   "outputs": [
    {
     "name": "stdout",
     "output_type": "stream",
     "text": [
      "Cython\n"
     ]
    }
   ],
   "source": [
    "s = \"Python\"\n",
    "new_s= \"\"   #creating new string to get copy of original string after opn as strings are immutable.\n",
    "\n",
    "current_char= 'P'\n",
    "new_char= 'C'\n",
    "\n",
    "for char in s:\n",
    "    if char == current_char:\n",
    "        new_s+= new_char\n",
    "    else:\n",
    "        new_s += char\n",
    "print(new_s)"
   ]
  },
  {
   "cell_type": "code",
   "execution_count": 222,
   "id": "69e6e091",
   "metadata": {},
   "outputs": [
    {
     "name": "stdout",
     "output_type": "stream",
     "text": [
      "Amasing\n"
     ]
    }
   ],
   "source": [
    "s = 'Amazing'\n",
    "new_s= \"\"\n",
    "old_value = 'z'   # char to replace\n",
    "new_value= 's'    # to replace with\n",
    "\n",
    "for i in s:\n",
    "    if i== old_value:\n",
    "        new_s+= new_value   #concatenate\n",
    "    else:\n",
    "        new_s+= i\n",
    "print(new_s)       "
   ]
  },
  {
   "cell_type": "code",
   "execution_count": 224,
   "id": "73b4cd4d",
   "metadata": {},
   "outputs": [
    {
     "name": "stdout",
     "output_type": "stream",
     "text": [
      "Amazing\n"
     ]
    }
   ],
   "source": [
    "s = 'Amazing'\n",
    "new_s= \"\"\n",
    "old_value = 'Z'   # char to replace,since Z is not present,it won't be replaced.\n",
    "new_value= 's'    # to replace with\n",
    "\n",
    "for i in s:\n",
    "    if i== old_value:\n",
    "        new_s+= new_value   #concatenate\n",
    "    else:\n",
    "        new_s+= i\n",
    "print(new_s) "
   ]
  },
  {
   "cell_type": "code",
   "execution_count": 225,
   "id": "3c759f22",
   "metadata": {},
   "outputs": [
    {
     "name": "stdout",
     "output_type": "stream",
     "text": [
      "Cythonic\n"
     ]
    }
   ],
   "source": [
    "# METHOD2\n",
    "# lets work on quicker solution\n",
    "s= \"Pythonic\"\n",
    "old_char='P'\n",
    "new_char='C'\n",
    "\n",
    "print(s.replace(old_char,new_char))"
   ]
  },
  {
   "cell_type": "code",
   "execution_count": 226,
   "id": "f409bc3a",
   "metadata": {},
   "outputs": [
    {
     "data": {
      "text/plain": [
       "'Pythonic'"
      ]
     },
     "execution_count": 226,
     "metadata": {},
     "output_type": "execute_result"
    }
   ],
   "source": [
    "s #remember strings are immutable,so create a  variable to copy operations on original strings."
   ]
  },
  {
   "cell_type": "code",
   "execution_count": 233,
   "id": "a3c01eaf",
   "metadata": {},
   "outputs": [
    {
     "name": "stdout",
     "output_type": "stream",
     "text": [
      "Pythonic\n"
     ]
    }
   ],
   "source": [
    "s= \"Pythonic\"\n",
    "old_char='P'\n",
    "new_char='C'\n",
    "s.replace(old_char,new_char)\n",
    "print(s)     #see,you can't change to original string without reassignment of same variable or making a new variable"
   ]
  },
  {
   "cell_type": "code",
   "execution_count": 235,
   "id": "4922de21",
   "metadata": {},
   "outputs": [
    {
     "name": "stdout",
     "output_type": "stream",
     "text": [
      "Cythonic\n"
     ]
    }
   ],
   "source": [
    "s= \"Pythonic\"\n",
    "old_char='P'\n",
    "new_char='C'\n",
    "new_s= s.replace(old_char,new_char)\n",
    "print(new_s)"
   ]
  },
  {
   "cell_type": "code",
   "execution_count": 236,
   "id": "d4b1d0c4",
   "metadata": {},
   "outputs": [
    {
     "name": "stdout",
     "output_type": "stream",
     "text": [
      "Cythonic\n"
     ]
    }
   ],
   "source": [
    "s= \"Pythonic\"\n",
    "\n",
    "new_s= s.replace('P','C')  # Its fast but above looks clean.\n",
    "print(new_s)"
   ]
  },
  {
   "cell_type": "code",
   "execution_count": 237,
   "id": "ccfc13d8",
   "metadata": {},
   "outputs": [
    {
     "name": "stdout",
     "output_type": "stream",
     "text": [
      "Cythonic\n"
     ]
    }
   ],
   "source": [
    "s= \"Pythonic\"\n",
    "old_char='P'\n",
    "new_char='C'\n",
    "print(s.replace(old_char,new_char))"
   ]
  },
  {
   "cell_type": "code",
   "execution_count": 240,
   "id": "41215f23",
   "metadata": {},
   "outputs": [
    {
     "name": "stdout",
     "output_type": "stream",
     "text": [
      "Hello\n"
     ]
    }
   ],
   "source": [
    "s= \"Kello\"\n",
    "print(s.replace('K','H'))"
   ]
  },
  {
   "cell_type": "code",
   "execution_count": 1,
   "id": "2c58f5f4",
   "metadata": {},
   "outputs": [
    {
     "data": {
      "text/plain": [
       "'Hello. World'"
      ]
     },
     "execution_count": 1,
     "metadata": {},
     "output_type": "execute_result"
    }
   ],
   "source": [
    "#Q9\n",
    "#Change Commas by Dots\n",
    "s= \"Hello, World\"\n",
    "s.replace(',','.')"
   ]
  },
  {
   "cell_type": "code",
   "execution_count": 2,
   "id": "f6a3111d",
   "metadata": {},
   "outputs": [
    {
     "data": {
      "text/plain": [
       "'3.456.344'"
      ]
     },
     "execution_count": 2,
     "metadata": {},
     "output_type": "execute_result"
    }
   ],
   "source": [
    "s= '3,456,344'\n",
    "s.replace(',','.')"
   ]
  },
  {
   "cell_type": "code",
   "execution_count": 20,
   "id": "7d79cad3",
   "metadata": {},
   "outputs": [
    {
     "name": "stdout",
     "output_type": "stream",
     "text": [
      "mango.game\n"
     ]
    }
   ],
   "source": [
    "s='mango,game'\n",
    "\n",
    "new_s=''\n",
    "\n",
    "word_to_replace =','\n",
    "to_replace_with='.'\n",
    "\n",
    "for word in s:\n",
    "    if word == word_to_replace:\n",
    "        new_s+=to_replace_with\n",
    "    else:\n",
    "        new_s+=word\n",
    "print(new_s)"
   ]
  },
  {
   "cell_type": "code",
   "execution_count": 30,
   "id": "a0bae5ce",
   "metadata": {},
   "outputs": [
    {
     "name": "stdout",
     "output_type": "stream",
     "text": [
      "Hello.to the world\n"
     ]
    }
   ],
   "source": [
    "#method1\n",
    "s='Hello,to the world'\n",
    "\n",
    "new_s =''  #we are creating new string as we can't change original string(s),as strings are immutable.\n",
    "\n",
    "to_replace=','\n",
    "replace_with='.'\n",
    "\n",
    "for char in s:\n",
    "    if char==to_replace:\n",
    "        new_s+= replace_with\n",
    "    else:\n",
    "        new_s+=char\n",
    "\n",
    "print(new_s)"
   ]
  },
  {
   "cell_type": "code",
   "execution_count": 31,
   "id": "c1e8c059",
   "metadata": {},
   "outputs": [
    {
     "name": "stdout",
     "output_type": "stream",
     "text": [
      "Hello.to the world\n"
     ]
    }
   ],
   "source": [
    "s='Hello,to the world'\n",
    "\n",
    "new_s =''  #we are creating new string as we can't change original string(s),as strings are immutable.\n",
    "\n",
    "COMMA=',' #Its recommended to wright constasts like comma & dot variable here with capital letters.\n",
    "DOT='.'\n",
    "\n",
    "for char in s:\n",
    "    if char==COMMA:\n",
    "        new_s+= DOT\n",
    "    else:\n",
    "        new_s+=char\n",
    "\n",
    "print(new_s)"
   ]
  },
  {
   "cell_type": "code",
   "execution_count": 40,
   "id": "eeacbcd2",
   "metadata": {},
   "outputs": [
    {
     "name": "stdout",
     "output_type": "stream",
     "text": [
      "Hello.my dear. world!\n"
     ]
    }
   ],
   "source": [
    "# METHOD2\n",
    "s= \"Hello,my dear, world!\"\n",
    "\n",
    "COMMA=\",\"\n",
    "DOT=\".\"\n",
    "\n",
    "print(s.replace(COMMA,DOT))"
   ]
  },
  {
   "cell_type": "code",
   "execution_count": 47,
   "id": "95230cdf",
   "metadata": {},
   "outputs": [
    {
     "name": "stdout",
     "output_type": "stream",
     "text": [
      "Help on built-in function strip:\n",
      "\n",
      "strip(chars=None, /) method of builtins.str instance\n",
      "    Return a copy of the string with leading and trailing whitespace removed.\n",
      "    \n",
      "    If chars is given and not None, remove characters in chars instead.\n",
      "\n"
     ]
    }
   ],
   "source": [
    "help(s.strip)"
   ]
  },
  {
   "cell_type": "code",
   "execution_count": 51,
   "id": "41002c17",
   "metadata": {},
   "outputs": [
    {
     "data": {
      "text/plain": [
       "'as d'"
      ]
     },
     "execution_count": 51,
     "metadata": {},
     "output_type": "execute_result"
    }
   ],
   "source": [
    "s=' aS d'\n",
    "new_s=s.strip().lower()\n",
    "new_s"
   ]
  },
  {
   "cell_type": "code",
   "execution_count": 55,
   "id": "9a14b56d",
   "metadata": {},
   "outputs": [
    {
     "data": {
      "text/plain": [
       "'asd'"
      ]
     },
     "execution_count": 55,
     "metadata": {},
     "output_type": "execute_result"
    }
   ],
   "source": [
    "s=' aS d'\n",
    "new_s=s.replace(' ','').lower()\n",
    "new_s"
   ]
  },
  {
   "cell_type": "code",
   "execution_count": 54,
   "id": "802cd083",
   "metadata": {},
   "outputs": [
    {
     "name": "stdout",
     "output_type": "stream",
     "text": [
      "Safa\n"
     ]
    }
   ],
   "source": [
    "def remove(string_input): \n",
    "    return \"\".join(string_input.split()) \n",
    "       \n",
    "# Driver Program \n",
    "string_input= ' S a f a '\n",
    "print(remove(string_input))"
   ]
  },
  {
   "cell_type": "markdown",
   "id": "42fcc8c6",
   "metadata": {},
   "source": [
    "The ascii lowercase is a predefined string and generally is used as a string constant. It returns lowercase letters from a to z as a string. The returned string from this constant is not locale-dependent and will not change."
   ]
  },
  {
   "cell_type": "code",
   "execution_count": 64,
   "id": "dfe3a115",
   "metadata": {},
   "outputs": [
    {
     "name": "stdout",
     "output_type": "stream",
     "text": [
      "True\n"
     ]
    }
   ],
   "source": [
    "#Q 10\n",
    "#Check if String Contains All Letters in the Alphabet(a-z)\n",
    "#method1\n",
    "#Import string module bcos we need constants from this module.\n",
    "import string\n",
    "\n",
    "s= \"The quick brown fox jumps over the lazy dog\"   #its a pangram(containing all letters of alphabet(a-z))\n",
    "\n",
    "#for unique(non-repeatative) letters(to ignore duplicate char)\n",
    "set_s= set(s.lower())\n",
    "\n",
    "#remove spaces from the strings set\n",
    "set_s.remove(\" \")  #remove() from imported string module\n",
    "\n",
    "#Now compare these letters with constants\n",
    "\n",
    "print(set_s == set(string.ascii_lowercase))   #Boolean output"
   ]
  },
  {
   "cell_type": "code",
   "execution_count": 92,
   "id": "2196b136",
   "metadata": {},
   "outputs": [
    {
     "name": "stdout",
     "output_type": "stream",
     "text": [
      "True\n"
     ]
    }
   ],
   "source": [
    "s= 'abcdefghijklmnopqrs tuvwxyz'\n",
    "\n",
    "new_s= set(s.lower().replace(\" \",\"\"))\n",
    "\n",
    "print(new_s== set(string.ascii_lowercase))"
   ]
  },
  {
   "cell_type": "code",
   "execution_count": 95,
   "id": "2e07c543",
   "metadata": {},
   "outputs": [
    {
     "name": "stdout",
     "output_type": "stream",
     "text": [
      "True\n"
     ]
    }
   ],
   "source": [
    "s= 'abcdefghijklmnopqrs tuvwxyz'\n",
    "\n",
    "new_s= set(s.lower())\n",
    "new_s.remove(\" \")   #use remove() separately else it will throw an error.\n",
    "print(new_s== set(string.ascii_lowercase))"
   ]
  },
  {
   "cell_type": "code",
   "execution_count": 80,
   "id": "ddc43101",
   "metadata": {},
   "outputs": [
    {
     "data": {
      "text/plain": [
       "True"
      ]
     },
     "execution_count": 80,
     "metadata": {},
     "output_type": "execute_result"
    }
   ],
   "source": [
    "set('abcdefghijklmnopqrstuvwxyz') == set(string.ascii_lowercase)"
   ]
  },
  {
   "cell_type": "code",
   "execution_count": 82,
   "id": "d6023e0e",
   "metadata": {},
   "outputs": [
    {
     "data": {
      "text/plain": [
       "'abcdefghijklmnopqrstuvwxyz'"
      ]
     },
     "execution_count": 82,
     "metadata": {},
     "output_type": "execute_result"
    }
   ],
   "source": [
    "string.ascii_lowercase  #(its collection of letters from a-z)"
   ]
  },
  {
   "cell_type": "code",
   "execution_count": 89,
   "id": "afe207f5",
   "metadata": {},
   "outputs": [
    {
     "name": "stdout",
     "output_type": "stream",
     "text": [
      "False\n"
     ]
    }
   ],
   "source": [
    "s= 'Hello world'\n",
    "\n",
    "new_s= set(s.lower().replace(\" \",\"\"))\n",
    "\n",
    "print(new_s== set(string.ascii_lowercase))"
   ]
  },
  {
   "cell_type": "code",
   "execution_count": 97,
   "id": "9d5dce0b",
   "metadata": {},
   "outputs": [
    {
     "name": "stdout",
     "output_type": "stream",
     "text": [
      "True\n"
     ]
    }
   ],
   "source": [
    "#METHOD2\n",
    "import string\n",
    "s= \"The quick brown fox jumps over the lazy dog\" \n",
    "is_pangram= True\n",
    "\n",
    "for char in string.ascii_lowercase:\n",
    "    if char not in s.lower():\n",
    "        is_pangram= False\n",
    "print(is_pangram)"
   ]
  },
  {
   "cell_type": "code",
   "execution_count": 100,
   "id": "2dca357e",
   "metadata": {},
   "outputs": [
    {
     "name": "stdout",
     "output_type": "stream",
     "text": [
      "True\n"
     ]
    }
   ],
   "source": [
    "#METHOD3\n",
    "import string\n",
    "s= \"The quick brown fox jumps over the lazy dog\" \n",
    "is_pangram= True\n",
    "\n",
    "for char in string.ascii_lowercase:\n",
    "    if char not in s.lower():\n",
    "        is_pangram= False\n",
    "        break #stop loop immediately.Its better tham method2.\n",
    "print(is_pangram)"
   ]
  },
  {
   "cell_type": "code",
   "execution_count": 102,
   "id": "a995e653",
   "metadata": {},
   "outputs": [
    {
     "data": {
      "text/plain": [
       "'Haveagreatday'"
      ]
     },
     "execution_count": 102,
     "metadata": {},
     "output_type": "execute_result"
    }
   ],
   "source": [
    "#Q11\n",
    "#Remove Spaces from a String\n",
    "s = ' Have a great day'\n",
    "s.replace(' ','')"
   ]
  },
  {
   "cell_type": "code",
   "execution_count": 113,
   "id": "87671e2b",
   "metadata": {},
   "outputs": [
    {
     "name": "stdout",
     "output_type": "stream",
     "text": [
      "['Have', 'a', 'great', 'day']\n"
     ]
    },
    {
     "data": {
      "text/plain": [
       "'Haveagreatday'"
      ]
     },
     "execution_count": 113,
     "metadata": {},
     "output_type": "execute_result"
    }
   ],
   "source": [
    "s = ' Have a great day'\n",
    "#print(s.split())\n",
    "new_s= \"\".join(s.split())\n",
    "new_s"
   ]
  },
  {
   "cell_type": "code",
   "execution_count": 112,
   "id": "5d2fe4c5",
   "metadata": {},
   "outputs": [
    {
     "name": "stdout",
     "output_type": "stream",
     "text": [
      "Hello,world!\n"
     ]
    }
   ],
   "source": [
    "#METHOD1\n",
    "s= \"Hello, world!\"\n",
    "new_s=\"\"         #new string variable as u can not directly change original string.\n",
    "for char in s:\n",
    "    if char != \" \":\n",
    "        new_s+= char\n",
    "print(new_s)"
   ]
  },
  {
   "cell_type": "code",
   "execution_count": 114,
   "id": "948ffe15",
   "metadata": {},
   "outputs": [
    {
     "name": "stdout",
     "output_type": "stream",
     "text": [
      "Haveagreatday\n"
     ]
    }
   ],
   "source": [
    "s= ' Have a great day'\n",
    "new_s=\"\"\n",
    "for char in s:\n",
    "    if char != \" \":\n",
    "        new_s+= char\n",
    "print(new_s)"
   ]
  },
  {
   "cell_type": "code",
   "execution_count": 115,
   "id": "3e00a8e1",
   "metadata": {},
   "outputs": [
    {
     "name": "stdout",
     "output_type": "stream",
     "text": [
      "Haveagreatday\n"
     ]
    }
   ],
   "source": [
    "#method2\n",
    "s=' Have a great day'\n",
    "print(s.replace(\" \",\"\"))"
   ]
  },
  {
   "cell_type": "code",
   "execution_count": 125,
   "id": "c826936d",
   "metadata": {},
   "outputs": [
    {
     "name": "stdout",
     "output_type": "stream",
     "text": [
      "True\n",
      "True\n",
      "True\n",
      "True\n",
      "True\n"
     ]
    }
   ],
   "source": [
    "#Q12\n",
    "#Check if a String Starts with a Prefix\n",
    "s='Hello'\n",
    "prefix ='He'\n",
    "\n",
    "#check for uneven length\n",
    "for char in s:\n",
    "    if prefix in s:\n",
    "        print(True)"
   ]
  },
  {
   "cell_type": "code",
   "execution_count": 122,
   "id": "2e39ab3a",
   "metadata": {},
   "outputs": [
    {
     "name": "stdout",
     "output_type": "stream",
     "text": [
      "True\n"
     ]
    }
   ],
   "source": [
    "#method1\n",
    "s=\"Hello\"\n",
    "prefix= \"He\"\n",
    "\n",
    "print(s[:len(prefix)]==prefix)    #s[:2]=='He' as len(prefix)=2."
   ]
  },
  {
   "cell_type": "code",
   "execution_count": 123,
   "id": "1ea1a70a",
   "metadata": {},
   "outputs": [
    {
     "data": {
      "text/plain": [
       "'He'"
      ]
     },
     "execution_count": 123,
     "metadata": {},
     "output_type": "execute_result"
    }
   ],
   "source": [
    "s[:len(prefix)]"
   ]
  },
  {
   "cell_type": "code",
   "execution_count": 133,
   "id": "b149dfe9",
   "metadata": {},
   "outputs": [
    {
     "name": "stdout",
     "output_type": "stream",
     "text": [
      "False\n"
     ]
    }
   ],
   "source": [
    "s='coding'\n",
    "prefix='con'    #len(prefix)=3\n",
    "\n",
    "print(s[:len(prefix)] == prefix)\n",
    "#print(s[:3]==prefix)"
   ]
  },
  {
   "cell_type": "code",
   "execution_count": 135,
   "id": "a70064f5",
   "metadata": {},
   "outputs": [
    {
     "data": {
      "text/plain": [
       "False"
      ]
     },
     "execution_count": 135,
     "metadata": {},
     "output_type": "execute_result"
    }
   ],
   "source": [
    "'cod' == 'con' #above example"
   ]
  },
  {
   "cell_type": "code",
   "execution_count": 136,
   "id": "20463bff",
   "metadata": {},
   "outputs": [
    {
     "name": "stdout",
     "output_type": "stream",
     "text": [
      "False\n"
     ]
    }
   ],
   "source": [
    "s='coding'\n",
    "prefix='condemned'    #len(prefix)=9\n",
    "\n",
    "print(s[:len(prefix)] == prefix)"
   ]
  },
  {
   "cell_type": "code",
   "execution_count": 137,
   "id": "bf382c07",
   "metadata": {},
   "outputs": [
    {
     "data": {
      "text/plain": [
       "False"
      ]
     },
     "execution_count": 137,
     "metadata": {},
     "output_type": "execute_result"
    }
   ],
   "source": [
    "'condemned' == 'coding'"
   ]
  },
  {
   "cell_type": "code",
   "execution_count": 138,
   "id": "ac04f7df",
   "metadata": {},
   "outputs": [
    {
     "name": "stdout",
     "output_type": "stream",
     "text": [
      "True\n"
     ]
    }
   ],
   "source": [
    "#method2\n",
    "#RECOMMENDED!\n",
    "s=\"Hello\"\n",
    "prefix = \"He\"\n",
    "\n",
    "print(s.startswith(prefix))"
   ]
  },
  {
   "cell_type": "code",
   "execution_count": 139,
   "id": "00a5751b",
   "metadata": {},
   "outputs": [
    {
     "name": "stdout",
     "output_type": "stream",
     "text": [
      "False\n"
     ]
    }
   ],
   "source": [
    "s=\"Hello\"\n",
    "prefix = \"he\"\n",
    "\n",
    "print(s.startswith(prefix))"
   ]
  },
  {
   "cell_type": "code",
   "execution_count": 152,
   "id": "b17ad458",
   "metadata": {},
   "outputs": [
    {
     "name": "stdout",
     "output_type": "stream",
     "text": [
      "True\n"
     ]
    }
   ],
   "source": [
    "#Q13\n",
    "# Check if a String Ends with a Suffix\n",
    "s='rowing'   #len(s)=6\n",
    "suffix='ing' #len(suffix)=3\n",
    "\n",
    "print(s[len(s)-len(suffix):]==suffix)  #forward slicing\n",
    "#print(s[-len(suffix):]==suffix)       #reverse slicing"
   ]
  },
  {
   "cell_type": "code",
   "execution_count": 147,
   "id": "e2a45b1d",
   "metadata": {},
   "outputs": [
    {
     "name": "stdout",
     "output_type": "stream",
     "text": [
      "True\n"
     ]
    }
   ],
   "source": [
    "s=\"Hello\"\n",
    "suffix= 'ello'\n",
    "\n",
    "print(s[-len(suffix):]==suffix)       #reverse slicing"
   ]
  },
  {
   "cell_type": "code",
   "execution_count": 153,
   "id": "136d042f",
   "metadata": {},
   "outputs": [
    {
     "data": {
      "text/plain": [
       "True"
      ]
     },
     "execution_count": 153,
     "metadata": {},
     "output_type": "execute_result"
    }
   ],
   "source": [
    "'ello'=='ello'"
   ]
  },
  {
   "cell_type": "code",
   "execution_count": 157,
   "id": "28d1826c",
   "metadata": {},
   "outputs": [
    {
     "name": "stdout",
     "output_type": "stream",
     "text": [
      "False\n"
     ]
    }
   ],
   "source": [
    "s=\"Nora\"\n",
    "suffix= 'circum'\n",
    "\n",
    "print(s[-len(suffix):]==suffix)  "
   ]
  },
  {
   "cell_type": "code",
   "execution_count": 154,
   "id": "8396f0eb",
   "metadata": {},
   "outputs": [
    {
     "name": "stdout",
     "output_type": "stream",
     "text": [
      "True\n"
     ]
    }
   ],
   "source": [
    "#Method2\n",
    "s=\"coding\"\n",
    "suffix = \"ing\"\n",
    "\n",
    "print(s.endswith(suffix))"
   ]
  },
  {
   "cell_type": "code",
   "execution_count": 155,
   "id": "0bfbf0a8",
   "metadata": {},
   "outputs": [
    {
     "name": "stdout",
     "output_type": "stream",
     "text": [
      "False\n"
     ]
    }
   ],
   "source": [
    "s=\"coding\"\n",
    "suffix = \"eng\"\n",
    "\n",
    "print(s.endswith(suffix))"
   ]
  },
  {
   "cell_type": "code",
   "execution_count": 156,
   "id": "282a9845",
   "metadata": {},
   "outputs": [
    {
     "data": {
      "text/plain": [
       "False"
      ]
     },
     "execution_count": 156,
     "metadata": {},
     "output_type": "execute_result"
    }
   ],
   "source": [
    "'ing'=='eng'"
   ]
  },
  {
   "cell_type": "code",
   "execution_count": 158,
   "id": "e27041e5",
   "metadata": {},
   "outputs": [
    {
     "data": {
      "text/plain": [
       "'dlrow olleH'"
      ]
     },
     "execution_count": 158,
     "metadata": {},
     "output_type": "execute_result"
    }
   ],
   "source": [
    "#Q14\n",
    "#Reverse Words in a String (*)(letters(upper,lower cases) also reversed.)\n",
    "#Assume that the string only contains letters and spaces are used to separate words.\n",
    "s= \"Hello world\"\n",
    "s[::-1]"
   ]
  },
  {
   "cell_type": "code",
   "execution_count": 182,
   "id": "c2d289b4",
   "metadata": {},
   "outputs": [
    {
     "name": "stdout",
     "output_type": "stream",
     "text": [
      "['Hello', 'world']\n",
      "olleH\n",
      "dlrow\n"
     ]
    }
   ],
   "source": [
    "s= \"Hello world\"\n",
    "new_s=s.split()\n",
    "print(new_s)\n",
    "\n",
    "for word in new_s:\n",
    "    print(word[::-1])"
   ]
  },
  {
   "cell_type": "code",
   "execution_count": 164,
   "id": "3ee8e5fa",
   "metadata": {},
   "outputs": [
    {
     "name": "stdout",
     "output_type": "stream",
     "text": [
      "olleH\n",
      "dlrow\n"
     ]
    }
   ],
   "source": [
    "s=\"Hello world\"\n",
    "words_list= s.split()\n",
    "new_s=''\n",
    "\n",
    "for word in words_list:\n",
    "    reversed_word= \"\".join(reversed(word))\n",
    "    print(reversed_word)"
   ]
  },
  {
   "cell_type": "code",
   "execution_count": 180,
   "id": "23386765",
   "metadata": {},
   "outputs": [
    {
     "name": "stdout",
     "output_type": "stream",
     "text": [
      "olleH\n",
      "dlrow\n"
     ]
    }
   ],
   "source": [
    "s=\"Hello world\"\n",
    "words_list= s.split()\n",
    "new_s=''\n",
    "\n",
    "for word in words_list:\n",
    "    reversed_word= \"\".join(word[::-1])\n",
    "    print(reversed_word)"
   ]
  },
  {
   "cell_type": "code",
   "execution_count": 183,
   "id": "450ce0f1",
   "metadata": {},
   "outputs": [
    {
     "data": {
      "text/plain": [
       "'hELLO WORLD'"
      ]
     },
     "execution_count": 183,
     "metadata": {},
     "output_type": "execute_result"
    }
   ],
   "source": [
    "s=\"Hello world\"\n",
    "s.swapcase()"
   ]
  },
  {
   "cell_type": "markdown",
   "id": "c88edfd2",
   "metadata": {},
   "source": [
    ".swapcase()-->Convert uppercase characters to lowercase and lowercase characters to uppercas"
   ]
  },
  {
   "cell_type": "code",
   "execution_count": 193,
   "id": "21791ae0",
   "metadata": {},
   "outputs": [
    {
     "name": "stdout",
     "output_type": "stream",
     "text": [
      "OLLEh DLROw \n"
     ]
    }
   ],
   "source": [
    "#method1\n",
    "s=\"Hello World\"\n",
    "words_list= s.split()\n",
    "new_s=''\n",
    "\n",
    "for word in words_list:\n",
    "    reversed_word= \"\".join(reversed(word))\n",
    "    #print(reversed_word)\n",
    "    \n",
    "    swapped_case= reversed_word.swapcase() #reversing upper case to lower case & vice versa\n",
    "    new_s+= swapped_case + \" \"\n",
    "    #print(new_s)\n",
    "    \n",
    "new_s.rstrip()\n",
    "print(new_s)"
   ]
  },
  {
   "cell_type": "code",
   "execution_count": 208,
   "id": "fa864ade",
   "metadata": {},
   "outputs": [
    {
     "name": "stdout",
     "output_type": "stream",
     "text": [
      "NOHTYp SI EMOSEWa \n"
     ]
    }
   ],
   "source": [
    "s=\"Python is Awesome \"\n",
    "words_list= s.split()\n",
    "new_s=\"\"\n",
    "\n",
    "for word in words_list:\n",
    "    reversed_word= word[::-1]\n",
    "    #print(reversed_word)\n",
    "    \n",
    "    swapped_case= reversed_word.swapcase()\n",
    "    #print(swapped_case)\n",
    "    new_s+= swapped_case + \" \"\n",
    "    #print(new_s)\n",
    "    \n",
    "new_s.rstrip()   # its imp as  [new_s+= swapped_case + \" \"] will create space at the right side.\n",
    "print(new_s)"
   ]
  },
  {
   "cell_type": "code",
   "execution_count": 213,
   "id": "b7f200f1",
   "metadata": {},
   "outputs": [
    {
     "data": {
      "text/plain": [
       "2"
      ]
     },
     "execution_count": 213,
     "metadata": {},
     "output_type": "execute_result"
    }
   ],
   "source": [
    "#Q15\n",
    "# Count Repeated Characters (*)\n",
    "s = 'Corporation'\n",
    "s.count('r')"
   ]
  },
  {
   "cell_type": "code",
   "execution_count": 231,
   "id": "4cc69574",
   "metadata": {},
   "outputs": [
    {
     "name": "stdout",
     "output_type": "stream",
     "text": [
      "2\n",
      "['l', 'o']\n"
     ]
    }
   ],
   "source": [
    "repeated_chars=[]\n",
    "repeated_count=0\n",
    "\n",
    "for char in s:\n",
    "    #check for char is repeated(>1) or not, and not in repeated_chars variable already to exclude duplicates.\n",
    "    if (s.count(char)>1) and (char not in repeated_chars) :\n",
    "        repeated_count+=1\n",
    "        repeated_chars.append(char)\n",
    "print(repeated_count)\n",
    "print(repeated_chars)"
   ]
  },
  {
   "cell_type": "code",
   "execution_count": 243,
   "id": "6e8d9e82",
   "metadata": {},
   "outputs": [
    {
     "name": "stdout",
     "output_type": "stream",
     "text": [
      "2\n",
      "l o "
     ]
    }
   ],
   "source": [
    "#method1\n",
    "s=\"Hello World\"\n",
    "repeated_chars=[]\n",
    "repeated_count=0\n",
    "\n",
    "for char in s:\n",
    "    #check for char is repeated(>1) or not, and not in repeated_chars variable already to exclude duplicates.\n",
    "    if (s.count(char)>1) and (char not in repeated_chars) :\n",
    "        repeated_count+=1\n",
    "        repeated_chars.append(char)\n",
    "print(repeated_count)\n",
    "\n",
    "#sort repeated chars & else statement to give none when nothing is repeated\n",
    "if len(repeated_chars)>0:\n",
    "    for char in sorted(repeated_chars):\n",
    "        print(char,end=\" \")\n",
    "else:\n",
    "    print(None)"
   ]
  },
  {
   "cell_type": "code",
   "execution_count": 256,
   "id": "0e345500",
   "metadata": {},
   "outputs": [
    {
     "name": "stdout",
     "output_type": "stream",
     "text": [
      "Total count of repeated letters are:2\n",
      "o r "
     ]
    }
   ],
   "source": [
    "s=\"Corporation\"\n",
    "repeated_chars=[]\n",
    "repeated_count=0\n",
    "\n",
    "for char in s:\n",
    "    if (s.count(char)>1) and (char not in repeated_chars) :\n",
    "        repeated_count+=1\n",
    "        repeated_chars.append(char)\n",
    "print(f'Total count of repeated letters are:{repeated_count}')\n",
    "\n",
    "#sort repeated chars & else statement to give none when nothing is repeated\n",
    "if len(repeated_chars)>0:\n",
    "    for char in sorted(repeated_chars):\n",
    "        print(char,end=' ')\n",
    "else:\n",
    "    print(None)"
   ]
  },
  {
   "cell_type": "code",
   "execution_count": 261,
   "id": "4183ce7f",
   "metadata": {},
   "outputs": [
    {
     "name": "stdout",
     "output_type": "stream",
     "text": [
      "2\n",
      "o r\n"
     ]
    }
   ],
   "source": [
    "#method2\n",
    "s=\"Corporation\"\n",
    "repeated_chars=[]\n",
    "repeated_count=0\n",
    "\n",
    "for char in s:\n",
    "    if (s.count(char)>1) and (char not in repeated_chars) :\n",
    "        repeated_count+=1\n",
    "        repeated_chars.append(char)\n",
    "print(repeated_count)\n",
    "\n",
    "#Non empty list are truthy values & empty list are falsy values\n",
    "\n",
    "if repeated_chars: #Use truthy value\n",
    "    print(*sorted(repeated_chars),sep=\" \")  #One line,avoid loop   ## you can also use for loop like in above example.\n",
    "else:\n",
    "    print(None)"
   ]
  },
  {
   "cell_type": "code",
   "execution_count": 273,
   "id": "f7b9b3ea",
   "metadata": {},
   "outputs": [
    {
     "name": "stdout",
     "output_type": "stream",
     "text": [
      "2\n",
      "l o "
     ]
    }
   ],
   "source": [
    "#method3  (We can do this directly without creating repeated_count variable as well)\n",
    "s= \"Hello world\"\n",
    "\n",
    "repeated_chars=[]\n",
    "\n",
    "for char in s:\n",
    "    if (s.count(char)>1) and (char not in repeated_chars):\n",
    "        repeated_chars.append(char)\n",
    "print(len(repeated_chars))\n",
    "\n",
    "if repeated_chars: #using truthy value\n",
    "    for char in sorted(repeated_chars):\n",
    "        print(char,end=\" \")\n",
    "else:\n",
    "    print(None)"
   ]
  },
  {
   "cell_type": "code",
   "execution_count": 274,
   "id": "ee7093da",
   "metadata": {},
   "outputs": [
    {
     "name": "stdout",
     "output_type": "stream",
     "text": [
      "2\n",
      "o r\n"
     ]
    }
   ],
   "source": [
    "s= \"corporation\"\n",
    "\n",
    "repeated_chars=[]\n",
    "\n",
    "for char in s:\n",
    "    if (s.count(char)>1) and (char not in repeated_chars):\n",
    "        repeated_chars.append(char)\n",
    "print(len(repeated_chars))\n",
    "\n",
    "if repeated_chars: #using truthy value\n",
    "    print(*sorted(repeated_chars),sep=\" \")\n",
    "else:\n",
    "    print(None)"
   ]
  },
  {
   "cell_type": "code",
   "execution_count": 287,
   "id": "59908bd4",
   "metadata": {},
   "outputs": [
    {
     "name": "stdout",
     "output_type": "stream",
     "text": [
      "['hellow', 'world']\n",
      "dlrow\n"
     ]
    }
   ],
   "source": [
    "#Q16\n",
    "#Sort Words in Alphabetical Order (*)\n",
    "s='Hellow world'\n",
    "new_s= s.lower().split()\n",
    "print(new_s)\n",
    "for char in new_s:\n",
    "    reversed_word=(char[::-1])\n",
    "print(reversed_word)"
   ]
  },
  {
   "cell_type": "code",
   "execution_count": 299,
   "id": "762b67f8",
   "metadata": {},
   "outputs": [
    {
     "name": "stdout",
     "output_type": "stream",
     "text": [
      "ehllo dlorw \n"
     ]
    }
   ],
   "source": [
    "#method1\n",
    "s=\"Hello world\"\n",
    "new_s=\"\"\n",
    "\n",
    "words_list=s.split(\" \")\n",
    "\n",
    "for word in words_list:\n",
    "    lowercase_word = word.lower()\n",
    "    sorted_word= \"\".join(sorted(lowercase_word))\n",
    "    new_s+= sorted_word + \" \"\n",
    "new_s.strip()\n",
    "print(new_s)"
   ]
  },
  {
   "cell_type": "code",
   "execution_count": 297,
   "id": "83f35652",
   "metadata": {},
   "outputs": [
    {
     "name": "stdout",
     "output_type": "stream",
     "text": [
      "ehllowdlorw\n"
     ]
    }
   ],
   "source": [
    "s=\"Hellow world\"\n",
    "new_s=\"\"\n",
    "word_list= s.lower().split(\" \")\n",
    "for word in word_list:\n",
    "    sorted_word= \"\".join(sorted(word))\n",
    "    new_s+= sorted_word\n",
    "print(new_s)"
   ]
  },
  {
   "cell_type": "code",
   "execution_count": 304,
   "id": "7dc10a83",
   "metadata": {},
   "outputs": [
    {
     "name": "stdout",
     "output_type": "stream",
     "text": [
      "ehllow dlorw \n"
     ]
    }
   ],
   "source": [
    "s=\"Hellow world\"\n",
    "new_s=\"\"\n",
    "for word in s.lower().split(\" \"):\n",
    "    sorted_word= \"\".join(sorted(word))\n",
    "    #print(sorted_word)\n",
    "    new_s+= sorted_word + \" \"\n",
    "new_s.rstrip()\n",
    "print(new_s)"
   ]
  },
  {
   "cell_type": "code",
   "execution_count": 314,
   "id": "29ab696c",
   "metadata": {},
   "outputs": [
    {
     "name": "stdout",
     "output_type": "stream",
     "text": [
      "ehllo dlorw\n"
     ]
    }
   ],
   "source": [
    "#method2\n",
    "s=\"Hello world\"\n",
    "new_s=\"\"\n",
    "words_list= s.split()\n",
    "\n",
    "for word in words_list:\n",
    "    new_s+= \"\".join(sorted(word.lower())) + \" \"\n",
    "\n",
    "new_s=new_s.rstrip()\n",
    "print(new_s)"
   ]
  },
  {
   "cell_type": "code",
   "execution_count": null,
   "id": "9447ae3e",
   "metadata": {},
   "outputs": [],
   "source": []
  }
 ],
 "metadata": {
  "kernelspec": {
   "display_name": "Python 3 (ipykernel)",
   "language": "python",
   "name": "python3"
  },
  "language_info": {
   "codemirror_mode": {
    "name": "ipython",
    "version": 3
   },
   "file_extension": ".py",
   "mimetype": "text/x-python",
   "name": "python",
   "nbconvert_exporter": "python",
   "pygments_lexer": "ipython3",
   "version": "3.8.12"
  }
 },
 "nbformat": 4,
 "nbformat_minor": 5
}
