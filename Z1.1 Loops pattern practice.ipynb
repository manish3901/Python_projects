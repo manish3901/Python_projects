{
 "cells": [
  {
   "cell_type": "code",
   "execution_count": 1,
   "id": "50e325e5",
   "metadata": {},
   "outputs": [],
   "source": [
    "#Patterns"
   ]
  },
  {
   "cell_type": "code",
   "execution_count": 2,
   "id": "0331bbe0",
   "metadata": {},
   "outputs": [],
   "source": [
    "# nested loop is used mostly in for loops."
   ]
  },
  {
   "cell_type": "code",
   "execution_count": 4,
   "id": "dd4f6a36",
   "metadata": {},
   "outputs": [
    {
     "name": "stdout",
     "output_type": "stream",
     "text": [
      "Pass 1 - \n",
      "Pass 2 - \n",
      "Pass 3 - \n",
      "Pass 4 - \n",
      "Pass 5 - \n"
     ]
    }
   ],
   "source": [
    "for i in range(1,6):\n",
    "    print(f'Pass {i} - ')"
   ]
  },
  {
   "cell_type": "code",
   "execution_count": 6,
   "id": "7a0e6b7f",
   "metadata": {},
   "outputs": [
    {
     "name": "stdout",
     "output_type": "stream",
     "text": [
      "1 2 3 4 5 "
     ]
    }
   ],
   "source": [
    "for j in range(1,6):\n",
    "    print(j,end=' ')"
   ]
  },
  {
   "cell_type": "code",
   "execution_count": 14,
   "id": "d87d4cb0",
   "metadata": {},
   "outputs": [
    {
     "name": "stdout",
     "output_type": "stream",
     "text": [
      "Pass 1 -  1 2 3 4 5 \n",
      "Pass 2 -  1 2 3 4 5 \n",
      "Pass 3 -  1 2 3 4 5 \n",
      "Pass 4 -  1 2 3 4 5 \n",
      "Pass 5 -  1 2 3 4 5 \n"
     ]
    }
   ],
   "source": [
    "#P.1\n",
    "for i in range(1,6):\n",
    "    print(f'Pass {i} - ',end=' ')\n",
    "    for j in range(1,6):\n",
    "        print(j,end=' ')\n",
    "    print()"
   ]
  },
  {
   "cell_type": "code",
   "execution_count": 22,
   "id": "8f72542a",
   "metadata": {},
   "outputs": [
    {
     "name": "stdout",
     "output_type": "stream",
     "text": [
      "**********"
     ]
    }
   ],
   "source": [
    "for i in range(10):\n",
    "    print('*',end='')"
   ]
  },
  {
   "cell_type": "code",
   "execution_count": 28,
   "id": "f90ee90a",
   "metadata": {},
   "outputs": [
    {
     "name": "stdout",
     "output_type": "stream",
     "text": [
      "*\n",
      "*\n",
      "*\n",
      "*\n",
      "*\n"
     ]
    }
   ],
   "source": [
    "for j in range(5):\n",
    "        print('*')"
   ]
  },
  {
   "cell_type": "code",
   "execution_count": 40,
   "id": "dfdfa0ec",
   "metadata": {},
   "outputs": [
    {
     "name": "stdout",
     "output_type": "stream",
     "text": [
      "**********\n",
      "**********\n",
      "**********\n",
      "**********\n",
      "**********\n"
     ]
    }
   ],
   "source": [
    "#P.2\n",
    "for i in range(5):\n",
    "    print('*',end='')\n",
    "    for j in range(9):\n",
    "        print('*',end='')\n",
    "    print()"
   ]
  },
  {
   "cell_type": "code",
   "execution_count": 41,
   "id": "ab5f7683",
   "metadata": {},
   "outputs": [
    {
     "name": "stdout",
     "output_type": "stream",
     "text": [
      "**********\n",
      "**********\n",
      "**********\n",
      "**********\n",
      "**********\n"
     ]
    }
   ],
   "source": [
    "for i in range(5):\n",
    "    print('**********')"
   ]
  },
  {
   "cell_type": "code",
   "execution_count": 44,
   "id": "e0e2070a",
   "metadata": {},
   "outputs": [
    {
     "name": "stdout",
     "output_type": "stream",
     "text": [
      "* * * * * \n",
      "* * * * * \n",
      "* * * * * \n",
      "* * * * * \n",
      "* * * * * \n"
     ]
    }
   ],
   "source": [
    "#P.3\n",
    "for i in range(5):\n",
    "    print('*',end=' ')\n",
    "    for j in range(4):\n",
    "        print(\"*\",end=' ')\n",
    "    print()"
   ]
  },
  {
   "cell_type": "code",
   "execution_count": 73,
   "id": "722473b9",
   "metadata": {},
   "outputs": [
    {
     "name": "stdout",
     "output_type": "stream",
     "text": [
      "* \n",
      "* * \n",
      "* * * \n",
      "* * * * \n",
      "* * * * * \n"
     ]
    }
   ],
   "source": [
    "#P.4\n",
    "for i in range(5):\n",
    "    print('*',end=' ')\n",
    "    for j in range(i):\n",
    "        print('*',end=' ')\n",
    "    print()\n"
   ]
  },
  {
   "cell_type": "code",
   "execution_count": 74,
   "id": "e365edc4",
   "metadata": {},
   "outputs": [
    {
     "name": "stdout",
     "output_type": "stream",
     "text": [
      "* \n",
      "* * \n",
      "* * * \n",
      "* * * * \n",
      "* * * * * \n"
     ]
    }
   ],
   "source": [
    "for i in range(5):\n",
    "    print('*',end=' ')\n",
    "    for j in range(1,i+1):\n",
    "        print('*',end=' ')\n",
    "    print()"
   ]
  },
  {
   "cell_type": "code",
   "execution_count": 76,
   "id": "53a4a9d2",
   "metadata": {},
   "outputs": [
    {
     "name": "stdout",
     "output_type": "stream",
     "text": [
      "* * * * * \n",
      "* * * * \n",
      "* * * \n",
      "* * \n",
      "* \n"
     ]
    }
   ],
   "source": [
    "#P.5\n",
    "for i in range(5):\n",
    "    print('*',end=' ')\n",
    "    for j in range(i,4):\n",
    "        print('*',end=' ')\n",
    "    print()"
   ]
  },
  {
   "cell_type": "code",
   "execution_count": 77,
   "id": "778f9aee",
   "metadata": {},
   "outputs": [
    {
     "name": "stdout",
     "output_type": "stream",
     "text": [
      "* * * * * \n",
      "* * * * \n",
      "* * * \n",
      "* * \n",
      "* \n"
     ]
    }
   ],
   "source": [
    "#P.6\n",
    "for i in range(5):\n",
    "    print('*',end=' ')\n",
    "    for j in range(4,i,-1):\n",
    "        print('*',end=' ')\n",
    "    print()"
   ]
  },
  {
   "cell_type": "code",
   "execution_count": 100,
   "id": "8b613c86",
   "metadata": {},
   "outputs": [
    {
     "name": "stdout",
     "output_type": "stream",
     "text": [
      "1 \n",
      "1 2 \n",
      "1 2 3 \n",
      "1 2 3 4 \n",
      "1 2 3 4 5 \n"
     ]
    }
   ],
   "source": [
    "#P.7\n",
    "for i in range(1,6):\n",
    "    print('1',end=' ')\n",
    "    for j in range(2,i+1):\n",
    "        print(j,end=' ')\n",
    "    print()"
   ]
  },
  {
   "cell_type": "code",
   "execution_count": 98,
   "id": "2d3a4ead",
   "metadata": {},
   "outputs": [
    {
     "name": "stdout",
     "output_type": "stream",
     "text": [
      "1 \n",
      "1 2 \n",
      "1 2 3 \n",
      "1 2 3 4 \n",
      "1 2 3 4 5 \n"
     ]
    }
   ],
   "source": [
    "for i in range(5):\n",
    "    print('1',end=' ')\n",
    "    for j in range(2,i+2):\n",
    "        print(j,end=' ')\n",
    "    print()"
   ]
  },
  {
   "cell_type": "code",
   "execution_count": 105,
   "id": "6473be5c",
   "metadata": {},
   "outputs": [
    {
     "name": "stdout",
     "output_type": "stream",
     "text": [
      "1\n",
      "1 2\n",
      "1 2 3\n",
      "1 2 3 4\n",
      "1 2 3 4 5\n",
      "1 2 3 4 5 "
     ]
    }
   ],
   "source": [
    "for i in range(1,6):\n",
    "    print(i)\n",
    "    for j in range(1,i+1):\n",
    "        print(j,end=\" \")"
   ]
  },
  {
   "cell_type": "code",
   "execution_count": 115,
   "id": "c32a4685",
   "metadata": {},
   "outputs": [
    {
     "name": "stdout",
     "output_type": "stream",
     "text": [
      "1 \n",
      "2 2 \n",
      "3 3 3 \n",
      "4 4 4 4 \n",
      "5 5 5 5 5 \n"
     ]
    }
   ],
   "source": [
    "#P.8\n",
    "for i in range(1,6):\n",
    "    print(i,end=' ')\n",
    "    for j in range(2,i+1):\n",
    "        print(i,end=' ')\n",
    "    print()"
   ]
  },
  {
   "cell_type": "code",
   "execution_count": 119,
   "id": "29813b30",
   "metadata": {},
   "outputs": [
    {
     "name": "stdout",
     "output_type": "stream",
     "text": [
      "\n",
      "1 \n",
      "2 2 \n",
      "3 3 3 \n",
      "4 4 4 4 \n",
      "5 5 5 5 5 "
     ]
    }
   ],
   "source": [
    "for i in range(1,6):\n",
    "    print()\n",
    "    for j in range(1,i+1):\n",
    "        print(i,end=' ')"
   ]
  },
  {
   "cell_type": "code",
   "execution_count": 121,
   "id": "0cecd6f2",
   "metadata": {},
   "outputs": [
    {
     "name": "stdout",
     "output_type": "stream",
     "text": [
      "* \n",
      "* * \n",
      "* * * \n",
      "* * * * \n",
      "* * * * * \n"
     ]
    }
   ],
   "source": [
    "#P.9\n",
    "for i in range(5):\n",
    "    print('*',end=' ')\n",
    "    for j in range(1,i+1):\n",
    "        print('*',end=' ')\n",
    "    print()"
   ]
  },
  {
   "cell_type": "code",
   "execution_count": 123,
   "id": "3490a3d5",
   "metadata": {},
   "outputs": [
    {
     "name": "stdout",
     "output_type": "stream",
     "text": [
      "1 2 3 4 5 \n",
      "2 2 3 4 5 \n",
      "3 2 3 4 5 \n",
      "4 2 3 4 5 \n",
      "5 2 3 4 5 \n"
     ]
    }
   ],
   "source": [
    "#P.10\n",
    "for i in range(1,6):\n",
    "    print(i,end=' ')\n",
    "    for j in range(2,6):\n",
    "        print(j,end=' ')\n",
    "    print()"
   ]
  },
  {
   "cell_type": "code",
   "execution_count": 124,
   "id": "3ca5e1ec",
   "metadata": {},
   "outputs": [
    {
     "name": "stdout",
     "output_type": "stream",
     "text": [
      "Pass 1 -  1 2 3 4 5 \n",
      "Pass 2 -  1 2 3 4 5 \n",
      "Pass 3 -  1 2 3 4 5 \n",
      "Pass 4 -  1 2 3 4 5 \n",
      "Pass 5 -  1 2 3 4 5 \n"
     ]
    }
   ],
   "source": [
    "for i in range(1,6):\n",
    "    print(f'Pass {i} - ',end=' ')\n",
    "    for j in range(1,6):\n",
    "        print(j,end=' ')\n",
    "    print()"
   ]
  },
  {
   "cell_type": "code",
   "execution_count": 127,
   "id": "2d3d10bb",
   "metadata": {},
   "outputs": [
    {
     "name": "stdout",
     "output_type": "stream",
     "text": [
      "1 \n",
      "1 2 \n",
      "1 2 3 \n",
      "1 2 3 4 \n",
      "1 2 3 4 5 \n"
     ]
    }
   ],
   "source": [
    "for i in range(5):\n",
    "    print('1',end=' ')\n",
    "    for j in range(2,i+2):\n",
    "        print(j,end=' ')\n",
    "    print()"
   ]
  },
  {
   "cell_type": "code",
   "execution_count": 134,
   "id": "eefe1bd1",
   "metadata": {},
   "outputs": [
    {
     "name": "stdout",
     "output_type": "stream",
     "text": [
      "5 4 3 2 1 \n",
      "5 4 3 2 \n",
      "5 4 3 \n",
      "5 4 \n",
      "5 \n"
     ]
    }
   ],
   "source": [
    "#P.11\n",
    "for i in range(1,6):\n",
    "    print('5',end=' ')\n",
    "    for j in range(4,i-1,-1):\n",
    "        print(j,end=' ')\n",
    "    print()"
   ]
  },
  {
   "cell_type": "code",
   "execution_count": 136,
   "id": "3eae9c41",
   "metadata": {},
   "outputs": [
    {
     "name": "stdout",
     "output_type": "stream",
     "text": [
      "\n",
      "5 4 3 2 1 \n",
      "5 4 3 2 \n",
      "5 4 3 \n",
      "5 4 \n",
      "5 "
     ]
    }
   ],
   "source": [
    "for i in range(1,6):\n",
    "    print()\n",
    "    for j in range(5,i-1,-1):\n",
    "        print(j,end=' ')"
   ]
  },
  {
   "cell_type": "code",
   "execution_count": 137,
   "id": "2103f444",
   "metadata": {},
   "outputs": [
    {
     "name": "stdout",
     "output_type": "stream",
     "text": [
      "5 4 3 2 1 \n",
      "4 3 2 1 \n",
      "3 2 1 \n",
      "2 1 \n",
      "1 \n"
     ]
    }
   ],
   "source": [
    "#P.12\n",
    "for i in range(5,0,-1):\n",
    "    print(i,end=' ')\n",
    "    for j in range(i-1,0,-1):\n",
    "        print(j,end=' ')\n",
    "    print()"
   ]
  },
  {
   "cell_type": "code",
   "execution_count": 140,
   "id": "fbd1f926",
   "metadata": {},
   "outputs": [
    {
     "name": "stdout",
     "output_type": "stream",
     "text": [
      "1 \n",
      "2 1 \n",
      "3 2 1 \n",
      "4 3 2 1 \n",
      "5 4 3 2 1 \n"
     ]
    }
   ],
   "source": [
    "#P.13\n",
    "for i in range(1,6):\n",
    "    print(i,end=' ')\n",
    "    for j in range(i-1,0,-1):\n",
    "        print(j,end=' ')\n",
    "    print()"
   ]
  },
  {
   "cell_type": "code",
   "execution_count": 141,
   "id": "3b1a573c",
   "metadata": {},
   "outputs": [
    {
     "name": "stdout",
     "output_type": "stream",
     "text": [
      "5 5 5 5 5 5 \n",
      "4 4 4 4 4 4 \n",
      "3 3 3 3 3 3 \n",
      "2 2 2 2 2 2 \n",
      "1 1 1 1 1 1 \n"
     ]
    }
   ],
   "source": [
    "#P.14\n",
    "for i in range(5,0,-1):\n",
    "    print(i,end=' ')\n",
    "    for j in range(5):\n",
    "        print(i,end=' ')\n",
    "    print()"
   ]
  },
  {
   "cell_type": "code",
   "execution_count": 145,
   "id": "e8b2fc7a",
   "metadata": {},
   "outputs": [
    {
     "name": "stdout",
     "output_type": "stream",
     "text": [
      "1 \n",
      "2 2 \n",
      "3 3 3 \n",
      "4 4 4 4 \n",
      "5 5 5 5 5 \n"
     ]
    }
   ],
   "source": [
    "for i in range(1,6):\n",
    "    print(i,end=' ')\n",
    "    for j in range(1,i):\n",
    "        print(i,end=' ')\n",
    "    print()"
   ]
  },
  {
   "cell_type": "code",
   "execution_count": 184,
   "id": "a93cd538",
   "metadata": {},
   "outputs": [
    {
     "name": "stdout",
     "output_type": "stream",
     "text": [
      "        1 \n",
      "      1 2 \n",
      "    1 2 3 \n",
      "  1 2 3 4 \n",
      "1 2 3 4 5 \n"
     ]
    }
   ],
   "source": [
    "#P.15\n",
    "for i in range(1,6):\n",
    "    for j in range(1,6-i):\n",
    "        print(' ',end=' ')\n",
    "    for k in range(1,i+1):\n",
    "        print(k,end=' ')\n",
    "    print()"
   ]
  },
  {
   "cell_type": "code",
   "execution_count": 191,
   "id": "28ce127c",
   "metadata": {},
   "outputs": [
    {
     "name": "stdout",
     "output_type": "stream",
     "text": [
      "5 5 5 5 5 \n",
      "4 4 4 4 \n",
      "3 3 3 \n",
      "2 2 \n",
      "1 \n"
     ]
    }
   ],
   "source": [
    "#P.16\n",
    "for i in range(5,0,-1):\n",
    "    print(i,end=' ')\n",
    "    for j in range(i,1,-1):\n",
    "        print(i,end=' ')\n",
    "    print()"
   ]
  },
  {
   "cell_type": "code",
   "execution_count": 195,
   "id": "c15dcf76",
   "metadata": {},
   "outputs": [
    {
     "name": "stdout",
     "output_type": "stream",
     "text": [
      " 5 5 5 5 5 \n",
      " 4 4 4 4 \n",
      " 3 3 3 \n",
      " 2 2 \n",
      " 1 \n"
     ]
    }
   ],
   "source": [
    "for i in range(5,0,-1):\n",
    "    print(end=' ')\n",
    "    for j in range(i,0,-1):\n",
    "        print(i,end=' ')\n",
    "    print()"
   ]
  },
  {
   "cell_type": "code",
   "execution_count": 200,
   "id": "cc948e4a",
   "metadata": {},
   "outputs": [
    {
     "name": "stdout",
     "output_type": "stream",
     "text": [
      "1 \n",
      "1 2 \n",
      "1 2 3 \n",
      "1 2 3 4 \n",
      "1 2 3 4 5 \n"
     ]
    }
   ],
   "source": [
    "for i in range(1,6):\n",
    "    print('1',end=' ')\n",
    "    for j in range(2,i+1):\n",
    "        print(j,end=' ')\n",
    "    print()"
   ]
  },
  {
   "cell_type": "code",
   "execution_count": 217,
   "id": "9db9e993",
   "metadata": {},
   "outputs": [
    {
     "name": "stdout",
     "output_type": "stream",
     "text": [
      "1 \n",
      "1 2 \n",
      "1 2 3 \n",
      "1 2 3 4 \n",
      "1 2 3 4 5 \n"
     ]
    }
   ],
   "source": [
    "i = 0\n",
    "while i <= 4:\n",
    "    print('1',end=' ')\n",
    "    i +=1\n",
    "    j = 2\n",
    "    while j<=i:\n",
    "        print(j,end=' ')\n",
    "        j+=1\n",
    "    print()"
   ]
  },
  {
   "cell_type": "code",
   "execution_count": 221,
   "id": "955c75b8",
   "metadata": {},
   "outputs": [],
   "source": [
    "#nested while loops are little complex to imagine,so work with for loops if possible."
   ]
  },
  {
   "cell_type": "code",
   "execution_count": 205,
   "id": "42341e8b",
   "metadata": {},
   "outputs": [
    {
     "name": "stdout",
     "output_type": "stream",
     "text": [
      "        1 \n",
      "      1 2 \n",
      "    1 2 3 \n",
      "  1 2 3 4 \n",
      "1 2 3 4 5 \n"
     ]
    }
   ],
   "source": [
    "for i in range(1,6):\n",
    "    for j in range(1,6-i):\n",
    "        print(' ',end=' ')\n",
    "    for k in range(1,i+1):\n",
    "        print(k,end=' ')\n",
    "    print()"
   ]
  },
  {
   "cell_type": "code",
   "execution_count": 223,
   "id": "5e979d56",
   "metadata": {},
   "outputs": [
    {
     "name": "stdout",
     "output_type": "stream",
     "text": [
      "    1 \n",
      "   1 2 \n",
      "  1 2 3 \n",
      " 1 2 3 4 \n",
      "1 2 3 4 5 \n"
     ]
    }
   ],
   "source": [
    "#P.17\n",
    "for i in range(1,6):\n",
    "    for j in range(1,6-i):\n",
    "        print(end=' ')\n",
    "    for k in range(1,i+1):\n",
    "        print(k,end=' ')\n",
    "    print()"
   ]
  },
  {
   "cell_type": "code",
   "execution_count": 232,
   "id": "5248c3b2",
   "metadata": {},
   "outputs": [
    {
     "name": "stdout",
     "output_type": "stream",
     "text": [
      "    1 \n",
      "   2 2 \n",
      "  3 3 3 \n",
      " 4 4 4 4 \n",
      "5 5 5 5 5 \n"
     ]
    }
   ],
   "source": [
    "for i in range(1,6):\n",
    "    for j in range(1,6-i):\n",
    "        print(end=' ')\n",
    "    for k in range(1,i+1):\n",
    "        print(i,end=' ')\n",
    "    print()"
   ]
  },
  {
   "cell_type": "code",
   "execution_count": 229,
   "id": "16836f2b",
   "metadata": {},
   "outputs": [
    {
     "name": "stdout",
     "output_type": "stream",
     "text": [
      "        1 \n",
      "      1 2 1 \n",
      "    1 2 3 2 1 \n",
      "  1 2 3 4 3 2 1 \n",
      "1 2 3 4 5 4 3 2 1 \n"
     ]
    }
   ],
   "source": [
    "#P.18\n",
    "for i in range(1,6):\n",
    "    for j in range(1,6-i):\n",
    "        print(' ',end=' ')\n",
    "    for k in range(1,i+1):\n",
    "        print(k,end=' ')\n",
    "    for l in range(i-1,0,-1):\n",
    "        print(l,end=' ')       \n",
    "    print()"
   ]
  },
  {
   "cell_type": "code",
   "execution_count": 231,
   "id": "34450d0a",
   "metadata": {},
   "outputs": [
    {
     "name": "stdout",
     "output_type": "stream",
     "text": [
      "        1 \n",
      "      2 2 2 \n",
      "    3 3 3 3 3 \n",
      "  4 4 4 4 4 4 4 \n",
      "5 5 5 5 5 5 5 5 5 \n"
     ]
    }
   ],
   "source": [
    "for i in range(1,6):\n",
    "    for j in range(1,6-i):\n",
    "        print(' ',end=' ')\n",
    "    for k in range(1,i+1):\n",
    "        print(i,end=' ')\n",
    "    for l in range(i-1,0,-1):\n",
    "        print(i,end=' ')\n",
    "    print()"
   ]
  },
  {
   "cell_type": "code",
   "execution_count": 248,
   "id": "a23411cf",
   "metadata": {},
   "outputs": [
    {
     "name": "stdout",
     "output_type": "stream",
     "text": [
      "0 \n",
      "1 2 \n",
      "3 4 5 \n",
      "6 7 8 9 \n"
     ]
    }
   ],
   "source": [
    "#P.19\n",
    "count = 0\n",
    "for i in range(1,5):\n",
    "    for j in range(1,i+1):\n",
    "        print(count,end=' ')\n",
    "        count+=1\n",
    "    print()"
   ]
  },
  {
   "cell_type": "code",
   "execution_count": 249,
   "id": "7f175cd3",
   "metadata": {},
   "outputs": [
    {
     "name": "stdout",
     "output_type": "stream",
     "text": [
      "0 \n",
      "1 2 \n",
      "3 4 5 \n",
      "6 7 8 9 \n"
     ]
    }
   ],
   "source": [
    "count= 0\n",
    "i = 1\n",
    "while i <= 4:\n",
    "    j = 1\n",
    "    while j <= i:\n",
    "        print(count,end=' ')\n",
    "        count+=1\n",
    "        j+=1\n",
    "    i +=1\n",
    "    print()"
   ]
  },
  {
   "cell_type": "code",
   "execution_count": 268,
   "id": "2b347d8f",
   "metadata": {},
   "outputs": [
    {
     "name": "stdout",
     "output_type": "stream",
     "text": [
      "* \n",
      "* * * \n",
      "* * * * * \n"
     ]
    }
   ],
   "source": [
    "#P.20\n",
    "k = 1\n",
    "for i in range(1,4):\n",
    " \n",
    "    for j in range(1,k+1):\n",
    "        print('*',end=' ')\n",
    "    k+=2\n",
    "    print()"
   ]
  },
  {
   "cell_type": "code",
   "execution_count": 273,
   "id": "da302440",
   "metadata": {},
   "outputs": [
    {
     "name": "stdout",
     "output_type": "stream",
     "text": [
      "* \n",
      "* * * \n",
      "* * * * * \n"
     ]
    }
   ],
   "source": [
    "k = 1\n",
    "for i in range(1,4):\n",
    "    for j in range(1,k+1):\n",
    "        print('*',end=' ')\n",
    "    k += 2\n",
    "    print()"
   ]
  },
  {
   "cell_type": "code",
   "execution_count": 275,
   "id": "4165cda6",
   "metadata": {},
   "outputs": [
    {
     "name": "stdout",
     "output_type": "stream",
     "text": [
      "* \n",
      "* * * \n",
      "* * * * * \n"
     ]
    }
   ],
   "source": [
    "for i in range(1,6,2):\n",
    "    for j in range(1,i+1):\n",
    "        print('*',end=' ')\n",
    "    print()"
   ]
  },
  {
   "cell_type": "code",
   "execution_count": 277,
   "id": "f6cb2f78",
   "metadata": {},
   "outputs": [
    {
     "name": "stdout",
     "output_type": "stream",
     "text": [
      "1 \n",
      "1 1 1 \n",
      "1 1 1 1 1 \n"
     ]
    }
   ],
   "source": [
    "k = 1\n",
    "for i in range(1,4):\n",
    "    for j in range(1,k+1):\n",
    "        print('1',end=' ')\n",
    "    k+=2\n",
    "    print()"
   ]
  },
  {
   "cell_type": "code",
   "execution_count": 278,
   "id": "0234f8a3",
   "metadata": {},
   "outputs": [
    {
     "name": "stdout",
     "output_type": "stream",
     "text": [
      "1 \n",
      "1 2 3 \n",
      "1 2 3 4 5 \n"
     ]
    }
   ],
   "source": [
    "k = 1\n",
    "for i in range(1,4):\n",
    "    for j in range(1,k+1):\n",
    "        print(j,end=' ')\n",
    "    k+=2\n",
    "    print()"
   ]
  },
  {
   "cell_type": "code",
   "execution_count": 279,
   "id": "ccfa66e1",
   "metadata": {},
   "outputs": [
    {
     "name": "stdout",
     "output_type": "stream",
     "text": [
      "    * \n",
      "   * * \n",
      "  * * * \n",
      " * * * * \n"
     ]
    }
   ],
   "source": [
    "for i in range(1,5):\n",
    "    for j in range(5-i):\n",
    "        print(end=' ')\n",
    "    for k in range(1,i+1):\n",
    "        print('*',end=' ')\n",
    "    print()"
   ]
  },
  {
   "cell_type": "code",
   "execution_count": 283,
   "id": "28957fd6",
   "metadata": {},
   "outputs": [
    {
     "name": "stdout",
     "output_type": "stream",
     "text": [
      "Enter number of rows of '*' to print: 4\n",
      "    * \n",
      "   * * \n",
      "  * * * \n",
      " * * * * \n"
     ]
    }
   ],
   "source": [
    "#P.21\n",
    "num = int(input(\"Enter number of rows of '*' to print: \"))\n",
    "for i in range(1,num+1):\n",
    "    for j in range(num+1-i):\n",
    "        print(end=' ')\n",
    "    for k in range(1,i+1):\n",
    "        print('*',end=' ')\n",
    "    print()"
   ]
  },
  {
   "cell_type": "code",
   "execution_count": 303,
   "id": "2c932902",
   "metadata": {},
   "outputs": [
    {
     "name": "stdout",
     "output_type": "stream",
     "text": [
      "* * * * * \n",
      " * * * * \n",
      "  * * * \n",
      "   * * \n",
      "    * \n"
     ]
    }
   ],
   "source": [
    "for i in range(1,6):\n",
    "    for j in range(1,i):\n",
    "        print('',end=' ')\n",
    "    for k in range(6-i):\n",
    "        print('*',end=' ')\n",
    "    print()"
   ]
  },
  {
   "cell_type": "code",
   "execution_count": 311,
   "id": "d5032a79",
   "metadata": {},
   "outputs": [
    {
     "name": "stdout",
     "output_type": "stream",
     "text": [
      "Enter number of rows of \"*\" to print: 5\n",
      "* * * * * \n",
      " * * * * \n",
      "  * * * \n",
      "   * * \n",
      "    * \n"
     ]
    }
   ],
   "source": [
    "#P.22\n",
    "num = int(input('Enter number of rows of \"*\" to print: '))\n",
    "for i in range(1,num+1):\n",
    "    for j in range(1,i):\n",
    "        print(end=' ')\n",
    "    for k in range(num,i-1,-1):\n",
    "        print('*',end=' ')\n",
    "    print()"
   ]
  },
  {
   "cell_type": "code",
   "execution_count": 321,
   "id": "d37e3b93",
   "metadata": {},
   "outputs": [
    {
     "name": "stdout",
     "output_type": "stream",
     "text": [
      " *** \n",
      "*   *\n",
      "*   *\n",
      "*****\n",
      "*   *\n",
      "*   *\n",
      "*   *\n"
     ]
    }
   ],
   "source": [
    "#P.23 print A\n",
    "for row in range(7):\n",
    "    for col in range(5):\n",
    "        if ((col == 0 or col == 4) and row != 0) or ((row ==0 or row == 3) and (col > 0 and col < 4)):\n",
    "            print('*',end='')\n",
    "        else:\n",
    "            print(end=' ')\n",
    "    print()"
   ]
  },
  {
   "cell_type": "code",
   "execution_count": 325,
   "id": "8d26bed6",
   "metadata": {},
   "outputs": [
    {
     "name": "stdout",
     "output_type": "stream",
     "text": [
      "*****\n",
      "*   *\n",
      "*   *\n",
      "*****\n",
      "*   *\n",
      "*   *\n",
      "*   *\n"
     ]
    }
   ],
   "source": [
    "for row in range(7):\n",
    "    for col in range(5):\n",
    "        if ((col == 0 or col == 4)) or ((row == 0 or row == 3) and (col > 0 and col < 4)):\n",
    "            print('*',end='')\n",
    "        else:\n",
    "            print(end=' ')\n",
    "    print()"
   ]
  },
  {
   "cell_type": "code",
   "execution_count": 337,
   "id": "a4eec793",
   "metadata": {},
   "outputs": [
    {
     "name": "stdout",
     "output_type": "stream",
     "text": [
      "*****\n",
      "*   *\n",
      "*   *\n",
      "*****\n",
      "*   *\n",
      "*   *\n",
      "*****\n"
     ]
    }
   ],
   "source": [
    "#P.24 print B\n",
    "for row in range(7):\n",
    "    for col in range(5):\n",
    "        if (col == 0 or col == 4) or (row == 0  or row ==3 or row == 6):\n",
    "            print('*',end='')\n",
    "        else:\n",
    "            print(end=' ')\n",
    "    print()"
   ]
  },
  {
   "cell_type": "code",
   "execution_count": 345,
   "id": "0e8e99bd",
   "metadata": {},
   "outputs": [
    {
     "name": "stdout",
     "output_type": "stream",
     "text": [
      "**** \n",
      "*   *\n",
      "*   *\n",
      "**** \n",
      "*   *\n",
      "*   *\n",
      "**** \n"
     ]
    }
   ],
   "source": [
    "for row in range(7):\n",
    "    for col in range(5):\n",
    "        if (col == 0) or (col == 4 and (row != 0 and row!= 3 and row != 6))or ((row == 0  or row == 3 or row == 6) and (col!= 4)) :\n",
    "            print('*',end='')\n",
    "        else:\n",
    "            print(end=' ')\n",
    "    print()"
   ]
  },
  {
   "cell_type": "code",
   "execution_count": 350,
   "id": "08093bee",
   "metadata": {},
   "outputs": [
    {
     "name": "stdout",
     "output_type": "stream",
     "text": [
      "* \n",
      "* * \n",
      "* * * \n",
      "* * * * \n",
      "* * * * * \n"
     ]
    }
   ],
   "source": [
    "for row in range(1,6):\n",
    "    for col in range(1,row+1):\n",
    "        print('*',end=' ')\n",
    "    print()"
   ]
  },
  {
   "cell_type": "code",
   "execution_count": 354,
   "id": "99e35d01",
   "metadata": {},
   "outputs": [
    {
     "name": "stdout",
     "output_type": "stream",
     "text": [
      "1 \n",
      "2 2 \n",
      "3 3 3 \n",
      "4 4 4 4 \n",
      "5 5 5 5 5 \n"
     ]
    }
   ],
   "source": [
    "for row in range(1,6):\n",
    "    for col in range(1,row+1):\n",
    "        print(row,end=' ')\n",
    "    print()"
   ]
  },
  {
   "cell_type": "code",
   "execution_count": 359,
   "id": "e1ce5633",
   "metadata": {},
   "outputs": [
    {
     "name": "stdout",
     "output_type": "stream",
     "text": [
      "0 \n",
      "1 2 \n",
      "3 4 5 \n",
      "6 7 8 9 \n"
     ]
    }
   ],
   "source": [
    "count = 0\n",
    "for row in range(0,4):\n",
    "    for col in range(0,row+1):\n",
    "        print(count,end=' ')\n",
    "        count+=1\n",
    "    print()"
   ]
  },
  {
   "cell_type": "code",
   "execution_count": 360,
   "id": "45a7ffc2",
   "metadata": {},
   "outputs": [
    {
     "name": "stdout",
     "output_type": "stream",
     "text": [
      "        1 \n",
      "      1 2 \n",
      "    1 2 3 \n",
      "  1 2 3 4 \n",
      "1 2 3 4 5 \n"
     ]
    }
   ],
   "source": [
    "for row in range(1,6):\n",
    "    for space in range(5-row):\n",
    "        print(' ',end=' ')\n",
    "    for col in range(1,row+1):\n",
    "        print(col,end=' ')\n",
    "    print()"
   ]
  },
  {
   "cell_type": "code",
   "execution_count": 361,
   "id": "7a6c5897",
   "metadata": {},
   "outputs": [
    {
     "name": "stdout",
     "output_type": "stream",
     "text": [
      "    1 \n",
      "   1 2 \n",
      "  1 2 3 \n",
      " 1 2 3 4 \n",
      "1 2 3 4 5 \n"
     ]
    }
   ],
   "source": [
    "for row in range(1,6):\n",
    "    for space in range(5-row):\n",
    "        print('',end=' ')\n",
    "    for col in range(1,row+1):\n",
    "        print(col,end=' ')\n",
    "    print()"
   ]
  },
  {
   "cell_type": "code",
   "execution_count": 362,
   "id": "6237b797",
   "metadata": {},
   "outputs": [
    {
     "name": "stdout",
     "output_type": "stream",
     "text": [
      "    1 \n",
      "   2 2 \n",
      "  3 3 3 \n",
      " 4 4 4 4 \n",
      "5 5 5 5 5 \n"
     ]
    }
   ],
   "source": [
    "for row in range(1,6):\n",
    "    for space in range(5-row):\n",
    "        print('',end=' ')\n",
    "    for col in range(1,row+1):\n",
    "        print(row,end=' ')\n",
    "    print()"
   ]
  },
  {
   "cell_type": "code",
   "execution_count": 363,
   "id": "6731b6b7",
   "metadata": {},
   "outputs": [
    {
     "name": "stdout",
     "output_type": "stream",
     "text": [
      "Note: Type 999 to break the loop!\n",
      "Enter any number : 50\n",
      "Sqrt of 50 is : 7.07\n",
      "Enter any number : 100\n",
      "Sqrt of 100 is : 10.0\n",
      "Enter any number : -30\n",
      "Sqrt of negative number can not be calculated!\n",
      "Enter any number : 0\n",
      "Sqrt of 0 is : 0.0\n",
      "Enter any number : 999\n"
     ]
    }
   ],
   "source": [
    "# find sqrt using break,continue statements inside loop\n",
    "print('Note: Type 999 to break the loop!')\n",
    "while True:\n",
    "    num = int(input('Enter any number : '))\n",
    "    if num == 999:\n",
    "        break\n",
    "    elif num < 0:\n",
    "        print('Sqrt of negative number can not be calculated!')\n",
    "    else:\n",
    "        print(f'Sqrt of {num} is : {round((num**0.5),2)}')"
   ]
  },
  {
   "cell_type": "code",
   "execution_count": 364,
   "id": "6f197f08",
   "metadata": {},
   "outputs": [
    {
     "data": {
      "text/plain": [
       "-5.0"
      ]
     },
     "execution_count": 364,
     "metadata": {},
     "output_type": "execute_result"
    }
   ],
   "source": [
    "-25**0.5"
   ]
  },
  {
   "cell_type": "code",
   "execution_count": 371,
   "id": "31526f5f",
   "metadata": {},
   "outputs": [
    {
     "name": "stdout",
     "output_type": "stream",
     "text": [
      "Note: -1 will break the loop!\n",
      "Enter any number: 0\n",
      "Enter any number: 1\n",
      "Enter any number: 2\n",
      "Enter any number: 3\n",
      "Enter any number: 4\n",
      "Enter any number: 5\n",
      "Enter any number: 9\n",
      "Enter any number: -1\n",
      "Count of prime numbers     :  3\n",
      "Count of composite numbers :  2\n"
     ]
    }
   ],
   "source": [
    "# prime and composite count\n",
    "print('Note: -1 will break the loop!')\n",
    "prime_count= 0\n",
    "composite_count = 0\n",
    "while True:\n",
    "    num = int(input('Enter any number: '))\n",
    "    if num == -1:\n",
    "        break\n",
    "    elif num < 2:\n",
    "        pass\n",
    "    elif num == 2:\n",
    "        prime_count+=1\n",
    "    else:\n",
    "        for i in range(2,num):\n",
    "            if num % i == 0:\n",
    "                composite_count +=1\n",
    "                break\n",
    "        else:\n",
    "            prime_count+=1\n",
    "            \n",
    "print(\"Count of prime numbers     : \",prime_count)\n",
    "print(\"Count of composite numbers : \",composite_count)"
   ]
  },
  {
   "cell_type": "code",
   "execution_count": 372,
   "id": "ce366cb7",
   "metadata": {},
   "outputs": [
    {
     "name": "stdout",
     "output_type": "stream",
     "text": [
      "Note: -1 will break the loop!\n",
      "Enter any number: 0\n",
      "Enter any number: 1\n",
      "Enter any number: 2\n",
      "Enter any number: 3\n",
      "Enter any number: 4\n",
      "Enter any number: 5\n",
      "Enter any number: 9\n",
      "Enter any number: -1\n",
      "Count of prime numbers     :  3\n",
      "Count of composite numbers :  2\n"
     ]
    }
   ],
   "source": [
    "# prime and composite count\n",
    "print('Note: -1 will break the loop!')\n",
    "prime_count= 0\n",
    "composite_count = 0\n",
    "while True:\n",
    "    num = int(input('Enter any number: '))\n",
    "    if num == -1:\n",
    "        break\n",
    "    elif num < 2:\n",
    "        pass\n",
    "    elif num == 2:\n",
    "        prime_count+=1\n",
    "    else:\n",
    "        i = 2\n",
    "        while i < num:\n",
    "            if num % i == 0:\n",
    "                composite_count +=1\n",
    "                break\n",
    "            i+=1\n",
    "        else:\n",
    "            prime_count+=1\n",
    "            \n",
    "print(\"Count of prime numbers     : \",prime_count)\n",
    "print(\"Count of composite numbers : \",composite_count)"
   ]
  },
  {
   "cell_type": "code",
   "execution_count": 376,
   "id": "7c79c46e",
   "metadata": {},
   "outputs": [
    {
     "name": "stdout",
     "output_type": "stream",
     "text": [
      "Enter the value of n: 9\n",
      "1/2 = 0.5\n",
      "1/3 = 0.33\n",
      "1/4 = 0.25\n",
      "1/5 = 0.2\n",
      "1/6 = 0.17\n",
      "1/7 = 0.14\n",
      "1/8 = 0.12\n",
      "1/9 = 0.11\n",
      "1/10 = 0.1\n"
     ]
    }
   ],
   "source": [
    "#decimal eqvt of 1/2,1/3,1/4...,1/n\n",
    "n = int(input('Enter the value of n: '))\n",
    "for i in range(1,n+1):\n",
    "    den = 1/(i+1)\n",
    "    print(f'1/{i+1} = {round(den,2)}')"
   ]
  },
  {
   "cell_type": "code",
   "execution_count": 392,
   "id": "356942c7",
   "metadata": {},
   "outputs": [
    {
     "name": "stdout",
     "output_type": "stream",
     "text": [
      "Pass :  H \n",
      "Pass :  E \n",
      "Pass :  L \n",
      "Pass :  L \n",
      "Pass :  O \n",
      "Done!\n"
     ]
    }
   ],
   "source": [
    "string = 'HELLO'\n",
    "for row in range(0,5):\n",
    "    print('Pass : ',end=' ')\n",
    "    for col in range(0,1):\n",
    "        print(string[row],end=' ')\n",
    "    print()\n",
    "print('Done!')"
   ]
  },
  {
   "cell_type": "code",
   "execution_count": 395,
   "id": "e0373dd8",
   "metadata": {},
   "outputs": [
    {
     "name": "stdout",
     "output_type": "stream",
     "text": [
      "Pass :  H\n",
      "Pass :  E\n",
      "Pass :  L\n",
      "Pass :  L\n",
      "Pass :  O\n",
      "Done!\n"
     ]
    }
   ],
   "source": [
    "#Sometimes,its simple!\n",
    "for letter in 'HELLO':\n",
    "    print('Pass : ',letter )\n",
    "print('Done!')"
   ]
  },
  {
   "cell_type": "markdown",
   "id": "6e489c51",
   "metadata": {},
   "source": [
    "## Thank You!"
   ]
  }
 ],
 "metadata": {
  "kernelspec": {
   "display_name": "Python 3 (ipykernel)",
   "language": "python",
   "name": "python3"
  },
  "language_info": {
   "codemirror_mode": {
    "name": "ipython",
    "version": 3
   },
   "file_extension": ".py",
   "mimetype": "text/x-python",
   "name": "python",
   "nbconvert_exporter": "python",
   "pygments_lexer": "ipython3",
   "version": "3.9.12"
  }
 },
 "nbformat": 4,
 "nbformat_minor": 5
}
