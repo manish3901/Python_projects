{
 "cells": [
  {
   "cell_type": "markdown",
   "id": "5b2db21b",
   "metadata": {},
   "source": [
    "# Rock-Paper-Scissor"
   ]
  },
  {
   "cell_type": "code",
   "execution_count": 1,
   "id": "c36b4150",
   "metadata": {},
   "outputs": [
    {
     "name": "stdout",
     "output_type": "stream",
     "text": [
      "***Welcome to Rock Paper Scissor Game***\n",
      "\n",
      "Input Choices:\n",
      "1 for Rock\n",
      "2 for Paper\n",
      "3 for Scissor\n",
      "\n",
      "Please enter integer (1-3): 2\n",
      "Player choice is 2: PAPER\n",
      "Computer choice is 1: ROCK\n",
      "\n",
      "Player wins!\n"
     ]
    }
   ],
   "source": [
    "#Import random module to play against computer.\n",
    "import random\n",
    "#constant Variables denotion\n",
    "ROCK = 1\n",
    "PAPER=2\n",
    "SCISSORS =3\n",
    "print(\"***Welcome to Rock Paper Scissor Game***\")\n",
    "print()\n",
    "print(\"Input Choices:\")\n",
    "print(\"1 for Rock\")\n",
    "print(\"2 for Paper\")\n",
    "print(\"3 for Scissor\")\n",
    "\n",
    "print()\n",
    "Player_choice = int(input(\"Please enter integer (1-3): \"))\n",
    "if Player_choice == 1:\n",
    "    print(\"Player choice is 1: ROCK\")\n",
    "elif Player_choice == 2:\n",
    "    print(\"Player choice is 2: PAPER\")\n",
    "elif Player_choice == 3: \n",
    "    print(\"Player choice is 3: SCISSOR\")\n",
    "else:\n",
    "    print(\"Invalid choice,pick Integer between 1-3\")\n",
    "\n",
    "\n",
    "Computer_choice = random.randint(1,3)  #it includes endpoint\n",
    "if Computer_choice == 1:\n",
    "    print(\"Computer choice is 1: ROCK\")\n",
    "elif Computer_choice == 2:\n",
    "    print(\"Computer choice is 2: PAPER\")\n",
    "else:\n",
    "    print(\"Computer choice is 3: SCISSOR\")\n",
    "print()\n",
    "\n",
    "#stratergy\n",
    "#for tie condition\n",
    "if Player_choice == Computer_choice:\n",
    "     print(\"Game is tie!\")\n",
    "#Player win conditions!\n",
    "#Rock beats Scissors\n",
    "elif Player_choice ==1 and (Computer_choice==3):\n",
    "    print(\"Player wins!\")\n",
    "#Paper beats Rock   \n",
    "elif Player_choice ==2 and (Computer_choice==1):\n",
    "    print(\"Player wins!\")\n",
    "#Scissors beat Paper\n",
    "elif Player_choice ==3 and (Computer_choice==2):\n",
    "    print(\"Player wins!\")\n",
    "\n",
    "#Computer wins!    \n",
    "else:\n",
    "    print(\"Computer wins!\")"
   ]
  },
  {
   "cell_type": "code",
   "execution_count": 3,
   "id": "4cd6624d",
   "metadata": {},
   "outputs": [
    {
     "name": "stdout",
     "output_type": "stream",
     "text": [
      "====== Welcome to the game ======\n",
      "Please enter rock / paper / scissor: \n",
      "scissor\n",
      "You win! Your opponent chose 'paper'\n"
     ]
    }
   ],
   "source": [
    "#Method2\n",
    "import random\n",
    "\n",
    "options = (\"rock\",\"paper\",\"scissor\")\n",
    "#computer choice\n",
    "computer_choice = options[random.randint(0,2)]  #indexing starts from 0.\n",
    "\n",
    "\n",
    "print(\"====== Welcome to the game ======\")\n",
    "player_choice= input(\"Please enter rock / paper / scissor: \\n\")\n",
    "\n",
    "\n",
    "if player_choice.lower() == computer_choice:\n",
    "    \n",
    "    print(\"Game is tie!\")\n",
    "elif player_choice.lower() == 'rock':\n",
    "    if computer_choice=='paper':\n",
    "        print(\"You lose! Your opponent chose 'Paper'\")\n",
    "    else:\n",
    "        print(\"You win! Your opponent chose 'Scissors'\") \n",
    "        \n",
    "elif player_choice.lower()== 'paper':\n",
    "    if computer_choice=='rock':\n",
    "        print(\"You win! Your opponent chose 'Rock'\")\n",
    "    else:\n",
    "        print(\"You lose! Your opponent chose 'Scissors'\")\n",
    "\n",
    "elif player_choice.lower()== 'scissor':\n",
    "    if computer_choice=='paper':\n",
    "        print(\"You win! Your opponent chose 'paper'\")\n",
    "    else:\n",
    "        print(\"You lose! Your opponent chose 'rock'\")\n",
    "        \n",
    "else:\n",
    "    print(\"Please enter a valid option.\")\n"
   ]
  },
  {
   "cell_type": "code",
   "execution_count": null,
   "id": "d67f3ac5",
   "metadata": {},
   "outputs": [],
   "source": []
  }
 ],
 "metadata": {
  "kernelspec": {
   "display_name": "Python 3 (ipykernel)",
   "language": "python",
   "name": "python3"
  },
  "language_info": {
   "codemirror_mode": {
    "name": "ipython",
    "version": 3
   },
   "file_extension": ".py",
   "mimetype": "text/x-python",
   "name": "python",
   "nbconvert_exporter": "python",
   "pygments_lexer": "ipython3",
   "version": "3.9.7"
  }
 },
 "nbformat": 4,
 "nbformat_minor": 5
}
