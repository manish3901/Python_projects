{
 "cells": [
  {
   "cell_type": "markdown",
   "id": "a89fcba8",
   "metadata": {},
   "source": [
    "# Interactive Calculator"
   ]
  },
  {
   "cell_type": "code",
   "execution_count": 1,
   "id": "b10ed547",
   "metadata": {},
   "outputs": [
    {
     "name": "stdout",
     "output_type": "stream",
     "text": [
      "***Welcome to the calculator***\n",
      "\n",
      "Please enter an integer value: 50\n",
      "Please enter second integer value: 6\n",
      "\n",
      "Choice of operation:\n",
      "1 for addition\n",
      "2 for subtraction\n",
      "3 for multiplication\n",
      "4 for division\n",
      "5 for integer division\n",
      "6 for modulo(remainder calculator)\n",
      "\n",
      "Your choice of operation:(Chose int between 1-6): 4\n",
      "\n",
      "The result of 50 / 6 is: 8.333333333333334\n"
     ]
    }
   ],
   "source": [
    "#Assign variables \n",
    "ADDITION = 1            #(Written in capital to showcase its constants that shouldn't be changed!)\n",
    "SUBTRACTION = 2\n",
    "MULTIPLICATION =3\n",
    "DIVISION = 4\n",
    "INTEGER_DIVISION = 5\n",
    "MODULO = 6\n",
    "\n",
    "print(\"***Welcome to the calculator***\")\n",
    "print()\n",
    "\n",
    "#Value inputs(input () by default outputs strings so add int befor input)\n",
    "value_input1 = int(input(\"Please enter an integer value: \"))\n",
    "value_input2 = int(input(\"Please enter second integer value: \"))\n",
    "print()\n",
    "#Operation on above value inputs\n",
    "#choice of operaton:\n",
    "print(\"Choice of operation:\")\n",
    "print(\"1 for addition\")\n",
    "print(\"2 for subtraction\")\n",
    "print(\"3 for multiplication\")\n",
    "print(\"4 for division\")\n",
    "print(\"5 for integer division\")\n",
    "print(\"6 for modulo(remainder calculator)\")\n",
    "print()\n",
    "#operation\n",
    "operation = int(input(\"Your choice of operation:(Chose int between 1-6): \"))\n",
    "print()\n",
    "#Code for operatin on above three inputs using if else statements\n",
    "if operation == ADDITION:\n",
    "    result= value_input1 + value_input2\n",
    "    print(f\"The result of {value_input1} + {value_input2} is: {result}\")\n",
    "elif operation == SUBTRACTION:\n",
    "    result= value_input1 - value_input2\n",
    "    print(f\"The result of {value_input1} - {value_input2} is: {result}\")\n",
    "elif operation == MULTIPLICATION:\n",
    "    result= value_input1 * value_input2\n",
    "    print(f\"The result of {value_input1} * {value_input2} is: {result}\")\n",
    "elif operation == DIVISION:\n",
    "    #check for division by 0.(It gives error!)\n",
    "    if value_input1==0 or value_input2 ==0:\n",
    "        print(\"Invalid choice!division by zero\")\n",
    "    else:\n",
    "        result= value_input1 / value_input2\n",
    "        print(f\"The result of {value_input1} / {value_input2} is: {result}\")\n",
    "elif operation == INTEGER_DIVISION:\n",
    "    result= value_input1 // value_input2\n",
    "    print(f\"The result of {value_input1} // {value_input2} is: {result}\")\n",
    "elif operation == MODULO:\n",
    "    result= value_input1 % value_input2\n",
    "    print(f\"The result of {value_input1} % {value_input2} is: {result}\")\n",
    "else:\n",
    "    print(\"Enter a valid number\")"
   ]
  }
 ],
 "metadata": {
  "kernelspec": {
   "display_name": "Python 3 (ipykernel)",
   "language": "python",
   "name": "python3"
  },
  "language_info": {
   "codemirror_mode": {
    "name": "ipython",
    "version": 3
   },
   "file_extension": ".py",
   "mimetype": "text/x-python",
   "name": "python",
   "nbconvert_exporter": "python",
   "pygments_lexer": "ipython3",
   "version": "3.9.7"
  }
 },
 "nbformat": 4,
 "nbformat_minor": 5
}
