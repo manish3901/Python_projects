{
 "cells": [
  {
   "cell_type": "markdown",
   "id": "2f28dcda",
   "metadata": {},
   "source": [
    "# Recursions"
   ]
  },
  {
   "cell_type": "code",
   "execution_count": 1,
   "id": "8e8cddd9",
   "metadata": {},
   "outputs": [],
   "source": [
    "#Q1\n",
    "#Write a Python program that finds the sum of a list (or tuple) of numbers recursively.\n",
    "#Print the total sum.\n",
    "#If the list (or tuple) is empty, print 0."
   ]
  },
  {
   "cell_type": "code",
   "execution_count": 2,
   "id": "f7c58d0b",
   "metadata": {},
   "outputs": [],
   "source": [
    "def sum_of_all(count):\n",
    "    for i in count:\n",
    "        return sum(count)"
   ]
  },
  {
   "cell_type": "code",
   "execution_count": 10,
   "id": "a71a4482",
   "metadata": {},
   "outputs": [
    {
     "data": {
      "text/plain": [
       "1"
      ]
     },
     "execution_count": 10,
     "metadata": {},
     "output_type": "execute_result"
    }
   ],
   "source": [
    "sum_of_all([-1,2,0])"
   ]
  },
  {
   "cell_type": "code",
   "execution_count": 14,
   "id": "ed2686af",
   "metadata": {},
   "outputs": [
    {
     "name": "stdout",
     "output_type": "stream",
     "text": [
      "15\n"
     ]
    }
   ],
   "source": [
    "#method1\n",
    "my_list=[4,5,6]\n",
    "\n",
    "def find_sum(s):\n",
    "    \n",
    "    #BASE CASE\n",
    "    if len(s)==0:\n",
    "        return 0\n",
    "    \n",
    "    #Recursive Case\n",
    "    else:\n",
    "        return s[0] + find_sum(s[1:])\n",
    "\n",
    "print(find_sum(my_list))"
   ]
  },
  {
   "cell_type": "code",
   "execution_count": 15,
   "id": "b3871860",
   "metadata": {},
   "outputs": [
    {
     "name": "stdout",
     "output_type": "stream",
     "text": [
      "0\n"
     ]
    }
   ],
   "source": [
    "my_list=[]\n",
    "\n",
    "def find_sum(s):\n",
    "    if len(s)==0:\n",
    "        return 0\n",
    "    else:\n",
    "        return s[0] + find_sum(s[1:])\n",
    "\n",
    "print(find_sum(my_list))"
   ]
  },
  {
   "cell_type": "code",
   "execution_count": 17,
   "id": "a70d2914",
   "metadata": {},
   "outputs": [
    {
     "name": "stdout",
     "output_type": "stream",
     "text": [
      "15\n"
     ]
    }
   ],
   "source": [
    "my_list=[5,4,6]\n",
    "\n",
    "def find_sum(s):\n",
    "    if not s:   #truthy falsy condn\n",
    "        return 0\n",
    "    else:\n",
    "        return s[0] + find_sum(s[1:])\n",
    "\n",
    "print(find_sum(my_list))"
   ]
  },
  {
   "cell_type": "code",
   "execution_count": null,
   "id": "08c08db7",
   "metadata": {},
   "outputs": [],
   "source": [
    "#Q2\n",
    "#Write a Python program that calculates and prints the nth Fibonacci number.\n",
    "#The value of n represents the position of the element in the sequence.\n",
    "#The initial value of n should be 0.\n",
    "#You may assume that the value of n is a non-negative integer.\n",
    "\n",
    "#Identify the base case and the recursive case.\n",
    "#For the base case: what condition should stop the process?\n",
    "#For the recursive case: how should we continue the process?"
   ]
  },
  {
   "cell_type": "code",
   "execution_count": 19,
   "id": "85247eda",
   "metadata": {},
   "outputs": [],
   "source": [
    "def fibonacci(n):\n",
    "    #BASE CASE\n",
    "    if n in (0,1):   #value of 0 in fibonacci is 0 & 1 is 1.\n",
    "        return n\n",
    "    #RECURSIVE CASE\n",
    "    else:\n",
    "        return fibonacci(n-1) + fibonacci(n-2)"
   ]
  },
  {
   "cell_type": "code",
   "execution_count": 22,
   "id": "e12e726e",
   "metadata": {},
   "outputs": [
    {
     "data": {
      "text/plain": [
       "2"
      ]
     },
     "execution_count": 22,
     "metadata": {},
     "output_type": "execute_result"
    }
   ],
   "source": [
    "fibonacci(3)"
   ]
  },
  {
   "cell_type": "markdown",
   "id": "9bd6c764",
   "metadata": {},
   "source": [
    "                   fibonacci(3)  ---> recursive case\n",
    "                    /      \\\n",
    "        fibonacci(2)        fibonacci(1)\n",
    "            /   \\\n",
    "fibonacci(1)    fibonacci(0)   ---> returned to the base case\n",
    "         / \\\n",
    "return 1  return0"
   ]
  },
  {
   "cell_type": "markdown",
   "id": "a2d45d61",
   "metadata": {},
   "source": [
    "- fibonacci(2) = fibonacci(1) + fibonacci(0)\n",
    "- fibonacci(2) = 1+0  #as fib(1) =1,fib(0)=0\n",
    "- fibonacci(3) = fibonacci(2) + fibonacci(1) == 1 + 1 ==2\n",
    "- fibonacci(2) = 1\n",
    "- fibonacci(3) = 2"
   ]
  },
  {
   "cell_type": "code",
   "execution_count": 25,
   "id": "0bcb4383",
   "metadata": {},
   "outputs": [
    {
     "name": "stdout",
     "output_type": "stream",
     "text": [
      "120\n"
     ]
    }
   ],
   "source": [
    "#Q3\n",
    "#Recursive Factorial\n",
    "def factorial(n):\n",
    "    if n in (0,1):\n",
    "        return 1\n",
    "    else:\n",
    "        return n * factorial(n-1)\n",
    "\n",
    "print(factorial(5))"
   ]
  },
  {
   "cell_type": "code",
   "execution_count": 33,
   "id": "a9e11984",
   "metadata": {},
   "outputs": [
    {
     "name": "stdout",
     "output_type": "stream",
     "text": [
      "6\n"
     ]
    }
   ],
   "source": [
    "#Q4\n",
    "#Find the Sum of the Digits of a Positive Integer\n",
    "num =123\n",
    "total_sum=0\n",
    "for i in str(num):\n",
    "    total_sum+=int(i)\n",
    "print(total_sum)\n",
    "    "
   ]
  },
  {
   "cell_type": "code",
   "execution_count": 34,
   "id": "ff1e6012",
   "metadata": {},
   "outputs": [],
   "source": [
    "def sum_of_digits(num):\n",
    "    if num==0:\n",
    "        return 0\n",
    "    else:\n",
    "        return (num % 10) + sum_of_digits(num // 10) "
   ]
  },
  {
   "cell_type": "code",
   "execution_count": 41,
   "id": "1ac4c3ae",
   "metadata": {},
   "outputs": [
    {
     "name": "stdout",
     "output_type": "stream",
     "text": [
      "6\n"
     ]
    }
   ],
   "source": [
    "print(sum_of_digits((123)))"
   ]
  },
  {
   "cell_type": "code",
   "execution_count": 43,
   "id": "f8607b36",
   "metadata": {},
   "outputs": [
    {
     "name": "stdout",
     "output_type": "stream",
     "text": [
      "1\n"
     ]
    }
   ],
   "source": [
    "#Q5\n",
    "#Write a Python program that find the value of a raised to the power b recursively.\n",
    "#The operation is a**b in Python, where a is the base and b is the exponent.\n",
    "#If the value of b is 0, the result is automatically 1 because every number raised to the power 0 is 1.\n",
    "\n",
    "def power(a,b):\n",
    "    return a**b\n",
    "\n",
    "print(power(2,0))"
   ]
  },
  {
   "cell_type": "code",
   "execution_count": 49,
   "id": "43bdb6c2",
   "metadata": {},
   "outputs": [
    {
     "name": "stdout",
     "output_type": "stream",
     "text": [
      "1\n"
     ]
    }
   ],
   "source": [
    "def power(a,b):\n",
    "    #BASE CASE\n",
    "    if b == 0:\n",
    "        return 1\n",
    "    elif b ==1:\n",
    "        return a\n",
    "    #RECURSIVE CASE\n",
    "    else:\n",
    "        return a * power(a,b-1)\n",
    "print(power(2,0))"
   ]
  },
  {
   "cell_type": "markdown",
   "id": "82a22345",
   "metadata": {},
   "source": [
    "                   power(a,b)  ---> recursive case\n",
    "                    /      \\\n",
    "        return(a)        (1)\n",
    "            /   \\\n",
    "fibonacci(1)    fibonacci(0)   ---> returned to the base case\n",
    "         / \\\n",
    "return 1  return0"
   ]
  },
  {
   "cell_type": "markdown",
   "id": "87acb756",
   "metadata": {},
   "source": [
    "power(a,b)-->  return(a) * power(a,b-1)   #a=2,b=3\n",
    "-             -->    2 * power(2,2)\n",
    "-             -->    2 * return(a) * power(a,b-1)#(2,1)\n",
    "-             -->    2 * return 2 * power(2,1)  # if b==1,return a (BASE CASE)\n",
    "-            -->    2 * 2 * return (a) \n",
    "-             -->   2 * 2 * 2\n",
    "-             --> 8"
   ]
  },
  {
   "cell_type": "code",
   "execution_count": 50,
   "id": "97c6a942",
   "metadata": {},
   "outputs": [
    {
     "name": "stdout",
     "output_type": "stream",
     "text": [
      "25\n"
     ]
    }
   ],
   "source": [
    "print(power(5,2))"
   ]
  },
  {
   "cell_type": "code",
   "execution_count": 60,
   "id": "c728ac73",
   "metadata": {},
   "outputs": [
    {
     "name": "stdout",
     "output_type": "stream",
     "text": [
      "10.0\n"
     ]
    }
   ],
   "source": [
    "#Q6\n",
    "#Write a Python program that finds and,\n",
    "#prints the Greatest Common Divisor (GCD) of the numbers a and b (the largest number that divides them both).\n",
    "\n",
    "def gcd(a,b):\n",
    "    if a > b:\n",
    "        return a / b\n",
    "    else:\n",
    "        return  b / a\n",
    "print(gcd(5,50))"
   ]
  },
  {
   "cell_type": "code",
   "execution_count": 64,
   "id": "b23f4fb1",
   "metadata": {},
   "outputs": [
    {
     "name": "stdout",
     "output_type": "stream",
     "text": [
      "5\n"
     ]
    }
   ],
   "source": [
    "def gcd(a,b):\n",
    "    #BASE CASE\n",
    "    if b == 0:\n",
    "        return a\n",
    "    #RECURSIVE CASE\n",
    "    else:\n",
    "        return gcd(b, a % b)\n",
    "print(gcd(25,5))"
   ]
  },
  {
   "cell_type": "markdown",
   "id": "07945782",
   "metadata": {},
   "source": [
    "gcd(a,b)-->  return gcd(b, a % b)   #a=25,b=5\n",
    "-             -->   gcd(5, 0) #25 % 5 =0\n",
    "-             -->   return a # #BASE CASE\n",
    "-             -->   5\n"
   ]
  },
  {
   "cell_type": "code",
   "execution_count": 66,
   "id": "62572973",
   "metadata": {},
   "outputs": [
    {
     "data": {
      "text/plain": [
       "2"
      ]
     },
     "execution_count": 66,
     "metadata": {},
     "output_type": "execute_result"
    }
   ],
   "source": [
    "gcd(6,2)"
   ]
  },
  {
   "cell_type": "markdown",
   "id": "d34e742d",
   "metadata": {},
   "source": [
    "gcd(a,b)-->  return gcd(b, a % b)   #a=6,b=2\n",
    "-             -->   gcd(2, 0) #6 % 2 =0\n",
    "-             -->   return a # #BASE CASE\n",
    "-             -->   2"
   ]
  },
  {
   "cell_type": "code",
   "execution_count": 68,
   "id": "de9cd6ad",
   "metadata": {},
   "outputs": [
    {
     "data": {
      "text/plain": [
       "14"
      ]
     },
     "execution_count": 68,
     "metadata": {},
     "output_type": "execute_result"
    }
   ],
   "source": [
    "gcd(42,56)"
   ]
  },
  {
   "cell_type": "code",
   "execution_count": 70,
   "id": "aabaa71a",
   "metadata": {},
   "outputs": [
    {
     "data": {
      "text/plain": [
       "14"
      ]
     },
     "execution_count": 70,
     "metadata": {},
     "output_type": "execute_result"
    }
   ],
   "source": [
    "#method2\n",
    "import math\n",
    "a = 42\n",
    "b = 56\n",
    "math.gcd(a,b)"
   ]
  },
  {
   "cell_type": "code",
   "execution_count": 121,
   "id": "08c0a376",
   "metadata": {},
   "outputs": [],
   "source": [
    "#Q7\n",
    "#Write a Python program that checks if a string is a palindrome or not (if it's read the same backwards and forwards).\n",
    "#The program should be case-insensitive. Therefore, \"A\" should be considered equivalent to \"a\".\n",
    "#Print True if the string is a palindrome. Else, print False.\n",
    "#If the string is empty, print True.\n",
    "\n",
    "def palindrome(text):\n",
    "    if text == \"\":\n",
    "        print(True)\n",
    "    elif text.lower()[:]== text.lower()[::-1]:\n",
    "        print(True)\n",
    "    else:\n",
    "        print(False)"
   ]
  },
  {
   "cell_type": "code",
   "execution_count": 122,
   "id": "3a121a1c",
   "metadata": {},
   "outputs": [
    {
     "name": "stdout",
     "output_type": "stream",
     "text": [
      "True\n",
      "True\n",
      "False\n"
     ]
    }
   ],
   "source": [
    "(palindrome(\"\"))\n",
    "(palindrome(\"Anna\"))\n",
    "(palindrome(\"World\"))\n"
   ]
  },
  {
   "cell_type": "code",
   "execution_count": 123,
   "id": "6b4171a2",
   "metadata": {},
   "outputs": [],
   "source": [
    "#method1\n",
    "def is_palindrome(string):\n",
    "    string = string.lower()\n",
    "    \n",
    "    #BASE CASES\n",
    "    if len(string)<= 1:  #\"\",'','A' (only single char is palindrome)\n",
    "        return True\n",
    "    elif string[0] != string[-1]:\n",
    "        return False\n",
    "    #RECURSIVE CASE\n",
    "    else:\n",
    "        return is_palindrome(string[1:-1])"
   ]
  },
  {
   "cell_type": "code",
   "execution_count": 124,
   "id": "0019f999",
   "metadata": {},
   "outputs": [
    {
     "name": "stdout",
     "output_type": "stream",
     "text": [
      "True\n",
      "True\n",
      "False\n"
     ]
    }
   ],
   "source": [
    "(palindrome(\"\"))\n",
    "(palindrome(\"Anna\"))\n",
    "(palindrome(\"World\"))"
   ]
  },
  {
   "cell_type": "markdown",
   "id": "48185c03",
   "metadata": {},
   "source": [
    "- is_palindrome(\"anna\")\n",
    "- len(string)<= 1 ---> False\n",
    "- string[0] != string[-1] --> False\n",
    "\n",
    "- return is_palindrome(string[1:-1])\n",
    "- is_palindrome(\"nn\")\n",
    "- string[0] != string[-1] --> False\n",
    "\n",
    "- is_palindrome(\"\") --> True (BASE CONDITION)"
   ]
  },
  {
   "cell_type": "code",
   "execution_count": 100,
   "id": "5250dee7",
   "metadata": {},
   "outputs": [],
   "source": [
    "#Q8\n",
    "#Count Vowels in a String\n",
    "#If the string is empty or only contains one consonant, print 0.\n",
    "#The program should be case-insensitive. Therefore, vowels in uppercase should also be counted.\n",
    "\n",
    "vowels = ['a','e','i','o','u']\n",
    "vowels_count= ''\n",
    "\n",
    "def check_vowels(strings):\n",
    "    strings = strings.lower()   #case-insensitive\n",
    "    for char in strings:\n",
    "    \n",
    "        #BASE CASE\n",
    "        if len(strings)<1:\n",
    "            return 0\n",
    "        elif char not in vowels:\n",
    "            return 0\n",
    "\n",
    "        #RECURSIVE CASE\n",
    "        else:\n",
    "            vowels_count += 1\n",
    "            return vowels_count"
   ]
  },
  {
   "cell_type": "code",
   "execution_count": 101,
   "id": "36919343",
   "metadata": {},
   "outputs": [
    {
     "data": {
      "text/plain": [
       "0"
      ]
     },
     "execution_count": 101,
     "metadata": {},
     "output_type": "execute_result"
    }
   ],
   "source": [
    "check_vowels('gameon')"
   ]
  },
  {
   "cell_type": "code",
   "execution_count": 105,
   "id": "c80a258b",
   "metadata": {},
   "outputs": [
    {
     "data": {
      "text/plain": [
       "3"
      ]
     },
     "execution_count": 105,
     "metadata": {},
     "output_type": "execute_result"
    }
   ],
   "source": [
    "#method1\n",
    "def count_vowels(string):\n",
    "    string= string.lower()\n",
    "    \n",
    "    #BASE CASES\n",
    "    if not string:\n",
    "        return 0\n",
    "    #RECURSIVE CASES\n",
    "    elif string[0] in ('a','e','i','o','u'):\n",
    "        return 1 + count_vowels(string[1:])\n",
    "    else:\n",
    "        return count_vowels(string[1:])\n",
    "count_vowels('gameon')"
   ]
  },
  {
   "cell_type": "code",
   "execution_count": 106,
   "id": "eaebd77e",
   "metadata": {},
   "outputs": [
    {
     "data": {
      "text/plain": [
       "2"
      ]
     },
     "execution_count": 106,
     "metadata": {},
     "output_type": "execute_result"
    }
   ],
   "source": [
    "count_vowels(\"Cake\")"
   ]
  },
  {
   "cell_type": "code",
   "execution_count": 113,
   "id": "a7b4fc20",
   "metadata": {},
   "outputs": [
    {
     "name": "stdout",
     "output_type": "stream",
     "text": [
      "***\n"
     ]
    }
   ],
   "source": [
    "#Q9\n",
    "#Write a Python program that prints the pattern of asterisks shown below for a given value of n.\n",
    "def pattern(n):\n",
    "    if n ==1:\n",
    "        print(\"*\")\n",
    "    else:\n",
    "        print(\"*\" * n)\n",
    "        \n",
    "pattern(3)"
   ]
  },
  {
   "cell_type": "code",
   "execution_count": 117,
   "id": "6be667e2",
   "metadata": {},
   "outputs": [
    {
     "name": "stdout",
     "output_type": "stream",
     "text": [
      "***\n",
      "**\n",
      "*\n"
     ]
    }
   ],
   "source": [
    "#method1\n",
    "def print_pattern(n):\n",
    "    #BASE CASE\n",
    "    if n==1:\n",
    "        print(\"*\")\n",
    "    #RECURSIVE CASE\n",
    "    else:\n",
    "        print(\"*\" * n)\n",
    "        print_pattern(n-1)\n",
    "        \n",
    "print_pattern(3)"
   ]
  },
  {
   "cell_type": "markdown",
   "id": "78155ff7",
   "metadata": {},
   "source": [
    "- print_pattern(3) --> print(\"*\" * 3)     --> ***\n",
    "- print_pattern(n-1=2) --> print(\"*\" * 2) --> **\n",
    "- print_pattern(n-1=1) --> print(\"*\")     --> *        #BASE CASE"
   ]
  },
  {
   "cell_type": "code",
   "execution_count": 118,
   "id": "40eb611d",
   "metadata": {},
   "outputs": [
    {
     "name": "stdout",
     "output_type": "stream",
     "text": [
      "********\n",
      "*******\n",
      "******\n",
      "*****\n",
      "****\n",
      "***\n",
      "**\n",
      "*\n"
     ]
    }
   ],
   "source": [
    "print_pattern(8)"
   ]
  },
  {
   "cell_type": "code",
   "execution_count": 130,
   "id": "3ab71b1f",
   "metadata": {},
   "outputs": [
    {
     "data": {
      "text/plain": [
       "'101'"
      ]
     },
     "execution_count": 130,
     "metadata": {},
     "output_type": "execute_result"
    }
   ],
   "source": [
    "#Q10\n",
    "#Convert from Decimal to Binary with Recursion (*)\n",
    "#The function must return the binary representation as a string.\n",
    "\n",
    "def convert_to_binary(decimal_num):\n",
    "    #BASE CASE\n",
    "    if decimal_num ==0:\n",
    "        return '0'\n",
    "    #RECURSIVE CASE\n",
    "    else:\n",
    "        return (convert_to_binary(decimal_num // 2 ) + str(decimal_num % 2)).lstrip(\"0\")\n",
    "    \n",
    "convert_to_binary(5)"
   ]
  },
  {
   "cell_type": "markdown",
   "id": "94c91e9e",
   "metadata": {},
   "source": [
    "convert_to_binary(5)\n",
    "decimal_num ==0 --> False\n",
    "\n",
    "(convert_to_binary(decimal_num // 2 ) + str(decimal_num % 2)).lstrip(\"0\")\n",
    "convert_to_binary(5//2 ) + str( 5 % 2).lstrip(\"0\")\n",
    "convert_to_binary(2) + str ( 1 ).lstrip(\"0\")\n",
    "\n",
    "convert_to_binary(2)\n",
    "convert_to_binary(2//2 ) + str( 2 % 2).lstrip(\"0\")\n",
    "convert_to_binary(1) + str ( 0 ).lstrip(\"0\")\n",
    "\n",
    "convert_to_binary(1)\n",
    "convert_to_binary(1//2 ) + str( 1 % 2).lstrip(\"0\")\n",
    "convert_to_binary(0) + str ( 1 ).lstrip(\"0\")  --> #BASE CASE\n",
    "-->return \"0\".lstrip(\"0\")\n",
    "Answer is reverse order of remainders(of modulo).(1,0,1)"
   ]
  },
  {
   "cell_type": "code",
   "execution_count": 133,
   "id": "7d5882d4",
   "metadata": {},
   "outputs": [
    {
     "name": "stdout",
     "output_type": "stream",
     "text": [
      "101\n",
      "0\n",
      "100010\n"
     ]
    }
   ],
   "source": [
    "print(convert_to_binary(5))\n",
    "print(convert_to_binary(0))\n",
    "print(convert_to_binary(34))"
   ]
  },
  {
   "cell_type": "code",
   "execution_count": 134,
   "id": "7a12ffc4",
   "metadata": {},
   "outputs": [
    {
     "name": "stdout",
     "output_type": "stream",
     "text": [
      "0b100010\n"
     ]
    }
   ],
   "source": [
    "#method2\n",
    "#using module\n",
    "print(bin(34))"
   ]
  },
  {
   "cell_type": "code",
   "execution_count": 135,
   "id": "e4625790",
   "metadata": {},
   "outputs": [
    {
     "name": "stdout",
     "output_type": "stream",
     "text": [
      "1000110111\n",
      "0b1000110111\n"
     ]
    }
   ],
   "source": [
    "print(convert_to_binary(567))\n",
    "print(bin(567))"
   ]
  },
  {
   "cell_type": "code",
   "execution_count": 136,
   "id": "c7cc3660",
   "metadata": {},
   "outputs": [],
   "source": [
    "#Q11\n",
    "#Write a Python program that implements the Binary Search algorithm recursively.\n",
    "#The function should search for an element in a list or sequence and return its index.\n",
    "#If the element is not found, the value returned should be -1.\n",
    "\n",
    "def binary_search(seq,low,high,elem):\n",
    "    if low > high:\n",
    "        return -1\n",
    "    else:\n",
    "        middle = (low + high) // 2   #here middle is index ,see below\n",
    "        \n",
    "        if elem == seq[middle]:\n",
    "            return middle\n",
    "        elif elem < seq[middle]:  #if elem in lower bound of seq\n",
    "            return binary_search(seq,low,middle - 1,elem)\n",
    "        else:                     # if elem in upper bound of seq\n",
    "            return binary_search(seq,middle + 1,high,elem)"
   ]
  },
  {
   "cell_type": "code",
   "execution_count": 138,
   "id": "b4d37e9e",
   "metadata": {},
   "outputs": [
    {
     "data": {
      "text/plain": [
       "1"
      ]
     },
     "execution_count": 138,
     "metadata": {},
     "output_type": "execute_result"
    }
   ],
   "source": [
    "binary_search([1,2,3],1,3,2)"
   ]
  },
  {
   "cell_type": "code",
   "execution_count": 142,
   "id": "a30e5d72",
   "metadata": {},
   "outputs": [],
   "source": [
    "def binary_search(seq,low,high,elem):\n",
    "    if low > high:\n",
    "        return -1\n",
    "    else:\n",
    "        middle = (low + high) // 2   \n",
    "        \n",
    "        if elem == seq[middle]:\n",
    "            return middle\n",
    "        elif elem < seq[middle]:  #if elem in lower bound of seq\n",
    "            return binary_search(seq,low,middle - 1,elem)\n",
    "        else:                     # if elem in upper bound of seq\n",
    "            return binary_search(seq,middle + 1,high,elem)"
   ]
  },
  {
   "cell_type": "code",
   "execution_count": 143,
   "id": "7f1a2c28",
   "metadata": {},
   "outputs": [],
   "source": [
    "# let seq= [1,2,3,4,5,6,7]\n",
    "#let elem = 6\n",
    "# low = 0 (as indexing start at 0)\n",
    "#high = 6\n",
    "# middle = (0 + 6)//2 = 3\n",
    "# elem at index 3 in seq = 4\n",
    "\n",
    "#low > high-->false\n",
    "# if condn is false(elem == seq[middle])\n",
    "# elem < seq[middle]--> 6 < 3 --> False\n",
    "#binary_search(seq,middle + 1,high,elem)\n",
    "\n",
    "#middle = 3+1=4\n",
    "#low > high-->false\n",
    "# if condn is false(elem == seq[middle])\n",
    "# elem < seq[middle]--> 6 < 4  --> False\n",
    "#binary_search(seq,middle + 1,high,elem)\n",
    "\n",
    "#middle = 4+1=5\n",
    "#low > high-->false\n",
    "# (elem == seq[middle])--> 6==6\n",
    "#return middle \n",
    "#return 5\n",
    "\n"
   ]
  },
  {
   "cell_type": "code",
   "execution_count": 153,
   "id": "bfc55a96",
   "metadata": {},
   "outputs": [
    {
     "name": "stdout",
     "output_type": "stream",
     "text": [
      "5\n"
     ]
    }
   ],
   "source": [
    "my_list=  [1,2,3,4,5,6,7]\n",
    "print(binary_search(my_list,0,len(my_list),6))"
   ]
  },
  {
   "cell_type": "code",
   "execution_count": 154,
   "id": "1c159c82",
   "metadata": {},
   "outputs": [
    {
     "name": "stdout",
     "output_type": "stream",
     "text": [
      "5\n"
     ]
    }
   ],
   "source": [
    "my_list=  [1,2,3,4,5,6,7]\n",
    "print(binary_search(my_list,0,len(my_list)-1,6))"
   ]
  },
  {
   "cell_type": "code",
   "execution_count": 155,
   "id": "72c4ee06",
   "metadata": {},
   "outputs": [
    {
     "name": "stdout",
     "output_type": "stream",
     "text": [
      "1\n"
     ]
    }
   ],
   "source": [
    "my_list=  [1,2,3,]\n",
    "print(binary_search(my_list,0,len(my_list)-1,2))"
   ]
  },
  {
   "cell_type": "code",
   "execution_count": 156,
   "id": "a00483e3",
   "metadata": {},
   "outputs": [
    {
     "name": "stdout",
     "output_type": "stream",
     "text": [
      "-1\n"
     ]
    }
   ],
   "source": [
    "my_list=  [1,2,3,4,5,6,7]\n",
    "print(binary_search(my_list,0,len(my_list)-1,0))"
   ]
  },
  {
   "cell_type": "code",
   "execution_count": 157,
   "id": "52691c5b",
   "metadata": {},
   "outputs": [
    {
     "name": "stdout",
     "output_type": "stream",
     "text": [
      "2\n"
     ]
    }
   ],
   "source": [
    "my_list=  [4,5,6,7]\n",
    "print(binary_search(my_list,0,len(my_list)-1,6))"
   ]
  },
  {
   "cell_type": "code",
   "execution_count": null,
   "id": "bbe565d2",
   "metadata": {},
   "outputs": [],
   "source": []
  }
 ],
 "metadata": {
  "kernelspec": {
   "display_name": "Python 3 (ipykernel)",
   "language": "python",
   "name": "python3"
  },
  "language_info": {
   "codemirror_mode": {
    "name": "ipython",
    "version": 3
   },
   "file_extension": ".py",
   "mimetype": "text/x-python",
   "name": "python",
   "nbconvert_exporter": "python",
   "pygments_lexer": "ipython3",
   "version": "3.8.12"
  }
 },
 "nbformat": 4,
 "nbformat_minor": 5
}
