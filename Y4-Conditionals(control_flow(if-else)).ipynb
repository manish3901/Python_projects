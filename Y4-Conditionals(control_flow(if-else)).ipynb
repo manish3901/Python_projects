{
 "cells": [
  {
   "cell_type": "code",
   "execution_count": 1,
   "id": "0a2ada07",
   "metadata": {},
   "outputs": [
    {
     "name": "stdout",
     "output_type": "stream",
     "text": [
      "Zero\n"
     ]
    }
   ],
   "source": [
    "#Q1\n",
    "#Write a Python program that prints if a number num is either \"Positive\", \"Negative\", or \"Zero\".\n",
    "num = 0\n",
    "if \"-\" in str(num):\n",
    "    print('Negative')\n",
    "elif num ==0:\n",
    "    print(\"Zero\")\n",
    "else:\n",
    "    print('Positive')"
   ]
  },
  {
   "cell_type": "code",
   "execution_count": 2,
   "id": "ee2c1f3a",
   "metadata": {},
   "outputs": [
    {
     "name": "stdout",
     "output_type": "stream",
     "text": [
      "Positive\n"
     ]
    }
   ],
   "source": [
    "#method1\n",
    "num = 5\n",
    "if num ==0:\n",
    "    print(\"Zero\")\n",
    "elif num> 0:\n",
    "    print(\"Positive\")\n",
    "else:\n",
    "    print(\"Negative\")"
   ]
  },
  {
   "cell_type": "code",
   "execution_count": 3,
   "id": "21d913b4",
   "metadata": {},
   "outputs": [
    {
     "name": "stdout",
     "output_type": "stream",
     "text": [
      "s  : is consonant/letter\n",
      "c  : is consonant/letter\n",
      "o  : is a vowel\n",
      "r  : is consonant/letter\n",
      "e  : is a vowel\n",
      ":  : is not a letter\n",
      "   : is not a letter\n",
      "3  : is not a letter\n",
      "6  : is not a letter\n"
     ]
    }
   ],
   "source": [
    "#Q2\n",
    "#Write a Python program that prints a descriptive message indicating if each character in a string is a vowel or a consonant. \n",
    "#For example: \"<char> is a <consonant | vowel>\"\n",
    "#If the character is a special character, number, or symbol, print \"<char> is not a letter\".\n",
    "#If the string is empty, print \"Empty String\".\n",
    "\n",
    "my_string= \"Score: 36\"\n",
    "vowels= [\"a\",\"e\",\"i\",\"o\",\"u\"]\n",
    "letters = ['b','c','d','f','g','h','j','k','l','m','n','p','q','r','s','t','v','w','x','y','z']\n",
    "\n",
    "for char in my_string.lower():\n",
    "    if char in vowels :\n",
    "        print(char,\" : is a vowel\")\n",
    "    elif char in letters:\n",
    "        print(char,\" : is consonant/letter\")\n",
    "    else:\n",
    "        print(char,\" : is not a letter\")\n",
    "if not my_string:\n",
    "    print(\" is empty string\")"
   ]
  },
  {
   "cell_type": "code",
   "execution_count": 4,
   "id": "3c57cb26",
   "metadata": {},
   "outputs": [
    {
     "name": "stdout",
     "output_type": "stream",
     "text": [
      "s is a consonant\n",
      "c is a consonant\n",
      "o is a vowel\n",
      "r is a consonant\n",
      "e is a vowel\n",
      ": is not a letter\n",
      "  is not a letter\n",
      "3 is not a letter\n",
      "6 is not a letter\n"
     ]
    }
   ],
   "source": [
    "#method1\n",
    "text = \"Score: 36\"\n",
    "\n",
    "if not text: #truthy  & falsy values\n",
    "    print(\"Empty String\")\n",
    "else:\n",
    "    for char in text.lower():  #Not case sensitive\n",
    "        if char in (\"a\",\"e\",\"i\",\"o\",\"u\"):\n",
    "            print(f\"{char} is a vowel\")\n",
    "        elif not char.isalpha():           # .isalpha() checks for alphabetical values.\n",
    "            print(f\"{char} is not a letter\")\n",
    "        else:\n",
    "            print(f\"{char} is a consonant\")"
   ]
  },
  {
   "cell_type": "code",
   "execution_count": 5,
   "id": "1f21c146",
   "metadata": {},
   "outputs": [
    {
     "name": "stdout",
     "output_type": "stream",
     "text": [
      "p is a consonant\n",
      "y is a consonant\n",
      "t is a consonant\n",
      "h is a consonant\n",
      "o is a vowel\n",
      "n is a consonant\n",
      "~ is not a letter\n",
      "@ is not a letter\n"
     ]
    }
   ],
   "source": [
    "text = \"Python~@\"\n",
    "vowels =(\"a\",\"e\",\"i\",\"o\",\"u\")\n",
    "\n",
    "if not text:\n",
    "    print(\"Empty String\")\n",
    "else:\n",
    "    for char in text.lower():  #Not case sensitive\n",
    "        if char in vowels:\n",
    "            print(f\"{char} is a vowel\")\n",
    "        elif not char.isalpha():           # .isalpha() checks for alphabetical values.\n",
    "            print(f\"{char} is not a letter\")\n",
    "        else:\n",
    "            print(f\"{char} is a consonant\")"
   ]
  },
  {
   "cell_type": "code",
   "execution_count": 6,
   "id": "eb5480bc",
   "metadata": {},
   "outputs": [
    {
     "data": {
      "text/plain": [
       "15"
      ]
     },
     "execution_count": 6,
     "metadata": {},
     "output_type": "execute_result"
    }
   ],
   "source": [
    "#Q3\n",
    "#Write a Python program that prints the maximum of three integers (a, b, c).\n",
    "a= 1\n",
    "b =4\n",
    "c =15 \n",
    "max(a,b,c)"
   ]
  },
  {
   "cell_type": "code",
   "execution_count": 7,
   "id": "863d6820",
   "metadata": {},
   "outputs": [
    {
     "name": "stdout",
     "output_type": "stream",
     "text": [
      "5\n"
     ]
    }
   ],
   "source": [
    "#method1\n",
    "a= 5\n",
    "b =4\n",
    "c =-6\n",
    "\n",
    "if (a>=b) and (a>=c):\n",
    "    print(a)\n",
    "elif (b>=a) and (b>=c):\n",
    "    print(b)\n",
    "else:\n",
    "    print(c)"
   ]
  },
  {
   "cell_type": "code",
   "execution_count": 8,
   "id": "37077a6d",
   "metadata": {},
   "outputs": [
    {
     "name": "stdout",
     "output_type": "stream",
     "text": [
      "4\n"
     ]
    }
   ],
   "source": [
    "a= 1\n",
    "b =4\n",
    "c =3\n",
    "\n",
    "if (a>=b) and (a>=c):  # a>b ,a>c ,a=b=c\n",
    "    print(a)\n",
    "elif (b > a) and (b > c):  #we don't need to assign >= infront here,as a = b =c  condn is checked in first above argument.\n",
    "    print(b)\n",
    "else:\n",
    "    print(c)"
   ]
  },
  {
   "cell_type": "code",
   "execution_count": 9,
   "id": "bcfc3ff1",
   "metadata": {},
   "outputs": [
    {
     "name": "stdout",
     "output_type": "stream",
     "text": [
      "15\n"
     ]
    }
   ],
   "source": [
    "#method2\n",
    "a= 15\n",
    "b =4\n",
    "c =3\n",
    "print(max(a,b,c))"
   ]
  },
  {
   "cell_type": "code",
   "execution_count": 10,
   "id": "6db5ba0a",
   "metadata": {},
   "outputs": [
    {
     "name": "stdout",
     "output_type": "stream",
     "text": [
      "-4\n"
     ]
    }
   ],
   "source": [
    "#Q4\n",
    "#Write a Python program that prints the smallest of three integers a, b, and c.\n",
    "a= -1\n",
    "b =-3\n",
    "c =-4\n",
    "if (a <= b) and (a <= c):  # a<b ,a<c ,a=b=c\n",
    "    print(a)\n",
    "elif (b < a) and (b < c): # b<a ,b<c\n",
    "    print(b)\n",
    "else:\n",
    "    print(c)"
   ]
  },
  {
   "cell_type": "code",
   "execution_count": 11,
   "id": "4d3475ca",
   "metadata": {},
   "outputs": [
    {
     "name": "stdout",
     "output_type": "stream",
     "text": [
      "3\n"
     ]
    }
   ],
   "source": [
    "a= 15\n",
    "b =4\n",
    "c =3\n",
    "print(min(a,b,c))"
   ]
  },
  {
   "cell_type": "code",
   "execution_count": 12,
   "id": "a687fbe4",
   "metadata": {},
   "outputs": [
    {
     "name": "stdout",
     "output_type": "stream",
     "text": [
      "Please enter a valid Number\n"
     ]
    }
   ],
   "source": [
    "#Q5\n",
    "#Four Seasons\n",
    "#Write a Python program that prints the corresponding season based on the value of the variable season_num.\n",
    "#The possible values of season_num are: 1 for Spring, 2 for Summer, 3 for Fall, 4 for Winter.\n",
    "#If the value of season_num is neither one of these values, print \"Please enter a valid number\"\n",
    "\n",
    "season_num =0\n",
    "if season_num ==1:\n",
    "    print(\"Spring\")\n",
    "elif season_num ==2:\n",
    "    print(\"Summer\")\n",
    "elif season_num ==3:\n",
    "    print(\"Fall\")\n",
    "elif season_num ==4:\n",
    "    print(\"Winter\")\n",
    "else:\n",
    "    print(\"Please enter a valid Number\")"
   ]
  },
  {
   "cell_type": "code",
   "execution_count": 13,
   "id": "d2f55de9",
   "metadata": {},
   "outputs": [
    {
     "name": "stdout",
     "output_type": "stream",
     "text": [
      "Please enter a number between 1 to 4: 2\n",
      "Summer\n"
     ]
    }
   ],
   "source": [
    "season_num = int(input(\"Please enter a number between 1 to 4: \"))\n",
    "if season_num ==1:\n",
    "    print(\"Spring\")\n",
    "elif season_num ==2:\n",
    "    print(\"Summer\")\n",
    "elif season_num ==3:\n",
    "    print(\"Fall\")\n",
    "elif season_num ==4:\n",
    "    print(\"Winter\")\n",
    "else:\n",
    "    print(\"Please enter a valid Number\")"
   ]
  },
  {
   "cell_type": "code",
   "execution_count": 14,
   "id": "86902a56",
   "metadata": {},
   "outputs": [
    {
     "name": "stdout",
     "output_type": "stream",
     "text": [
      "Not Equal\n"
     ]
    }
   ],
   "source": [
    "#Q6\n",
    "#Compare Three Numbers\n",
    "#Write a Python program that prints \"Equal\" if three numbers a, b, and c are equal.\n",
    "#If at least one number if different, the program should print \"Not Equal\".\n",
    "\n",
    "a=3\n",
    "b=4\n",
    "c=3\n",
    "if (a == b == c):  #comparison chaining\n",
    "    print(\"Equal\")\n",
    "else:\n",
    "    print(\"Not Equal\")"
   ]
  },
  {
   "cell_type": "code",
   "execution_count": 15,
   "id": "4b394180",
   "metadata": {},
   "outputs": [
    {
     "name": "stdout",
     "output_type": "stream",
     "text": [
      "Equal\n"
     ]
    }
   ],
   "source": [
    "a=1\n",
    "b=1\n",
    "c=1\n",
    "if (a == b) and (b == c):\n",
    "    print(\"Equal\")\n",
    "else:\n",
    "    print(\"Not Equal\")"
   ]
  },
  {
   "cell_type": "code",
   "execution_count": 16,
   "id": "15c7ba05",
   "metadata": {},
   "outputs": [
    {
     "name": "stdout",
     "output_type": "stream",
     "text": [
      "January has 31 days.\n"
     ]
    }
   ],
   "source": [
    "#Q7\n",
    "#Find Number of Days in a Month\n",
    "#The value of the variable month is the name of the month with the first letter capitalized.\n",
    "#Write a Python program that prints the number of days in a given month.\n",
    "#Do not consider leap years for the number of days in February.\n",
    "#You can add a customized message. For example: \"<month> has: <num_days> days.\"\n",
    "\n",
    "month = 'January'\n",
    "month31 = ['January','April','June','August','October','December']\n",
    "\n",
    "if month in month31:\n",
    "    print(f\"{month} has 31 days.\")\n",
    "elif month == 'February':\n",
    "    print(f\"{month} has 28 days.\")\n",
    "else:\n",
    "    print(f\"{month} has 30 days.\")"
   ]
  },
  {
   "cell_type": "code",
   "execution_count": 17,
   "id": "b6d20988",
   "metadata": {},
   "outputs": [
    {
     "name": "stdout",
     "output_type": "stream",
     "text": [
      "February has: 28 days.\n"
     ]
    }
   ],
   "source": [
    "month = 'February'\n",
    "months_31_days = ('January','March','May','July','August','October','December') #chose tuple as its immutable & safer than list.\n",
    "month_30_days = ('April','June','September','November')\n",
    "\n",
    "if month in months_31_days:\n",
    "    print(f\"{month} has: 31 days.\")\n",
    "elif month in month_30_days:\n",
    "    print(f\"{month} has: 30 days.\")\n",
    "else:\n",
    "    print(f\"{month} has: 28 days.\")   #excluding leap years.\n",
    "    "
   ]
  },
  {
   "cell_type": "code",
   "execution_count": 18,
   "id": "69dfc2d0",
   "metadata": {},
   "outputs": [
    {
     "name": "stdout",
     "output_type": "stream",
     "text": [
      "Increasing Order.\n"
     ]
    }
   ],
   "source": [
    "#Q8\n",
    "#Write a Python program that determines if three numbers (a, b, and c) are in increasing order, decreasing order, or none.\n",
    "#If a > b > c, print \"Decreasing Order\".\n",
    "#If a < b < c, print \"Increasing Order\".\n",
    "#Else, print \"None\". \n",
    "\n",
    "a=1\n",
    "b=2\n",
    "c=3\n",
    "if (a > b > c):\n",
    "    print(\"Decreasing Order.\")\n",
    "elif (a < b < c):\n",
    "    print(\"Increasing Order.\")\n",
    "else:\n",
    "    print(None)"
   ]
  },
  {
   "cell_type": "code",
   "execution_count": 19,
   "id": "253f92e2",
   "metadata": {},
   "outputs": [
    {
     "name": "stdout",
     "output_type": "stream",
     "text": [
      "Decreasing Order.\n"
     ]
    }
   ],
   "source": [
    "a=3\n",
    "b=2\n",
    "c=1\n",
    "if (a > b > c):\n",
    "    print(\"Decreasing Order.\")\n",
    "elif (a < b < c):\n",
    "    print(\"Increasing Order.\")\n",
    "else:\n",
    "    print(None)"
   ]
  },
  {
   "cell_type": "code",
   "execution_count": 20,
   "id": "5443a88e",
   "metadata": {},
   "outputs": [],
   "source": [
    "#Q9\n",
    "#Solve Quadratic Equations\n",
    "#Write a Python program that prints the positive and negative solutions (roots) for a quadratic equation.\n",
    "\n",
    "#If the equation only has one solution, print the solution as the output.\n",
    "#If it has two solutions, print the negative one first and the positive one second on the same line.\n",
    "#If the equation has no real solutions, print \"Complex Roots\".\n",
    "\n",
    "#You can determine the number of solutions with the discriminant (the result of b^2 - 4ac in the formula below).\n",
    "\n",
    "#- If it's negative, the equation has no real solutions (only complex roots).\n",
    "#- If it's 0, there is only one solution.\n",
    "#- If it's positive, there are two real solutions."
   ]
  },
  {
   "attachments": {
    "2021-02-26_13-18-08-ce4b5a139ed56740f343f72ebf1afa2e.png": {
     "image/png": "[encoded data removed]"
    }
   },
   "cell_type": "markdown",
   "id": "84c0545a",
   "metadata": {},
   "source": [
    "### A quadratic equation has this form:\n",
    "![2021-02-26_13-18-08-ce4b5a139ed56740f343f72ebf1afa2e.png](attachment:2021-02-26_13-18-08-ce4b5a139ed56740f343f72ebf1afa2e.png)"
   ]
  },
  {
   "attachments": {
    "2021-02-26_13-19-57-6206c1db8d35e4199a9234ffda78cc46.png": {
     "image/png": "[encoded data removed]"
    }
   },
   "cell_type": "markdown",
   "id": "d53ef79f",
   "metadata": {},
   "source": [
    "To solve this equation, we use the quadratic formula:\n",
    "    ![2021-02-26_13-19-57-6206c1db8d35e4199a9234ffda78cc46.png](attachment:2021-02-26_13-19-57-6206c1db8d35e4199a9234ffda78cc46.png)"
   ]
  },
  {
   "cell_type": "code",
   "execution_count": 21,
   "id": "8540b5d7",
   "metadata": {},
   "outputs": [
    {
     "name": "stdout",
     "output_type": "stream",
     "text": [
      "-3.0 0.5\n"
     ]
    }
   ],
   "source": [
    "import math\n",
    "a =2\n",
    "b= 5\n",
    "c= -3\n",
    "\n",
    "discriminant = (b**2 - 4*a*c)\n",
    "\n",
    "if discriminant < 0:\n",
    "    print(\"Complex Roots\")\n",
    "elif discriminant == 0:\n",
    "    result = (-b / 2*a)\n",
    "    print(result)\n",
    "else:\n",
    "    result1 = (-b - math.sqrt(discriminant))/ (2*a)  #prob asked us to get -ve value first\n",
    "    result2 = (-b + math.sqrt(discriminant))/ (2*a)\n",
    "    print(result1,result2)"
   ]
  },
  {
   "cell_type": "code",
   "execution_count": 22,
   "id": "12e15053",
   "metadata": {},
   "outputs": [
    {
     "name": "stdout",
     "output_type": "stream",
     "text": [
      "-3.0 0.5\n"
     ]
    }
   ],
   "source": [
    "import math\n",
    "a =2\n",
    "b= 5\n",
    "c= -3\n",
    "\n",
    "discriminant = (b**2 - 4*a*c)\n",
    "#print(discriminant)\n",
    "\n",
    "if discriminant < 0:\n",
    "    print(\"Complex Roots\")\n",
    "elif discriminant == 0:\n",
    "    result = (-b / 2*a)\n",
    "    print(result)\n",
    "else:\n",
    "    result1 = (-b - math.sqrt(discriminant))/ (2*a)\n",
    "    result2 = (-b + math.sqrt(discriminant))/ (2*a)\n",
    "    print(result1,result2)"
   ]
  },
  {
   "cell_type": "code",
   "execution_count": 23,
   "id": "78f1a491",
   "metadata": {},
   "outputs": [
    {
     "name": "stdout",
     "output_type": "stream",
     "text": [
      "-1.0\n"
     ]
    }
   ],
   "source": [
    "import math\n",
    "a =1\n",
    "b= 2\n",
    "c= 1\n",
    "\n",
    "discriminant = (b**2 - 4*a*c)\n",
    "#print(discriminant)\n",
    "\n",
    "if discriminant < 0:\n",
    "    print(\"Complex Roots\")\n",
    "elif discriminant == 0:\n",
    "    result = (-b / 2*a)\n",
    "    print(result)\n",
    "else:\n",
    "    result1 = (-b - math.sqrt(discriminant))/ (2*a)\n",
    "    result2 = (-b + math.sqrt(discriminant))/ (2*a)\n",
    "    print(result1,result2)"
   ]
  },
  {
   "cell_type": "code",
   "execution_count": 24,
   "id": "1d2ebb1d",
   "metadata": {},
   "outputs": [],
   "source": [
    "#Q10\n",
    "#Check if a Year is a Leap Year or Not (*)\n",
    "#Write a Python program that prints if a given year was (or will) be a leap year.\n",
    "\n",
    "year = 2025\n",
    "\n",
    "if year/4 ==0 or year/400 == 0 and year/100 != 0:\n",
    "    print(f\"{year} is a leap year.\")"
   ]
  },
  {
   "cell_type": "code",
   "execution_count": 25,
   "id": "1f367bde",
   "metadata": {},
   "outputs": [
    {
     "name": "stdout",
     "output_type": "stream",
     "text": [
      "2033 is not a leap year\n"
     ]
    }
   ],
   "source": [
    "year = 2033\n",
    "\n",
    "if year % 4 ==0:\n",
    "    if year % 100 ==0:\n",
    "        if year % 400 ==0:\n",
    "            print(f\"{year} is a leap year\")\n",
    "        else:\n",
    "            print(f\"{year} is not a leap year\")\n",
    "    else:\n",
    "        print(f\"{year} is a leap year\")\n",
    "else:\n",
    "    print(f\"{year} is not a leap year\")"
   ]
  },
  {
   "cell_type": "code",
   "execution_count": 26,
   "id": "caab9585",
   "metadata": {},
   "outputs": [
    {
     "name": "stdout",
     "output_type": "stream",
     "text": [
      "1836 is a leap year\n"
     ]
    }
   ],
   "source": [
    "year = 1836\n",
    "if year % 4 ==0:\n",
    "    print(f\"{year} is a leap year\")\n",
    "elif year % 100 ==0:\n",
    "    print(f\"{year} is not a leap year\")\n",
    "elif year % 400 ==0:\n",
    "        print(f\"{year} is a leap year\")\n",
    "else:\n",
    "    print(f\"{year} is not a leap year\")"
   ]
  },
  {
   "cell_type": "code",
   "execution_count": 27,
   "id": "1e0c1892",
   "metadata": {},
   "outputs": [
    {
     "name": "stdout",
     "output_type": "stream",
     "text": [
      "1836 is a leap year\n"
     ]
    }
   ],
   "source": [
    "#method1\n",
    "year = 1836\n",
    "\n",
    "if year % 4 == 0:  #1st condn\n",
    "    if year % 100 ==0: #2nd condn\n",
    "        if year % 400 ==0: #3rd condn\n",
    "            print(f\"{year} is a leap year\")\n",
    "        else:\n",
    "             print(f\"{year} is not a leap year\")  \n",
    "    else:\n",
    "        print(f\"{year} is a leap year\")  \n",
    "else:\n",
    "    print(f\"{year} is not a leap year\")"
   ]
  },
  {
   "cell_type": "code",
   "execution_count": 28,
   "id": "7cc7de71",
   "metadata": {},
   "outputs": [
    {
     "name": "stdout",
     "output_type": "stream",
     "text": [
      "1836 is a leap year\n"
     ]
    }
   ],
   "source": [
    "#method2  # its recommendend,order 400,100,4 operation is important\n",
    "year = 1836\n",
    "\n",
    "if year % 400 == 0:\n",
    "    print(f\"{year} is a leap year\")\n",
    "elif year % 100 == 0:\n",
    "    print(f\"{year} is not a leap year\") \n",
    "elif year % 4 == 0:\n",
    "     print(f\"{year} is a leap year\")\n",
    "else:\n",
    "     print(f\"{year} is not a leap year\") "
   ]
  },
  {
   "cell_type": "code",
   "execution_count": 29,
   "id": "33ebe6ff",
   "metadata": {},
   "outputs": [
    {
     "name": "stdout",
     "output_type": "stream",
     "text": [
      "1836 is a leap year\n"
     ]
    }
   ],
   "source": [
    "#method3  # reverse of above method2\n",
    "year = 1836\n",
    "if year % 4 != 0:\n",
    "    print(f\"{year} is not a leap year\")\n",
    "elif year % 100 != 0:\n",
    "    print(f\"{year} is a leap year\") \n",
    "elif year % 400 != 0:\n",
    "     print(f\"{year} is a not leap year\")\n",
    "else:\n",
    "     print(f\"{year} is a leap year\") "
   ]
  },
  {
   "cell_type": "code",
   "execution_count": 30,
   "id": "e0ef0825",
   "metadata": {},
   "outputs": [],
   "source": [
    "#Q11\n",
    "# Interactive Calculator (*)\n",
    "#Write a Python program that simulates an interactive calculator with the basic arithmetic operations\n",
    "# in Python (addition, subtraction, multiplication, division, integer division, and modulo).\n",
    "#The program must interact with the user by asking for the values and the type of operation that will \n",
    "#be performed.\n",
    "#The output should include the values, the operation, and the result (as shown below).\n",
    "#The type of operation will be denoted by an integer.\n",
    "#- 1 for addition #- 2 for subtraction #- 3 for multiplication #- 4 for division\n",
    "#- 5 for integer division #- 6 for modulo\n",
    "#The program should present an initial message to the user describing the types of operations \n",
    "#and the integer that has to be entered to select each one of them.\n",
    "#If the values entered by the user are invalid for the operation selected,\n",
    "#a descriptive message should be displayed.\n",
    "#For example, for a division operation the denominator cannot be 0.\n",
    "#If the user enters an invalid integer to select the operation, print\n",
    "# \"Please choose a valid operation\""
   ]
  },
  {
   "cell_type": "code",
   "execution_count": 31,
   "id": "199edfb9",
   "metadata": {},
   "outputs": [
    {
     "name": "stdout",
     "output_type": "stream",
     "text": [
      "Welcome to basic calculator!\n",
      "\n",
      "Please enter first integer value: 2\n",
      "Please enter second integer value 2\n",
      "\n",
      "Wrong choice! Enter an integer!\n",
      "Choice of operation:\n",
      "1 for addition\n",
      "2 for subtraction\n",
      "3 for multiplication\n",
      "4 for division\n",
      "5 for integer division\n",
      "6 for modulo(remainder calculator)\n",
      "Chose int between 1-6: 2\n",
      "[]\n"
     ]
    }
   ],
   "source": [
    "# ask for values (two for operations)\n",
    "# ask for operation(+,-,*,/,//,%)\n",
    "\n",
    "#output values,operation & result of both\n",
    "# message for type of operation(+,-,*,/,//,%)\n",
    "# display error msg for wrong inputs\n",
    "print('Welcome to basic calculator!')\n",
    "result=[]\n",
    "print()\n",
    "value_input1 = int(input(\"Please enter first integer value: \"))\n",
    "value_input2 = int(input(\"Please enter second integer value \"))\n",
    "print()\n",
    "if (value_input1 != int) or (value_input2!= int):\n",
    "    print(\"Wrong choice! Enter an integer!\")\n",
    "    \n",
    "print(\"Choice of operation:\")\n",
    "print(\"1 for addition\")\n",
    "print(\"2 for subtraction\")\n",
    "print(\"3 for multiplication\")\n",
    "print(\"4 for division\")\n",
    "print(\"5 for integer division\")\n",
    "print(\"6 for modulo(remainder calculator)\")\n",
    "\n",
    "value_input3 = int(input(\"Chose int between 1-6: \"))\n",
    "\n",
    "for i in result:\n",
    "    i = (value_input1,value_input2,value_input3)\n",
    "    i.append(result)\n",
    "print(result)\n",
    "\n",
    "\n"
   ]
  },
  {
   "cell_type": "code",
   "execution_count": 32,
   "id": "6e98da95",
   "metadata": {},
   "outputs": [
    {
     "name": "stdout",
     "output_type": "stream",
     "text": [
      "***Welcome to the calculator***\n",
      "\n",
      "Please enter an integer value: 2\n",
      "Please enter second integer value: 3\n",
      "\n",
      "Choice of operation:\n",
      "1 for addition\n",
      "2 for subtraction\n",
      "3 for multiplication\n",
      "4 for division\n",
      "5 for integer division\n",
      "6 for modulo(remainder calculator)\n",
      "\n",
      "Your choice of operation:(Chose int between 1-6): 4\n",
      "\n",
      "The result of 2 / 3 is: 0.6666666666666666\n"
     ]
    }
   ],
   "source": [
    "# Interactive Calculator\n",
    "#Assign variables \n",
    "ADDITION = 1            #(Written in capital to showcase its constants that shouldn't be changed!)\n",
    "SUBTRACTION = 2\n",
    "MULTIPLICATION =3\n",
    "DIVISION = 4\n",
    "INTEGER_DIVISION = 5\n",
    "MODULO = 6\n",
    "\n",
    "print(\"***Welcome to the calculator***\")\n",
    "print()\n",
    "\n",
    "#Value inputs(input () by default outputs strings so add int befor input)\n",
    "value_input1 = int(input(\"Please enter an integer value: \"))\n",
    "value_input2 = int(input(\"Please enter second integer value: \"))\n",
    "print()\n",
    "#Operation on above value inputs\n",
    "#choice of operaton:\n",
    "print(\"Choice of operation:\")\n",
    "print(\"1 for addition\")\n",
    "print(\"2 for subtraction\")\n",
    "print(\"3 for multiplication\")\n",
    "print(\"4 for division\")\n",
    "print(\"5 for integer division\")\n",
    "print(\"6 for modulo(remainder calculator)\")\n",
    "print()\n",
    "#operation\n",
    "operation = int(input(\"Your choice of operation:(Chose int between 1-6): \"))\n",
    "print()\n",
    "#Code for operatin on above three inputs using if else statements\n",
    "if operation == ADDITION:\n",
    "    result= value_input1 + value_input2\n",
    "    print(f\"The result of {value_input1} + {value_input2} is: {result}\")\n",
    "elif operation == SUBTRACTION:\n",
    "    result= value_input1 - value_input2\n",
    "    print(f\"The result of {value_input1} - {value_input2} is: {result}\")\n",
    "elif operation == MULTIPLICATION:\n",
    "    result= value_input1 * value_input2\n",
    "    print(f\"The result of {value_input1} * {value_input2} is: {result}\")\n",
    "elif operation == DIVISION:\n",
    "    #check for division by 0.(It gives error!)\n",
    "    if value_input1==0 or value_input2 ==0:\n",
    "        print(\"Invalid choice!division by zero\")\n",
    "    else:\n",
    "        result= value_input1 / value_input2\n",
    "        print(f\"The result of {value_input1} / {value_input2} is: {result}\")\n",
    "elif operation == INTEGER_DIVISION:\n",
    "    result= value_input1 // value_input2\n",
    "    print(f\"The result of {value_input1} // {value_input2} is: {result}\")\n",
    "elif operation == MODULO:\n",
    "    result= value_input1 % value_input2\n",
    "    print(f\"The result of {value_input1} % {value_input2} is: {result}\")\n",
    "else:\n",
    "    print(\"Enter a valid number\")"
   ]
  },
  {
   "cell_type": "code",
   "execution_count": 33,
   "id": "a0091c7a",
   "metadata": {},
   "outputs": [],
   "source": [
    "#Rock, Paper, Scissors\n",
    "#Write a Python program that simulates the \"Rock, Paper, Scissors\" game.\n",
    "#The game should ask the user to enter an option (either \"Rock\", \"Paper\", or \"Scissors\").\n",
    "#The player should play against the computer, which will select a random option.\n",
    "#The computer's selection will be compared against the player's selection to determine who wins.\n",
    "#A descriptive message should be displayed indicating if the player won, lost, or if the game ended in a tie.\n",
    "\n",
    "#Basic Game Rules:\n",
    "\n",
    "#Paper beats Rock\n",
    "#Rock beats Scissors\n",
    "#Scissors beat Paper."
   ]
  },
  {
   "cell_type": "code",
   "execution_count": 34,
   "id": "6ef27c98",
   "metadata": {},
   "outputs": [
    {
     "name": "stdout",
     "output_type": "stream",
     "text": [
      "Please enter a number between 1-3: 5\n",
      "Invalid choice,pick Integer between 1-3\n",
      "Computer choice is PAPER\n",
      "Game is tie!\n"
     ]
    }
   ],
   "source": [
    "#constant Variables denotion\n",
    "ROCK = 1\n",
    "PAPER=2\n",
    "SCISSORS =3\n",
    "\n",
    "Player_choice = int(input(\"Please enter a number between 1-3: \"))\n",
    "if Player_choice == 1:\n",
    "    print(\"Player choice is ROCK\")\n",
    "elif Player_choice == 2:\n",
    "    print(\"Player choice is PAPER\")\n",
    "elif Player_choice == 3: \n",
    "    print(\"Player choice is SCISSOR\")\n",
    "else:\n",
    "    print(\"Invalid choice,pick Integer between 1-3\")\n",
    "import random\n",
    "Computer_choice = random.randint(1,3)  #it includes endpoint\n",
    "if Computer_choice == 1:\n",
    "    print(\"Computer choice is ROCK\")\n",
    "elif Computer_choice == 2:\n",
    "    print(\"Computer choice is PAPER\")\n",
    "else:\n",
    "    print(\"Computer choice is SCISSOR\")\n",
    "\n",
    "\n",
    "#Winning stratergy\n",
    "#Rock beats Scissors\n",
    "#Paper beats Rock\n",
    "#Scissors beat Paper.\n",
    "if Player_choice ==1 and (Computer_choice==2):\n",
    "    print(\"Computer wins!\")\n",
    "elif Player_choice ==1 and (Computer_choice==3):\n",
    "    print(\"Player wins!\")\n",
    "    \n",
    "elif Player_choice ==2 and (Computer_choice==1):\n",
    "    print(\"Player wins!\")\n",
    "elif Player_choice ==2 and (Computer_choice==3):\n",
    "    print(\"Computer wins!\")\n",
    "\n",
    "elif Player_choice ==3 and (Computer_choice==1):\n",
    "    print(\"Computer wins!\")\n",
    "elif Player_choice ==3 and (Computer_choice==2):\n",
    "    print(\"Player wins!\")   \n",
    "    \n",
    "else:\n",
    "    print(\"Game is tie!\")\n",
    "\n"
   ]
  },
  {
   "cell_type": "code",
   "execution_count": 35,
   "id": "a57b6971",
   "metadata": {},
   "outputs": [
    {
     "name": "stdout",
     "output_type": "stream",
     "text": [
      "***Welcome to Rock Paper Scissor Game***\n",
      "\n",
      "Input Choices:\n",
      "1 for Rock\n",
      "2 for Paper\n",
      "3 for Scissor\n",
      "\n",
      "Please enter integer (1-3): 4\n",
      "Invalid choice,pick Integer between 1-3\n",
      "Computer choice is 3: SCISSOR\n",
      "\n",
      "Computer wins!\n"
     ]
    }
   ],
   "source": [
    "#Import random module to play against computer.\n",
    "import random\n",
    "#constant Variables denotion\n",
    "ROCK = 1\n",
    "PAPER=2\n",
    "SCISSORS =3\n",
    "print(\"***Welcome to Rock Paper Scissor Game***\")\n",
    "print()\n",
    "print(\"Input Choices:\")\n",
    "print(\"1 for Rock\")\n",
    "print(\"2 for Paper\")\n",
    "print(\"3 for Scissor\")\n",
    "\n",
    "print()\n",
    "Player_choice = int(input(\"Please enter integer (1-3): \"))\n",
    "if Player_choice == 1:\n",
    "    print(\"Player choice is 1: ROCK\")\n",
    "elif Player_choice == 2:\n",
    "    print(\"Player choice is 2: PAPER\")\n",
    "elif Player_choice == 3: \n",
    "    print(\"Player choice is 3: SCISSOR\")\n",
    "else:\n",
    "    print(\"Invalid choice,pick Integer between 1-3\")\n",
    "\n",
    "\n",
    "Computer_choice = random.randint(1,3)  #it includes endpoint\n",
    "if Computer_choice == 1:\n",
    "    print(\"Computer choice is 1: ROCK\")\n",
    "elif Computer_choice == 2:\n",
    "    print(\"Computer choice is 2: PAPER\")\n",
    "else:\n",
    "    print(\"Computer choice is 3: SCISSOR\")\n",
    "print()\n",
    "\n",
    "#stratergy\n",
    "#for tie condition\n",
    "if Player_choice == Computer_choice:\n",
    "     print(\"Game is tie!\")\n",
    "#Player win conditions!\n",
    "#Rock beats Scissors\n",
    "elif Player_choice ==1 and (Computer_choice==3):\n",
    "    print(\"Player wins!\")\n",
    "#Paper beats Rock   \n",
    "elif Player_choice ==2 and (Computer_choice==1):\n",
    "    print(\"Player wins!\")\n",
    "#Scissors beat Paper\n",
    "elif Player_choice ==3 and (Computer_choice==2):\n",
    "    print(\"Player wins!\")\n",
    "\n",
    "#Computer wins!    \n",
    "else:\n",
    "    print(\"Computer wins!\")"
   ]
  },
  {
   "cell_type": "code",
   "execution_count": 38,
   "id": "c7ec6cab",
   "metadata": {},
   "outputs": [
    {
     "name": "stdout",
     "output_type": "stream",
     "text": [
      "====== Welcome to the game ======\n",
      "Please enter rock / paper / scissor: \n",
      "rock\n",
      "You lose! Your opponent chose 'Paper'\n"
     ]
    }
   ],
   "source": [
    "#Method2\n",
    "import random\n",
    "\n",
    "options = (\"rock\",\"paper\",\"scissor\")\n",
    "#computer choice\n",
    "computer_choice = options[random.randint(0,2)]  #indexing starts from 0.\n",
    "\n",
    "\n",
    "print(\"====== Welcome to the game ======\")\n",
    "player_choice= input(\"Please enter rock / paper / scissor: \\n\")\n",
    "\n",
    "\n",
    "if player_choice.lower() == computer_choice:\n",
    "    \n",
    "    print(\"Game is tie!\")\n",
    "elif player_choice.lower() == 'rock':\n",
    "    if computer_choice=='paper':\n",
    "        print(\"You lose! Your opponent chose 'Paper'\")\n",
    "    else:\n",
    "        print(\"You win! Your opponent chose 'Scissors'\") \n",
    "        \n",
    "elif player_choice.lower()== 'paper':\n",
    "    if computer_choice=='rock':\n",
    "        print(\"You win! Your opponent chose 'Rock'\")\n",
    "    else:\n",
    "        print(\"You lose! Your opponent chose 'Scissors'\")\n",
    "\n",
    "elif player_choice.lower()== 'scissor':\n",
    "    if computer_choice=='paper':\n",
    "        print(\"You win! Your opponent chose 'paper'\")\n",
    "    else:\n",
    "        print(\"You lose! Your opponent chose 'rock'\")\n",
    "        \n",
    "else:\n",
    "    print(\"Please enter a valid option.\")\n"
   ]
  },
  {
   "cell_type": "code",
   "execution_count": null,
   "id": "44340615",
   "metadata": {},
   "outputs": [],
   "source": []
  }
 ],
 "metadata": {
  "kernelspec": {
   "display_name": "Python 3 (ipykernel)",
   "language": "python",
   "name": "python3"
  },
  "language_info": {
   "codemirror_mode": {
    "name": "ipython",
    "version": 3
   },
   "file_extension": ".py",
   "mimetype": "text/x-python",
   "name": "python",
   "nbconvert_exporter": "python",
   "pygments_lexer": "ipython3",
   "version": "3.9.7"
  }
 },
 "nbformat": 4,
 "nbformat_minor": 5
}
