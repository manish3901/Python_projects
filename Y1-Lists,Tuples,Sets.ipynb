{
 "cells": [
  {
   "cell_type": "markdown",
   "id": "179885a3",
   "metadata": {},
   "source": [
    "# Lists"
   ]
  },
  {
   "cell_type": "code",
   "execution_count": 1,
   "id": "465fe110",
   "metadata": {},
   "outputs": [
    {
     "name": "stdout",
     "output_type": "stream",
     "text": [
      "6\n",
      "8\n",
      "10\n",
      "12\n"
     ]
    }
   ],
   "source": [
    "#Q1\n",
    "#Write a Python program that multiplies all the items in a list by the value of the variable factor & returns a list.\n",
    "s= [3,4,5,6]\n",
    "new_s=[]\n",
    "factor=2\n",
    "for num in s:\n",
    "  print(num*factor)"
   ]
  },
  {
   "cell_type": "code",
   "execution_count": 2,
   "id": "9b339fa5",
   "metadata": {},
   "outputs": [
    {
     "name": "stdout",
     "output_type": "stream",
     "text": [
      "[6, 8, 10, 12]\n"
     ]
    }
   ],
   "source": [
    "#method1\n",
    "my_list= [3,4,5,6]\n",
    "factor=2\n",
    "\n",
    "for i in range(len(my_list)):\n",
    "  my_list[i]*= factor\n",
    "print(my_list)"
   ]
  },
  {
   "cell_type": "code",
   "execution_count": 3,
   "id": "b3f7622b",
   "metadata": {},
   "outputs": [
    {
     "name": "stdout",
     "output_type": "stream",
     "text": [
      "['aa', 'bb', 'cc', 'dd']\n"
     ]
    }
   ],
   "source": [
    "my_list= ['a','b','c','d']\n",
    "factor=2\n",
    "\n",
    "for i in range(len(my_list)):\n",
    "  my_list[i]*= factor\n",
    "print(my_list)"
   ]
  },
  {
   "cell_type": "code",
   "execution_count": 4,
   "id": "e8f328e9",
   "metadata": {},
   "outputs": [
    {
     "name": "stdout",
     "output_type": "stream",
     "text": [
      "[6, 8, 10, 12]\n"
     ]
    }
   ],
   "source": [
    "#method2 \n",
    "#RECOMMENDED!\n",
    "my_list= [3,4,5,6]\n",
    "factor=2\n",
    "\n",
    "for i,elem in enumerate(my_list):\n",
    "  my_list[i] = elem * factor\n",
    "print(my_list)\n"
   ]
  },
  {
   "cell_type": "markdown",
   "id": "35226b8c",
   "metadata": {},
   "source": [
    "enumerate(my_list) returns tuple of index & its values(elements)\n",
    "[(0,3),(1,4),(2,5),(3,6)]\n",
    "(index,values)"
   ]
  },
  {
   "cell_type": "code",
   "execution_count": 5,
   "id": "3550799d",
   "metadata": {},
   "outputs": [
    {
     "name": "stdout",
     "output_type": "stream",
     "text": [
      "['aa', 'bb', 'cc', 'dd']\n"
     ]
    }
   ],
   "source": [
    "my_list=['a','b','c','d']\n",
    "factor=2\n",
    "for i,elem in enumerate(my_list):\n",
    "  my_list[i] = elem * factor\n",
    "print(my_list)"
   ]
  },
  {
   "cell_type": "code",
   "execution_count": 6,
   "id": "991dcd09",
   "metadata": {},
   "outputs": [
    {
     "name": "stdout",
     "output_type": "stream",
     "text": [
      "3 4 5 6\n"
     ]
    }
   ],
   "source": [
    "#Q2\n",
    "#Print Elements on the Same Line Without Commas\n",
    "#The output should not include the opening and closing square brackets [ ].\n",
    "a,b,c,d =[3,4,5,6]\n",
    "print(a,b,c,d)"
   ]
  },
  {
   "cell_type": "code",
   "execution_count": 7,
   "id": "70412c8f",
   "metadata": {},
   "outputs": [
    {
     "name": "stdout",
     "output_type": "stream",
     "text": [
      "a b c d\n"
     ]
    }
   ],
   "source": [
    "a,b,c,d =['a','b','c','d']\n",
    "print(a,b,c,d)"
   ]
  },
  {
   "cell_type": "code",
   "execution_count": 8,
   "id": "8664a711",
   "metadata": {},
   "outputs": [
    {
     "name": "stdout",
     "output_type": "stream",
     "text": [
      "3 4 5 6 "
     ]
    }
   ],
   "source": [
    "#method1  ## This is much better!\n",
    "my_list=[3,4,5,6]\n",
    "\n",
    "for elem in my_list:\n",
    "  print(elem,end=\" \")   # by default, end=\"\\n\""
   ]
  },
  {
   "cell_type": "code",
   "execution_count": 9,
   "id": "80327abf",
   "metadata": {},
   "outputs": [
    {
     "name": "stdout",
     "output_type": "stream",
     "text": [
      "3 4 5 6\n"
     ]
    }
   ],
   "source": [
    "# method2\n",
    "my_list=[3,4,5,6]\n",
    "print(*my_list,sep=\" \")  # * --> unpacks the list & getting individual elem of list to print them in a sequence.\n"
   ]
  },
  {
   "cell_type": "code",
   "execution_count": 10,
   "id": "39f38c93",
   "metadata": {},
   "outputs": [
    {
     "name": "stdout",
     "output_type": "stream",
     "text": [
      "6 3\n"
     ]
    }
   ],
   "source": [
    "#Q3\n",
    "#Write a Python program that prints the largest and smallest values in a list.\n",
    "#Print the two values on the same line, separated by a space.\n",
    "#The largest value should appear first and the smallest value should appear second.\n",
    "my_list= [3,4,5,6]\n",
    "print(max(my_list),min(my_list))"
   ]
  },
  {
   "cell_type": "code",
   "execution_count": 11,
   "id": "1a9bf8b6",
   "metadata": {},
   "outputs": [
    {
     "name": "stdout",
     "output_type": "stream",
     "text": [
      "6 3\n"
     ]
    }
   ],
   "source": [
    "#method1\n",
    "my_list= [3,4,5,6]\n",
    "if my_list:                #truthy & falsy values (here,we are using truthy value)\n",
    "  print(max(my_list),min(my_list))\n",
    "else:\n",
    "  print(None)"
   ]
  },
  {
   "cell_type": "code",
   "execution_count": 12,
   "id": "3e96490d",
   "metadata": {},
   "outputs": [
    {
     "name": "stdout",
     "output_type": "stream",
     "text": [
      "-1 -4\n"
     ]
    }
   ],
   "source": [
    "my_list= [-1,-2,-3,-4]\n",
    "if my_list:                #truthy & falsy values (here,we are using truthy value)\n",
    "  print(max(my_list),min(my_list))\n",
    "else:\n",
    "  print(None)"
   ]
  },
  {
   "cell_type": "code",
   "execution_count": 13,
   "id": "5a316005",
   "metadata": {},
   "outputs": [
    {
     "name": "stdout",
     "output_type": "stream",
     "text": [
      "[4, 5, 6, 7]\n"
     ]
    }
   ],
   "source": [
    "#Q4\n",
    "#Write a Python program that checks if a list is empty or not.\n",
    "#If the list is empty, print \"Empty\". Else, print \"Not Empty\".\n",
    "my_list= [4,5,6,7]\n",
    "\n",
    "if my_list==[]:\n",
    "  print(None)\n",
    "else:\n",
    "  print(my_list)"
   ]
  },
  {
   "cell_type": "code",
   "execution_count": 14,
   "id": "95633ad1",
   "metadata": {},
   "outputs": [
    {
     "name": "stdout",
     "output_type": "stream",
     "text": [
      "Not Empty\n"
     ]
    }
   ],
   "source": [
    "#method1  # This is clean & better\n",
    "my_list= [4,5,6,7]\n",
    "\n",
    "if len(my_list)== 0:\n",
    "  print('Empty')\n",
    "else:\n",
    "  print(\"Not Empty\")\n"
   ]
  },
  {
   "cell_type": "code",
   "execution_count": 15,
   "id": "6f32c267",
   "metadata": {},
   "outputs": [
    {
     "name": "stdout",
     "output_type": "stream",
     "text": [
      "Not Empty\n"
     ]
    }
   ],
   "source": [
    "my_list= ['a']\n",
    "\n",
    "if len(my_list)== 0:\n",
    "  print('Empty')\n",
    "else:\n",
    "  print(\"Not Empty\")"
   ]
  },
  {
   "cell_type": "code",
   "execution_count": 16,
   "id": "8b9a00e8",
   "metadata": {},
   "outputs": [
    {
     "name": "stdout",
     "output_type": "stream",
     "text": [
      "Not Empty\n"
     ]
    }
   ],
   "source": [
    "#method2 \n",
    "my_list= ['a']\n",
    "\n",
    "if not my_list:   # truthy & falsey condition(here,falsey condition)\n",
    "   print('Empty')\n",
    "else:\n",
    "  print(\"Not Empty\")"
   ]
  },
  {
   "cell_type": "code",
   "execution_count": 17,
   "id": "072c7dfa",
   "metadata": {},
   "outputs": [
    {
     "name": "stdout",
     "output_type": "stream",
     "text": [
      "Empty\n"
     ]
    }
   ],
   "source": [
    "my_list= []\n",
    "\n",
    "if not my_list:   # truthy & falsey condition(here,falsey condition)\n",
    "   print('Empty')\n",
    "else:\n",
    "  print(\"Not Empty\")"
   ]
  },
  {
   "cell_type": "code",
   "execution_count": 18,
   "id": "d784ab3b",
   "metadata": {},
   "outputs": [
    {
     "name": "stdout",
     "output_type": "stream",
     "text": [
      "Empty\n"
     ]
    }
   ],
   "source": [
    "my_list= []\n",
    "\n",
    "if my_list:     # Truthy condition\n",
    "  print(\"Not Empty\")\n",
    "else:\n",
    "  print(\"Empty\")"
   ]
  },
  {
   "cell_type": "code",
   "execution_count": 19,
   "id": "3ddd0dd5",
   "metadata": {},
   "outputs": [
    {
     "name": "stdout",
     "output_type": "stream",
     "text": [
      "3 0\n",
      "4 1\n",
      "5 2\n",
      "6 3\n"
     ]
    }
   ],
   "source": [
    "#Q5\n",
    "#Write a Python program that prints the elements of a list followed their corresponding indices.\n",
    "#Each element and its index must be on the same line separated by a space.\n",
    "\n",
    "my_list=[3,4,5,6]\n",
    "\n",
    "for i ,elem in enumerate(my_list):\n",
    "  print(elem,i)"
   ]
  },
  {
   "cell_type": "code",
   "execution_count": 20,
   "id": "5f23b702",
   "metadata": {},
   "outputs": [
    {
     "name": "stdout",
     "output_type": "stream",
     "text": [
      "3 0\n",
      "4 1\n",
      "5 2\n",
      "6 3\n"
     ]
    }
   ],
   "source": [
    "#method1\n",
    "my_list= [3,4,5,6]\n",
    "\n",
    "if len(my_list) == 0:\n",
    "  print(\"Empty List\")\n",
    "else:\n",
    "  for i in range(len(my_list)):\n",
    "    print(my_list[i], i)"
   ]
  },
  {
   "cell_type": "code",
   "execution_count": 21,
   "id": "eadc407a",
   "metadata": {},
   "outputs": [
    {
     "name": "stdout",
     "output_type": "stream",
     "text": [
      "a 0\n",
      "b 1\n",
      "c 2\n",
      "d 3\n"
     ]
    }
   ],
   "source": [
    "my_list= ['a','b','c','d']\n",
    "\n",
    "if len(my_list) == 0:\n",
    "  print(\"Empty List\")\n",
    "else:\n",
    "  for i in range(len(my_list)):\n",
    "    print(my_list[i], i)"
   ]
  },
  {
   "cell_type": "code",
   "execution_count": 22,
   "id": "ab54728b",
   "metadata": {},
   "outputs": [
    {
     "name": "stdout",
     "output_type": "stream",
     "text": [
      "a 0\n",
      "b 1\n",
      "c 2\n",
      "d 3\n"
     ]
    }
   ],
   "source": [
    "#method2\n",
    "my_list= ['a','b','c','d']\n",
    "\n",
    "if not my_list:   #falsey condition\n",
    "  print(\"Empty List\")\n",
    "else:\n",
    "  for i,elem in enumerate(my_list):\n",
    "    print(elem,i)"
   ]
  },
  {
   "cell_type": "code",
   "execution_count": 10,
   "id": "09f1d577",
   "metadata": {},
   "outputs": [
    {
     "name": "stdout",
     "output_type": "stream",
     "text": [
      "[1, 3, 4]\n"
     ]
    }
   ],
   "source": [
    "#Q6\n",
    "#Write a Python program that removes all occurrences of the element elem_to_remove from a list.\n",
    "#The output of the program should be the new list with the element removed.\n",
    "#If the element is not found in the list, print the message \"Not Found\".\n",
    "my_list = [1,3,3,4]\n",
    "to_remove= 3\n",
    "my_list.remove(to_remove)      #.remove() removes only one not all repeated numbers.(here,3 is two times but removed only once)\n",
    "print(my_list)"
   ]
  },
  {
   "cell_type": "code",
   "execution_count": 14,
   "id": "8a6937a3",
   "metadata": {},
   "outputs": [
    {
     "name": "stdout",
     "output_type": "stream",
     "text": [
      "[2, 1]\n"
     ]
    }
   ],
   "source": [
    "#method1\n",
    "my_list = [2,3,3,1]\n",
    "elem_to_remove= 3\n",
    "\n",
    "#check for elem in my_list\n",
    "if not my_list:  #falsy condition\n",
    "    print(\"Empty list\")\n",
    "    \n",
    "#check for elem_to_remove in my_list\n",
    "elif my_list.count(elem_to_remove) == 0:\n",
    "    print(\"Not Found\")\n",
    "else:\n",
    "    for i in range(my_list.count(elem_to_remove)):\n",
    "        my_list.remove(elem_to_remove)\n",
    "print(my_list)"
   ]
  },
  {
   "cell_type": "code",
   "execution_count": 15,
   "id": "0f002951",
   "metadata": {},
   "outputs": [
    {
     "data": {
      "text/plain": [
       "2"
      ]
     },
     "execution_count": 15,
     "metadata": {},
     "output_type": "execute_result"
    }
   ],
   "source": [
    "my_list = [2,3,3,1]\n",
    "my_list.count(3)"
   ]
  },
  {
   "cell_type": "code",
   "execution_count": 16,
   "id": "ecc1c185",
   "metadata": {},
   "outputs": [
    {
     "data": {
      "text/plain": [
       "2"
      ]
     },
     "execution_count": 16,
     "metadata": {},
     "output_type": "execute_result"
    }
   ],
   "source": [
    "my_list = [2,3,3,1]\n",
    "elem_to_remove= 3\n",
    "my_list.count(elem_to_remove)"
   ]
  },
  {
   "cell_type": "code",
   "execution_count": 20,
   "id": "46a2f5e4",
   "metadata": {},
   "outputs": [
    {
     "name": "stdout",
     "output_type": "stream",
     "text": [
      "[2, 1]\n"
     ]
    }
   ],
   "source": [
    "my_list = [2,3,3,1]\n",
    "elem_to_remove= 3\n",
    "\n",
    "#check for my_list is empty\n",
    "if not my_list:  #falsy condition\n",
    "    print(\"Empty list\")\n",
    "    \n",
    "#check for elem_to_remove in my_list using not in operator\n",
    "elif elem_to_remove not in my_list:\n",
    "    print(\"Not Found\")\n",
    "else:\n",
    "    for i in range(my_list.count(elem_to_remove)):\n",
    "        my_list.remove(elem_to_remove)\n",
    "print(my_list)"
   ]
  },
  {
   "cell_type": "code",
   "execution_count": 19,
   "id": "008ed55e",
   "metadata": {},
   "outputs": [
    {
     "data": {
      "text/plain": [
       "True"
      ]
     },
     "execution_count": 19,
     "metadata": {},
     "output_type": "execute_result"
    }
   ],
   "source": [
    "3 in [1,2,3]"
   ]
  },
  {
   "cell_type": "code",
   "execution_count": 23,
   "id": "3713bd77",
   "metadata": {},
   "outputs": [
    {
     "name": "stdout",
     "output_type": "stream",
     "text": [
      "Not Found\n",
      "['a', 'b', 'c', 'd']\n"
     ]
    }
   ],
   "source": [
    "my_list = ['a','b','c','d']\n",
    "elem_to_remove= 4\n",
    "\n",
    "#check for my_list is empty\n",
    "if not my_list:  #falsy condition\n",
    "    print(\"Empty list\")\n",
    "    \n",
    "#check for elem_to_remove in my_list using not in operator\n",
    "elif elem_to_remove not in my_list:\n",
    "    print(\"Not Found\")\n",
    "else:\n",
    "    for i in range(my_list.count(elem_to_remove)):\n",
    "        my_list.remove(elem_to_remove)\n",
    "print(my_list)"
   ]
  },
  {
   "cell_type": "code",
   "execution_count": 26,
   "id": "3585284a",
   "metadata": {},
   "outputs": [
    {
     "data": {
      "text/plain": [
       "[1, 2, 3, 4]"
      ]
     },
     "execution_count": 26,
     "metadata": {},
     "output_type": "execute_result"
    }
   ],
   "source": [
    "#Q7\n",
    "#Write a Python program that removes duplicate elements from a list, only keeping one occurrence of each element in the list\n",
    "my_list = [1,1,2,2,3,4,4]\n",
    "my_list=list(set(my_list))\n",
    "my_list"
   ]
  },
  {
   "cell_type": "code",
   "execution_count": 37,
   "id": "3462a564",
   "metadata": {},
   "outputs": [
    {
     "name": "stdout",
     "output_type": "stream",
     "text": [
      "[1, 2, 3, 4]\n"
     ]
    }
   ],
   "source": [
    "#Method1\n",
    "my_list=[1,1,2,3,4,4]\n",
    "\n",
    "no_duplicates = list(set(my_list))\n",
    "print(no_duplicates)"
   ]
  },
  {
   "cell_type": "code",
   "execution_count": 33,
   "id": "c99c7be4",
   "metadata": {},
   "outputs": [
    {
     "name": "stdout",
     "output_type": "stream",
     "text": [
      "['a', 'b', 'c']\n"
     ]
    }
   ],
   "source": [
    "my_list=['a','a','b','c']\n",
    "\n",
    "no_duplicates = list(set(my_list))   # with set,order of output can change\n",
    "print(no_duplicates)"
   ]
  },
  {
   "cell_type": "code",
   "execution_count": 38,
   "id": "373be244",
   "metadata": {},
   "outputs": [
    {
     "name": "stdout",
     "output_type": "stream",
     "text": [
      "[1, 2, 3, 4]\n"
     ]
    }
   ],
   "source": [
    "#method2\n",
    "my_list= [1,1,2,3,4,4]\n",
    "no_duplicates= list(dict.fromkeys(my_list))  # with dict,order can be kept\n",
    "print(no_duplicates)"
   ]
  },
  {
   "cell_type": "code",
   "execution_count": 41,
   "id": "98b42b1d",
   "metadata": {},
   "outputs": [
    {
     "name": "stdout",
     "output_type": "stream",
     "text": [
      "['a', 'b', 'c']\n"
     ]
    }
   ],
   "source": [
    "my_list=['a','a','b','c']\n",
    "no_duplicates= list(dict.fromkeys(my_list))\n",
    "print(no_duplicates)"
   ]
  },
  {
   "cell_type": "code",
   "execution_count": 61,
   "id": "769c5494",
   "metadata": {},
   "outputs": [
    {
     "name": "stdout",
     "output_type": "stream",
     "text": [
      "2\n"
     ]
    }
   ],
   "source": [
    "#Q8\n",
    "#Write a Python program that counts the number of elements in a list with value greater than 3.\n",
    "my_list= [1,2,3,4,4]\n",
    "for i in my_list:\n",
    "    if i > 3:\n",
    "        my_list.count(i)\n",
    "print( my_list.count(i))"
   ]
  },
  {
   "cell_type": "code",
   "execution_count": 63,
   "id": "e9626261",
   "metadata": {},
   "outputs": [
    {
     "name": "stdout",
     "output_type": "stream",
     "text": [
      "0\n"
     ]
    }
   ],
   "source": [
    "#method1\n",
    "my_list = [1,-1,0,2,2,3]\n",
    "count= 0 #empty varible for further use\n",
    "\n",
    "for elem in my_list:\n",
    "    if elem> 3:\n",
    "        count+=1\n",
    "print(count)"
   ]
  },
  {
   "cell_type": "code",
   "execution_count": 70,
   "id": "9f172327",
   "metadata": {},
   "outputs": [
    {
     "name": "stdout",
     "output_type": "stream",
     "text": [
      "2\n"
     ]
    }
   ],
   "source": [
    "my_list = [1,2,3,4,4]\n",
    "count= 0\n",
    "for elem in my_list:\n",
    "    if elem> 3:\n",
    "        count+=1\n",
    "print(count)"
   ]
  },
  {
   "cell_type": "code",
   "execution_count": 71,
   "id": "bee85799",
   "metadata": {},
   "outputs": [
    {
     "name": "stdout",
     "output_type": "stream",
     "text": [
      "4\n"
     ]
    }
   ],
   "source": [
    "my_list = [7,8,9,10]\n",
    "count= 0\n",
    "for elem in my_list:\n",
    "    if elem> 3:\n",
    "        count+=1\n",
    "print(count)"
   ]
  },
  {
   "cell_type": "code",
   "execution_count": 73,
   "id": "45806918",
   "metadata": {},
   "outputs": [
    {
     "name": "stdout",
     "output_type": "stream",
     "text": [
      "4\n"
     ]
    }
   ],
   "source": [
    "#method2\n",
    "my_list = [7,8,9,10]\n",
    "count= sum(1 for elem in my_list if elem>3)  #similar to comprehension\n",
    "print(count)"
   ]
  },
  {
   "cell_type": "code",
   "execution_count": 80,
   "id": "d5538ac4",
   "metadata": {},
   "outputs": [
    {
     "name": "stdout",
     "output_type": "stream",
     "text": [
      "{3}\n"
     ]
    }
   ],
   "source": [
    "#Q9\n",
    "#Write a Python program that finds the intersection of two sets (set1 and set2).\n",
    "#Create a new set called intersection with their intersection.\n",
    "set1 ={1,2,3}\n",
    "set2 ={3,4,5}\n",
    "intersection = set1.intersection(set2)\n",
    "print(intersection)"
   ]
  },
  {
   "cell_type": "code",
   "execution_count": 81,
   "id": "b92855a7",
   "metadata": {},
   "outputs": [],
   "source": [
    "set1 = {1,2,3,4,5}\n",
    "set2 = {3,4,5,6,7}"
   ]
  },
  {
   "cell_type": "code",
   "execution_count": 84,
   "id": "f6b4e06f",
   "metadata": {},
   "outputs": [
    {
     "name": "stdout",
     "output_type": "stream",
     "text": [
      "{3, 4, 5}\n"
     ]
    }
   ],
   "source": [
    "#method1\n",
    "intersection = set()\n",
    "\n",
    "for elem in set1:\n",
    "    if elem in set2:\n",
    "        intersection.add(elem)\n",
    "print(intersection)"
   ]
  },
  {
   "cell_type": "code",
   "execution_count": 98,
   "id": "cdba1252",
   "metadata": {},
   "outputs": [
    {
     "name": "stdout",
     "output_type": "stream",
     "text": [
      "[3, 4, 5]\n"
     ]
    }
   ],
   "source": [
    "set1 = {1,2,3,4,5,5}\n",
    "set2 = {3,4,5,5,6,7}\n",
    "intersection = list(set()) #calling set is important to not get repeatative values.\n",
    "\n",
    "for elem in set1:\n",
    "    if elem in set2:\n",
    "        intersection.append(elem)\n",
    "print(intersection)"
   ]
  },
  {
   "cell_type": "code",
   "execution_count": 99,
   "id": "3000a594",
   "metadata": {},
   "outputs": [
    {
     "name": "stdout",
     "output_type": "stream",
     "text": [
      "{3, 4, 5}\n"
     ]
    }
   ],
   "source": [
    "#method2\n",
    "set1 = {1,2,3,4,5}\n",
    "set2 = {3,4,5,6,7}\n",
    "print(set1.intersection(set2))"
   ]
  },
  {
   "cell_type": "code",
   "execution_count": 103,
   "id": "d2f4c0bb",
   "metadata": {},
   "outputs": [
    {
     "name": "stdout",
     "output_type": "stream",
     "text": [
      "{4, 5}\n"
     ]
    }
   ],
   "source": [
    "set1 = {1,2,3,4,5}\n",
    "set2 = {3,4,5,6,7}\n",
    "set3=  {4,5,6,7,8,9,10}\n",
    "print(set1.intersection(set2,set3))"
   ]
  },
  {
   "cell_type": "code",
   "execution_count": 107,
   "id": "782d9982",
   "metadata": {},
   "outputs": [
    {
     "name": "stdout",
     "output_type": "stream",
     "text": [
      "{4, 5}\n"
     ]
    }
   ],
   "source": [
    "set1 = {1,2,3,4,5}\n",
    "set2 = {3,4,5,6,7}\n",
    "set3=  {4,5,6,7,8,9,10}\n",
    "intersection = set()\n",
    "for elem in set1:\n",
    "    if elem in (set2):\n",
    "        if elem in set3:\n",
    "            intersection.add(elem)\n",
    "print(intersection)"
   ]
  },
  {
   "cell_type": "code",
   "execution_count": 108,
   "id": "3a301760",
   "metadata": {},
   "outputs": [
    {
     "name": "stdout",
     "output_type": "stream",
     "text": [
      "{3, 4, 5}\n"
     ]
    }
   ],
   "source": [
    "set1 = {1,2,3,4,5}\n",
    "set2 = {3,4,5,6,7}\n",
    "set3=  {3,4,5,6,7,8,9,10}\n",
    "print(set1.intersection(set2,set3))"
   ]
  },
  {
   "cell_type": "code",
   "execution_count": 117,
   "id": "efdecc0a",
   "metadata": {},
   "outputs": [
    {
     "name": "stdout",
     "output_type": "stream",
     "text": [
      "3 4 "
     ]
    }
   ],
   "source": [
    "#Q10\n",
    "#Write a Python program that prints (as a list) the elements of listA that are not in listB.\n",
    "#If the lists have the same elements, print an empty list.\n",
    "#If listA is an empty list, print an empty list.\n",
    "listA = [1,2,3,4]\n",
    "listB= [1,2]\n",
    "\n",
    "for elem in listA:\n",
    "    if elem not in listB:\n",
    "        print(elem,end=\" \")"
   ]
  },
  {
   "cell_type": "code",
   "execution_count": 118,
   "id": "d186dc3b",
   "metadata": {},
   "outputs": [
    {
     "data": {
      "text/plain": [
       "[3, 4]"
      ]
     },
     "execution_count": 118,
     "metadata": {},
     "output_type": "execute_result"
    }
   ],
   "source": [
    "[elem for elem in listA if elem not in listB]"
   ]
  },
  {
   "cell_type": "code",
   "execution_count": 119,
   "id": "610d97de",
   "metadata": {},
   "outputs": [
    {
     "data": {
      "text/plain": [
       "[1, 2, 3]"
      ]
     },
     "execution_count": 119,
     "metadata": {},
     "output_type": "execute_result"
    }
   ],
   "source": [
    "[elem for elem in [1,2,3,4] if elem not in [4,5]]"
   ]
  },
  {
   "cell_type": "code",
   "execution_count": 120,
   "id": "88dadf3c",
   "metadata": {},
   "outputs": [
    {
     "data": {
      "text/plain": [
       "[]"
      ]
     },
     "execution_count": 120,
     "metadata": {},
     "output_type": "execute_result"
    }
   ],
   "source": [
    "[elem for elem in [1,2,3,4] if elem not in [1,2,3,4]]"
   ]
  },
  {
   "cell_type": "code",
   "execution_count": 131,
   "id": "d62c1f7a",
   "metadata": {},
   "outputs": [
    {
     "name": "stdout",
     "output_type": "stream",
     "text": [
      "[3, 4]\n"
     ]
    }
   ],
   "source": [
    "#method1\n",
    "listA = [1,2,3,4]\n",
    "listB= [1,2]\n",
    "\n",
    "difference = []\n",
    "for elem in listA:\n",
    "    if elem not in listB:\n",
    "        difference.append(elem)\n",
    "print(difference)"
   ]
  },
  {
   "cell_type": "code",
   "execution_count": 132,
   "id": "6efee97c",
   "metadata": {},
   "outputs": [],
   "source": [
    "#Q11\n",
    "#Write a Python program that calculates the distance between two 3D points.\n",
    "#The points are represented by two lists with three elements. The first element is the x-coordinate. \n",
    "#The second element is the y-coordinate. The third element is the z-coordinate.\n",
    "#Formula to find distance is:\n",
    "#where,A(x1,y1,z1) and B(x2,y2,z2)"
   ]
  },
  {
   "attachments": {
    "2021-02-25_20-59-17-3bfbd6378b49b238ad30279065b7a8aa.png": {
     "image/png": "[encoded data removed]"
    }
   },
   "cell_type": "markdown",
   "id": "bc76b10b",
   "metadata": {},
   "source": [
    "![2021-02-25_20-59-17-3bfbd6378b49b238ad30279065b7a8aa.png](attachment:2021-02-25_20-59-17-3bfbd6378b49b238ad30279065b7a8aa.png)"
   ]
  },
  {
   "cell_type": "code",
   "execution_count": 142,
   "id": "b0ae71dd",
   "metadata": {},
   "outputs": [
    {
     "name": "stdout",
     "output_type": "stream",
     "text": [
      "2.23606797749979\n"
     ]
    }
   ],
   "source": [
    "#method1\n",
    "pointA=[3,4,5] \n",
    "pointB=[1,3,5]\n",
    "\n",
    "distance =   ((pointA[0] - pointB[0])**2\n",
    "            + (pointA[1] - pointB[1])**2\n",
    "            + (pointA[2] - pointB[2])**2) **(1/2)\n",
    "print(distance)"
   ]
  },
  {
   "cell_type": "code",
   "execution_count": 138,
   "id": "ab1a4f70",
   "metadata": {},
   "outputs": [],
   "source": [
    "# 3d points have 3 co-ordinates(x,y,z)\n",
    "# to find sqrt,we take power of o.5 or (1/2),for cube root,(1.5)\n",
    "# since each axis value is subtracted from both points,we did above simple operation.\n",
    "# remember distance can not be negative,if you get negative values,switch subtraction to pointB - PointA."
   ]
  },
  {
   "cell_type": "code",
   "execution_count": 143,
   "id": "6a21ffdf",
   "metadata": {},
   "outputs": [
    {
     "name": "stdout",
     "output_type": "stream",
     "text": [
      "6.48074069840786\n"
     ]
    }
   ],
   "source": [
    "pointA=[-3,4,-5] \n",
    "pointB=[2,0,-4]\n",
    "\n",
    "distance =   ((pointA[0] - pointB[0])**2\n",
    "            + (pointA[1] - pointB[1])**2\n",
    "            + (pointA[2] - pointB[2])**2) **(1/2)\n",
    "print(distance)"
   ]
  },
  {
   "cell_type": "code",
   "execution_count": 144,
   "id": "8f728608",
   "metadata": {},
   "outputs": [
    {
     "name": "stdout",
     "output_type": "stream",
     "text": [
      "0.0\n"
     ]
    }
   ],
   "source": [
    "pointA=[1,2,3] \n",
    "pointB=[1,2,3]\n",
    "\n",
    "distance =   ((pointA[0] - pointB[0])**2\n",
    "            + (pointA[1] - pointB[1])**2\n",
    "            + (pointA[2] - pointB[2])**2) **(1/2)\n",
    "print(distance)"
   ]
  },
  {
   "cell_type": "code",
   "execution_count": 146,
   "id": "d208174d",
   "metadata": {},
   "outputs": [
    {
     "name": "stdout",
     "output_type": "stream",
     "text": [
      "6.48074069840786\n"
     ]
    }
   ],
   "source": [
    "#method2  Using math module\n",
    "import math\n",
    "pointA=[-3,4,-5] \n",
    "pointB=[2,0,-4]\n",
    "\n",
    "addition =  ((pointA[0] - pointB[0])**2\n",
    "            + (pointA[1] - pointB[1])**2\n",
    "            + (pointA[2] - pointB[2])**2)\n",
    "distance = math.sqrt(addition)\n",
    "print(distance)"
   ]
  },
  {
   "cell_type": "code",
   "execution_count": 148,
   "id": "32d86321",
   "metadata": {},
   "outputs": [
    {
     "name": "stdout",
     "output_type": "stream",
     "text": [
      "[4, 5]\n"
     ]
    }
   ],
   "source": [
    "#Q12\n",
    "#Print Common Elements in Two Lists\n",
    "listA =[4,5,6]\n",
    "listB=[1,4,5]\n",
    "new_list=[]\n",
    "for elem in listA:\n",
    "    if elem in listB:\n",
    "        new_list.append(elem)\n",
    "print(new_list)"
   ]
  },
  {
   "cell_type": "code",
   "execution_count": 149,
   "id": "18cf5272",
   "metadata": {},
   "outputs": [
    {
     "data": {
      "text/plain": [
       "[4, 5]"
      ]
     },
     "execution_count": 149,
     "metadata": {},
     "output_type": "execute_result"
    }
   ],
   "source": [
    "[elem for elem in listA if elem in listB]"
   ]
  },
  {
   "cell_type": "code",
   "execution_count": 152,
   "id": "af8f1ba5",
   "metadata": {},
   "outputs": [
    {
     "name": "stdout",
     "output_type": "stream",
     "text": [
      "[5, 4]\n"
     ]
    }
   ],
   "source": [
    "#method1\n",
    "listA= [5,4,6]\n",
    "listB=[1,2,3,4,5]\n",
    "\n",
    "common_elem= []\n",
    "for elem in listA:\n",
    "    if elem in listB:\n",
    "        common_elem.append(elem)\n",
    "print(common_elem)"
   ]
  },
  {
   "cell_type": "code",
   "execution_count": 180,
   "id": "d8bad5da",
   "metadata": {},
   "outputs": [
    {
     "name": "stdout",
     "output_type": "stream",
     "text": [
      "3\n"
     ]
    }
   ],
   "source": [
    "#Q13\n",
    "#Write a Python program that prints the second largest value in a list.\n",
    "#[1,2,3,4] --> 3\n",
    "#Method1\n",
    "my_list =[1,2,3,4]\n",
    "\n",
    "if len (my_list)>1 :  # for 2nd largest,we need min 2 elem in list\n",
    "    sorted_list = sorted(my_list)\n",
    "    print(sorted_list[-2])\n",
    "else:\n",
    "    print(None)"
   ]
  },
  {
   "cell_type": "code",
   "execution_count": 155,
   "id": "2e9f355a",
   "metadata": {},
   "outputs": [
    {
     "data": {
      "text/plain": [
       "4"
      ]
     },
     "execution_count": 155,
     "metadata": {},
     "output_type": "execute_result"
    }
   ],
   "source": [
    "max([1,2,3,4])  # we can't find 2nd largest fn using max()"
   ]
  },
  {
   "cell_type": "code",
   "execution_count": 166,
   "id": "788958cf",
   "metadata": {},
   "outputs": [
    {
     "name": "stdout",
     "output_type": "stream",
     "text": [
      "[1, 2, 3, 4]\n",
      "3\n"
     ]
    }
   ],
   "source": [
    "# Its unnecessary to declare empty variable\n",
    "my_list =[4,2,1,3]\n",
    "sorted_list =[]\n",
    "if len (my_list)>1 :\n",
    "    sorted_list+=(sorted(my_list))\n",
    "    print(sorted_list)\n",
    "    print(sorted_list[-2])\n",
    "else:\n",
    "    print(None)"
   ]
  },
  {
   "cell_type": "code",
   "execution_count": 167,
   "id": "89b400da",
   "metadata": {},
   "outputs": [
    {
     "name": "stdout",
     "output_type": "stream",
     "text": [
      "1\n"
     ]
    }
   ],
   "source": [
    "my_list =[1,0,3]\n",
    "\n",
    "if len (my_list)>1 :  # for 2nd largest,we need min 2 elem in list\n",
    "    sorted_list = sorted(my_list)\n",
    "    print(sorted_list[-2])\n",
    "else:\n",
    "    print(None)"
   ]
  },
  {
   "cell_type": "code",
   "execution_count": 176,
   "id": "092951d3",
   "metadata": {},
   "outputs": [
    {
     "name": "stdout",
     "output_type": "stream",
     "text": [
      "3\n"
     ]
    }
   ],
   "source": [
    "my_list=[1,2,2,3,3]\n",
    "if len (my_list)>1:\n",
    "    sorted_list= sorted(my_list)\n",
    "    print(sorted_list[-2])\n",
    "else:\n",
    "    print(None)"
   ]
  },
  {
   "cell_type": "code",
   "execution_count": 197,
   "id": "6c333130",
   "metadata": {},
   "outputs": [
    {
     "name": "stdout",
     "output_type": "stream",
     "text": [
      "2\n"
     ]
    }
   ],
   "source": [
    "# if said to remove repeatative values,use set()\n",
    "my_list=[1,2,2,3,3]\n",
    "if len (my_list)>1:\n",
    "    no_duplicates =list(set(my_list))\n",
    "    sorted_list= sorted(no_duplicates)\n",
    "    print(sorted_list[-2])\n",
    "else:\n",
    "    print(None)"
   ]
  },
  {
   "cell_type": "code",
   "execution_count": 182,
   "id": "bf77f0fe",
   "metadata": {},
   "outputs": [
    {
     "name": "stdout",
     "output_type": "stream",
     "text": [
      "3\n"
     ]
    }
   ],
   "source": [
    "#method2\n",
    "my_list=[4,3,2,1]\n",
    "\n",
    "if len(my_list)>1:\n",
    "    no_duplicates =set(my_list)\n",
    "    no_duplicates.remove(max(no_duplicates))\n",
    "    print(max(no_duplicates))\n",
    "else:\n",
    "    print(None)"
   ]
  },
  {
   "cell_type": "code",
   "execution_count": 195,
   "id": "51363b30",
   "metadata": {},
   "outputs": [
    {
     "name": "stdout",
     "output_type": "stream",
     "text": [
      "2\n"
     ]
    }
   ],
   "source": [
    "#Q14\n",
    "#Write a Python program that prints the second smallest value in a list.\n",
    "#method1\n",
    "my_list=[3,4,1,2]\n",
    "\n",
    "if len (my_list)> 1:\n",
    "    sorted_list=sorted(my_list)\n",
    "    print(sorted_list[1])\n",
    "else:\n",
    "    print(None)"
   ]
  },
  {
   "cell_type": "code",
   "execution_count": 198,
   "id": "8480c84d",
   "metadata": {},
   "outputs": [
    {
     "name": "stdout",
     "output_type": "stream",
     "text": [
      "2\n"
     ]
    }
   ],
   "source": [
    "#method2\n",
    "my_list=[4,2,3,1]\n",
    "\n",
    "if len(my_list)>1:\n",
    "    no_duplicates = set(my_list)\n",
    "    no_duplicates.remove(min(no_duplicates))\n",
    "    print(min(no_duplicates))"
   ]
  },
  {
   "cell_type": "code",
   "execution_count": 200,
   "id": "8ba22e29",
   "metadata": {},
   "outputs": [
    {
     "data": {
      "text/plain": [
       "3"
      ]
     },
     "execution_count": 200,
     "metadata": {},
     "output_type": "execute_result"
    }
   ],
   "source": [
    "#Q15\n",
    "#Make a Frequency Dictionary from the Elements of a List (*)\n",
    "#Write program that creates & print a dict that maps each elem in a list to its corr freq(how many times it occurs in the list).\n",
    "my_list=['a','a','b','c','a','b']\n",
    "my_list.count('a')"
   ]
  },
  {
   "cell_type": "code",
   "execution_count": 206,
   "id": "00ce455a",
   "metadata": {},
   "outputs": [
    {
     "name": "stdout",
     "output_type": "stream",
     "text": [
      "{'a': 3, 'b': 2, 'c': 1}\n"
     ]
    }
   ],
   "source": [
    "#method1\n",
    "my_list=['a','a','b','c','a','b']\n",
    "freq_dict={}\n",
    "\n",
    "for elem in my_list:\n",
    "    if elem not in freq_dict:\n",
    "        freq_dict[elem] =1\n",
    "    else:\n",
    "        freq_dict[elem]+=1\n",
    "print(freq_dict)"
   ]
  },
  {
   "cell_type": "code",
   "execution_count": 208,
   "id": "8be87c50",
   "metadata": {},
   "outputs": [
    {
     "name": "stdout",
     "output_type": "stream",
     "text": [
      "{1: 2, 2: 1, 4: 1, 5: 2, 3: 1}\n"
     ]
    }
   ],
   "source": [
    "my_list=[1,2,4,5,3,1,5]\n",
    "freq_dict={}\n",
    "for elem in my_list:\n",
    "    if elem not in freq_dict:\n",
    "        freq_dict[elem] =1\n",
    "    else:\n",
    "        freq_dict[elem]+=1\n",
    "print(freq_dict)"
   ]
  },
  {
   "cell_type": "code",
   "execution_count": 209,
   "id": "eced4e0d",
   "metadata": {},
   "outputs": [
    {
     "name": "stdout",
     "output_type": "stream",
     "text": [
      "{'a': 2, 'A': 1, 'b': 1, 'B': 1}\n"
     ]
    }
   ],
   "source": [
    "my_list=['a','a','A','b','B']  #its case sensitive\n",
    "freq_dict={}\n",
    "for elem in my_list:\n",
    "    if elem not in freq_dict:\n",
    "        freq_dict[elem] =1\n",
    "    else:\n",
    "        freq_dict[elem]+=1\n",
    "print(freq_dict)"
   ]
  },
  {
   "cell_type": "code",
   "execution_count": 242,
   "id": "5743849f",
   "metadata": {},
   "outputs": [
    {
     "name": "stdout",
     "output_type": "stream",
     "text": [
      "[1, 2, 3, 4, 5, 6, 7, 8, 9]\n"
     ]
    }
   ],
   "source": [
    "#Q16\n",
    "#Flatten a List that Contains Lists (*)\n",
    "#Write a Python program that prints a \"flattened\" version of a list that contains nested lists.\n",
    "\n",
    "#\"Flattened\" means all elem in nested lists shld be added to a main list such that it doesn't contain any nested lists,just the individual.\n",
    "\n",
    "#The list could contain other elements that are not lists or other sequences,\n",
    "#so you must check the type of each element and act appropriately.\n",
    "my_list= [[1,2,3],[4,5,6],[7,8,9]]\n",
    "flattened_list=[]\n",
    "for elem in my_list:\n",
    "    for nested_ele in elem:\n",
    "        flattened_list.append(nested_ele)\n",
    "\n",
    "print(flattened_list)  #it gives error for elem outside nested list,like my_list= [[1,2,3],[4,5,6],[7,8,9],10]"
   ]
  },
  {
   "cell_type": "markdown",
   "id": "428a0426",
   "metadata": {},
   "source": [
    "Signature: isinstance(obj, class_or_tuple, /)\n",
    "Docstring:\n",
    "Return whether an object is an instance of a class or of a subclass thereof."
   ]
  },
  {
   "cell_type": "code",
   "execution_count": 237,
   "id": "49b720e3",
   "metadata": {},
   "outputs": [
    {
     "name": "stdout",
     "output_type": "stream",
     "text": [
      "[1, 2, 3, 4, 5, 6, 7, 8, 9]\n"
     ]
    }
   ],
   "source": [
    "#method1\n",
    "my_list= [[1,2,3],[4,5,6],[7,8,9],10]\n",
    "\n",
    "flat_list=[]\n",
    "\n",
    "for elem in my_list:            #here ,elem are [1,2,3],[4,5,6],[7,8,9]\n",
    "    \n",
    "    #check data type if its a list or not\n",
    "    if isinstance(elem,list):\n",
    "        for nested_elem in elem:\n",
    "            flat_list.append(nested_elem)\n",
    "    else:\n",
    "        flat_list.append(elem)\n",
    "print(flat_list)"
   ]
  },
  {
   "cell_type": "code",
   "execution_count": 217,
   "id": "096a2a31",
   "metadata": {},
   "outputs": [
    {
     "data": {
      "text/plain": [
       "True"
      ]
     },
     "execution_count": 217,
     "metadata": {},
     "output_type": "execute_result"
    }
   ],
   "source": [
    "isinstance([1,2,3],list)"
   ]
  },
  {
   "cell_type": "code",
   "execution_count": 218,
   "id": "e68680ce",
   "metadata": {},
   "outputs": [
    {
     "data": {
      "text/plain": [
       "False"
      ]
     },
     "execution_count": 218,
     "metadata": {},
     "output_type": "execute_result"
    }
   ],
   "source": [
    "isinstance((1,2,3),list)"
   ]
  },
  {
   "cell_type": "code",
   "execution_count": 233,
   "id": "464b522c",
   "metadata": {},
   "outputs": [
    {
     "name": "stdout",
     "output_type": "stream",
     "text": [
      "[1, 2, 3, 4, 5, 6, 7, 8, 9, 10]\n"
     ]
    }
   ],
   "source": [
    "my_list= [[1,2,3],[4,5,6],[7,8,9],10]\n",
    "\n",
    "flat_list=[]\n",
    "\n",
    "for elem in my_list:\n",
    "    if isinstance(elem,list):\n",
    "        for nested_elem in elem:\n",
    "            flat_list.append(nested_elem)\n",
    "\n",
    "    #for non_list elem in my_list\n",
    "    else:\n",
    "        flat_list.append(elem)\n",
    "\n",
    "\n",
    "print(flat_list)"
   ]
  },
  {
   "cell_type": "code",
   "execution_count": 236,
   "id": "f871e17b",
   "metadata": {},
   "outputs": [
    {
     "name": "stdout",
     "output_type": "stream",
     "text": [
      "[1, 2, 3, 4, 5, 6, 7, 8, 9, 10, 'a', 'b', 'd']\n"
     ]
    }
   ],
   "source": [
    "my_list= [[1,2,3],[4,5,6],[7,8,9],10,['a'],['b'],'d']\n",
    "flat_list=[]\n",
    "for elem in my_list:\n",
    "    if isinstance(elem,list):      #[1,2,3],[4,5,6],[7,8,9],['a'],['b']\n",
    "        for nested_ele in elem:    #1,2,3,4,5,6,7,8,9\n",
    "            flat_list.append(nested_ele)\n",
    "    else:\n",
    "        flat_list.append(elem)       #10,'d'\n",
    "print(flat_list)"
   ]
  },
  {
   "cell_type": "code",
   "execution_count": 245,
   "id": "9f73e50b",
   "metadata": {},
   "outputs": [
    {
     "name": "stdout",
     "output_type": "stream",
     "text": [
      "[1, 2, 3, 4, 5, 6, 7, 8, 9]\n"
     ]
    }
   ],
   "source": [
    "my_list=[1,2,3,4,5,6,[7,8,9]]\n",
    "flat_list=[]\n",
    "for elem in my_list:\n",
    "    if isinstance(elem,list):\n",
    "        for nested_ele in elem:\n",
    "            flat_list.append(nested_ele)\n",
    "    else:\n",
    "        flat_list.append(elem)\n",
    "print(flat_list)"
   ]
  },
  {
   "cell_type": "code",
   "execution_count": 250,
   "id": "1e2a85a0",
   "metadata": {},
   "outputs": [],
   "source": [
    "#Q17\n",
    "#Write a Python program that generates and prints all the possible permutations of a list.\n",
    "\n",
    "#A permutation is a possible arrangement of the elements of the list. For example, [2, 1, 3] is a permutation of [1, 2, 3].\n",
    "#Print each permutation as a list on a separate line. You can print them as lists or tuples.\n",
    "#Include the list itself as a permutation."
   ]
  },
  {
   "cell_type": "code",
   "execution_count": 256,
   "id": "8f9a3d31",
   "metadata": {},
   "outputs": [
    {
     "name": "stdout",
     "output_type": "stream",
     "text": [
      "(1, 2, 3)\n",
      "(1, 3, 2)\n",
      "(2, 1, 3)\n",
      "(2, 3, 1)\n",
      "(3, 1, 2)\n",
      "(3, 2, 1)\n"
     ]
    }
   ],
   "source": [
    "# There's permutation fn in itertools module,import that\n",
    "import itertools\n",
    "my_list = [1,2,3]\n",
    "\n",
    "permutations = list(itertools.permutations(my_list))\n",
    "\n",
    "for permutation in permutations:\n",
    "    print(permutation)"
   ]
  },
  {
   "cell_type": "code",
   "execution_count": 261,
   "id": "692de595",
   "metadata": {},
   "outputs": [
    {
     "data": {
      "text/plain": [
       "[(1, 2, 3), (1, 3, 2), (2, 1, 3), (2, 3, 1), (3, 1, 2), (3, 2, 1)]"
      ]
     },
     "execution_count": 261,
     "metadata": {},
     "output_type": "execute_result"
    }
   ],
   "source": [
    "list(itertools.permutations([1,2,3]))"
   ]
  },
  {
   "cell_type": "code",
   "execution_count": 266,
   "id": "3069c6da",
   "metadata": {},
   "outputs": [
    {
     "name": "stdout",
     "output_type": "stream",
     "text": [
      "['a', 'b', 'c']\n",
      "['a', 'c', 'b']\n",
      "['b', 'a', 'c']\n",
      "['b', 'c', 'a']\n",
      "['c', 'a', 'b']\n",
      "['c', 'b', 'a']\n"
     ]
    }
   ],
   "source": [
    "import itertools\n",
    "my_list= ['a','b','c']\n",
    "perm=list(itertools.permutations(my_list))\n",
    "\n",
    "for elem in perm:\n",
    "    print(list(elem))"
   ]
  },
  {
   "cell_type": "code",
   "execution_count": 267,
   "id": "ca965691",
   "metadata": {},
   "outputs": [
    {
     "name": "stdout",
     "output_type": "stream",
     "text": [
      "[1, 2, 3]\n",
      "[1, 3, 2]\n",
      "[2, 1, 3]\n",
      "[2, 3, 1]\n",
      "[3, 1, 2]\n",
      "[3, 2, 1]\n"
     ]
    }
   ],
   "source": [
    "my_list = [1,2,3]\n",
    "for permutation in itertools.permutations(my_list):\n",
    "    print(list(permutation))"
   ]
  },
  {
   "cell_type": "code",
   "execution_count": 269,
   "id": "c7326eba",
   "metadata": {},
   "outputs": [
    {
     "name": "stdout",
     "output_type": "stream",
     "text": [
      "(1, 2, 3)\n",
      "(1, 3, 2)\n",
      "(2, 1, 3)\n",
      "(2, 3, 1)\n",
      "(3, 1, 2)\n",
      "(3, 2, 1)\n"
     ]
    }
   ],
   "source": [
    "my_list = [1,2,3]\n",
    "for perm in itertools.permutations(my_list):\n",
    "    print((perm))"
   ]
  },
  {
   "cell_type": "code",
   "execution_count": 271,
   "id": "a9314b3d",
   "metadata": {},
   "outputs": [
    {
     "name": "stdout",
     "output_type": "stream",
     "text": [
      "(1, 2, 3)\n",
      "(1, 3, 2)\n",
      "(2, 1, 3)\n",
      "(2, 3, 1)\n",
      "(3, 1, 2)\n",
      "(3, 2, 1)\n"
     ]
    }
   ],
   "source": [
    "#Q18\n",
    "my_tuple = (1,2,3)\n",
    "for perm in itertools.permutations(my_tuple):\n",
    "    print((perm))"
   ]
  },
  {
   "cell_type": "code",
   "execution_count": 274,
   "id": "49caf869",
   "metadata": {},
   "outputs": [
    {
     "name": "stdout",
     "output_type": "stream",
     "text": [
      "(1, 2, 3)\n",
      "(1, 3, 2)\n",
      "(2, 1, 3)\n",
      "(2, 3, 1)\n",
      "(3, 1, 2)\n",
      "(3, 2, 1)\n"
     ]
    }
   ],
   "source": [
    "import itertools\n",
    "my_tuple = (1,2,3)\n",
    "\n",
    "permutations = list(itertools.permutations(my_tuple))\n",
    "\n",
    "for permutation in permutations:\n",
    "    print(permutation)"
   ]
  },
  {
   "cell_type": "markdown",
   "id": "9b5c8d16",
   "metadata": {},
   "source": [
    "## Thanks!"
   ]
  },
  {
   "cell_type": "markdown",
   "id": "25440731",
   "metadata": {},
   "source": [
    "---"
   ]
  }
 ],
 "metadata": {
  "kernelspec": {
   "display_name": "Python 3 (ipykernel)",
   "language": "python",
   "name": "python3"
  },
  "language_info": {
   "codemirror_mode": {
    "name": "ipython",
    "version": 3
   },
   "file_extension": ".py",
   "mimetype": "text/x-python",
   "name": "python",
   "nbconvert_exporter": "python",
   "pygments_lexer": "ipython3",
   "version": "3.8.12"
  }
 },
 "nbformat": 4,
 "nbformat_minor": 5
}
