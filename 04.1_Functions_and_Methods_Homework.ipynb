{
  "cells": [
    {
      "cell_type": "markdown",
      "metadata": {
        "id": "9zBV9ZXNsPGM"
      },
      "source": [
        "# Functions and Methods Homework \n",
        "\n",
        "Complete the following questions:\n",
        "____\n",
        "**Write a function that computes the volume of a sphere given its radius.**\n",
        "<p>The volume of a sphere is given as $$\\frac{4}{3} πr^3$$</p>"
      ]
    },
    {
      "cell_type": "code",
      "execution_count": 1,
      "metadata": {
        "collapsed": true,
        "id": "WdJJZ8v7sPGP"
      },
      "outputs": [],
      "source": [
        "def vol(rad):\n",
        "    return (4/3)*(3.14)*(rad)**3"
      ]
    },
    {
      "cell_type": "code",
      "execution_count": 2,
      "metadata": {
        "colab": {
          "base_uri": "https://localhost:8080/"
        },
        "id": "5iLcqpDSsPGV",
        "outputId": "d83e0876-fcc9-4da8-d29a-ece3c77b06d3"
      },
      "outputs": [
        {
          "output_type": "execute_result",
          "data": {
            "text/plain": [
              "33.49333333333333"
            ]
          },
          "metadata": {},
          "execution_count": 2
        }
      ],
      "source": [
        "# Check\n",
        "vol(2)"
      ]
    },
    {
      "cell_type": "markdown",
      "metadata": {
        "id": "fDXVlEs1sPGZ"
      },
      "source": [
        "___\n",
        "**Write a function that checks whether a number is in a given range (inclusive of high and low)**"
      ]
    },
    {
      "cell_type": "code",
      "execution_count": 3,
      "metadata": {
        "collapsed": true,
        "id": "7HOYiW5lsPGb"
      },
      "outputs": [],
      "source": [
        "def ran_check(num,low,high):\n",
        "    if num > low and num < high:\n",
        "      print( f'{num} is in the range between {low} and {high}')\n",
        "    else:\n",
        "      print( f'{num} is in not in the range between {low} and {high}')"
      ]
    },
    {
      "cell_type": "code",
      "execution_count": 4,
      "metadata": {
        "colab": {
          "base_uri": "https://localhost:8080/"
        },
        "id": "7brJiy5AsPGd",
        "outputId": "34e6fbe1-85b7-4977-fa60-9de706196b3e"
      },
      "outputs": [
        {
          "output_type": "stream",
          "name": "stdout",
          "text": [
            "5 is in the range between 2 and 7\n"
          ]
        }
      ],
      "source": [
        "# Check\n",
        "ran_check(5,2,7)"
      ]
    },
    {
      "cell_type": "code",
      "source": [
        "ran_check(8,2,7)"
      ],
      "metadata": {
        "colab": {
          "base_uri": "https://localhost:8080/"
        },
        "id": "8bb9CZPHtxQt",
        "outputId": "7b955738-4317-4866-89b6-2d2103def0b8"
      },
      "execution_count": 5,
      "outputs": [
        {
          "output_type": "stream",
          "name": "stdout",
          "text": [
            "8 is in not in the range between 2 and 7\n"
          ]
        }
      ]
    },
    {
      "cell_type": "markdown",
      "metadata": {
        "id": "LRUI-r81sPGh"
      },
      "source": [
        "If you only wanted to return a boolean:"
      ]
    },
    {
      "cell_type": "code",
      "execution_count": 6,
      "metadata": {
        "collapsed": true,
        "id": "lLTAe4SasPGj"
      },
      "outputs": [],
      "source": [
        "def ran_bool(num,low,high):\n",
        "    if num > low and num < high:\n",
        "      return True\n",
        "    else:\n",
        "      return False"
      ]
    },
    {
      "cell_type": "code",
      "execution_count": 7,
      "metadata": {
        "colab": {
          "base_uri": "https://localhost:8080/"
        },
        "id": "xfz1EtYHsPGm",
        "outputId": "f51f6eda-a4d8-4f4b-8ca3-be030370ef1c"
      },
      "outputs": [
        {
          "output_type": "execute_result",
          "data": {
            "text/plain": [
              "True"
            ]
          },
          "metadata": {},
          "execution_count": 7
        }
      ],
      "source": [
        "ran_bool(3,1,10)"
      ]
    },
    {
      "cell_type": "markdown",
      "metadata": {
        "id": "Qc9sBeEpsPGp"
      },
      "source": [
        "____\n",
        "**Write a Python function that accepts a string and calculates the number of upper case letters and lower case letters.**\n",
        "\n",
        "    Sample String : 'Hello Mr. Rogers, how are you this fine Tuesday?'\n",
        "    Expected Output : \n",
        "    No. of Upper case characters : 4\n",
        "    No. of Lower case Characters : 33\n",
        "\n",
        "HINT: Two string methods that might prove useful: **.isupper()** and **.islower()**\n",
        "\n",
        "If you feel ambitious, explore the Collections module to solve this problem!"
      ]
    },
    {
      "cell_type": "code",
      "execution_count": 8,
      "metadata": {
        "collapsed": true,
        "id": "Ec0iUmmKsPGr"
      },
      "outputs": [],
      "source": [
        "# Wrong!!!!\n",
        "def up_low(s):\n",
        "  total_cap=[]\n",
        "  capital == capital.capitalize()\n",
        "  if caital in s:\n",
        "    total_cap.append(capital)\n",
        "  print(f'No. of Upper case character: {total_cap.count()}')\n"
      ]
    },
    {
      "cell_type": "code",
      "source": [
        "def up_low(s):\n",
        "  d={'Upper':0,'lower':0}\n",
        "  for char in s:\n",
        "    if char.isupper():\n",
        "      d['Upper']+=1\n",
        "    elif char.islower():\n",
        "      d['lower']+=1\n",
        "    else:\n",
        "      pass\n",
        "  print(\"Original String : \", s)\n",
        "  print(\"No. of Upper case characters : \", d[\"Upper\"])\n",
        "  print(\"No. of Lower case Characters : \", d[\"lower\"])\n",
        "  "
      ],
      "metadata": {
        "id": "kJdYPDbwGh97"
      },
      "execution_count": 9,
      "outputs": []
    },
    {
      "cell_type": "code",
      "source": [
        "s = 'Hello Mr. Rogers, how are you this fine Tuesday?'\n",
        "up_low(s)"
      ],
      "metadata": {
        "colab": {
          "base_uri": "https://localhost:8080/"
        },
        "id": "2qnUhZ5a6u3X",
        "outputId": "976ddea2-684f-49f8-adc8-229e648ef688"
      },
      "execution_count": 10,
      "outputs": [
        {
          "output_type": "stream",
          "name": "stdout",
          "text": [
            "Original String :  Hello Mr. Rogers, how are you this fine Tuesday?\n",
            "No. of Upper case characters :  4\n",
            "No. of Lower case Characters :  33\n"
          ]
        }
      ]
    },
    {
      "cell_type": "markdown",
      "metadata": {
        "id": "iNrxen1nsPGu"
      },
      "source": [
        "____\n",
        "**Write a Python function that takes a list and returns a new list with unique elements of the first list.**\n",
        "\n",
        "    Sample List : [1,1,1,1,2,2,3,3,3,3,4,5]\n",
        "    Unique List : [1, 2, 3, 4, 5]"
      ]
    },
    {
      "cell_type": "code",
      "execution_count": 11,
      "metadata": {
        "collapsed": true,
        "id": "qUXLuKOPsPGw"
      },
      "outputs": [],
      "source": [
        "def unique_list(lst):\n",
        "    return list(set(lst))"
      ]
    },
    {
      "cell_type": "code",
      "source": [
        "unique_list([1,1,1,1,2,2,3,3,3,3,4,5])"
      ],
      "metadata": {
        "colab": {
          "base_uri": "https://localhost:8080/"
        },
        "id": "pCCmvwvjJSxx",
        "outputId": "f1fb8063-7c4b-47c6-a4d1-33727a612444"
      },
      "execution_count": 12,
      "outputs": [
        {
          "output_type": "execute_result",
          "data": {
            "text/plain": [
              "[1, 2, 3, 4, 5]"
            ]
          },
          "metadata": {},
          "execution_count": 12
        }
      ]
    },
    {
      "cell_type": "code",
      "source": [
        "def unique_list(lst):\n",
        "  x=[]\n",
        "  for a in lst:\n",
        "    if a not in x:\n",
        "      x.append(a)\n",
        "  return x"
      ],
      "metadata": {
        "id": "DwqlaVXWJkbZ"
      },
      "execution_count": 13,
      "outputs": []
    },
    {
      "cell_type": "code",
      "source": [
        "unique_list([1,1,1,1,2,2,3,3,3,3,4,5])"
      ],
      "metadata": {
        "colab": {
          "base_uri": "https://localhost:8080/"
        },
        "id": "1ZrAFoBzJ5Sb",
        "outputId": "aacc21fa-9793-42dc-a201-ac6e2954fb00"
      },
      "execution_count": 14,
      "outputs": [
        {
          "output_type": "execute_result",
          "data": {
            "text/plain": [
              "[1, 2, 3, 4, 5]"
            ]
          },
          "metadata": {},
          "execution_count": 14
        }
      ]
    },
    {
      "cell_type": "markdown",
      "metadata": {
        "id": "Q1i6xBtzsPGz"
      },
      "source": [
        "____\n",
        "**Write a Python function to multiply all the numbers in a list.**\n",
        "\n",
        "    Sample List : [1, 2, 3, -4]\n",
        "    Expected Output : -24"
      ]
    },
    {
      "cell_type": "code",
      "execution_count": 15,
      "metadata": {
        "collapsed": true,
        "id": "VQ8yE5MusPG0"
      },
      "outputs": [],
      "source": [
        "def multiply(numbers):\n",
        "    mult_num=1 \n",
        "    for num in numbers:\n",
        "      mult_num*=(num)\n",
        "    return mult_num"
      ]
    },
    {
      "cell_type": "code",
      "source": [
        "multiply([1,2,3,-4])"
      ],
      "metadata": {
        "colab": {
          "base_uri": "https://localhost:8080/"
        },
        "id": "yrm3ieEeKewn",
        "outputId": "e12a6beb-c392-40ba-c06f-84326695747c"
      },
      "execution_count": 16,
      "outputs": [
        {
          "output_type": "execute_result",
          "data": {
            "text/plain": [
              "-24"
            ]
          },
          "metadata": {},
          "execution_count": 16
        }
      ]
    },
    {
      "cell_type": "markdown",
      "metadata": {
        "id": "h8rnhmrJsPG2"
      },
      "source": [
        "____\n",
        "**Write a Python function that checks whether a word or phrase is palindrome or not.**\n",
        "\n",
        "Note: A palindrome is word, phrase, or sequence that reads the same backward as forward, e.g., madam,kayak,racecar, or a phrase \"nurses run\". Hint: You may want to check out the .replace() method in a string to help out with dealing with spaces. Also google search how to reverse a string in Python, there are some clever ways to do it with slicing notation."
      ]
    },
    {
      "cell_type": "code",
      "execution_count": 17,
      "metadata": {
        "collapsed": true,
        "id": "KwFXnduHsPG4"
      },
      "outputs": [],
      "source": [
        "def palindrome(s):\n",
        "  s=s.replace(' ','')  #To remove spaces between strings.\n",
        "  if s==s[::-1]:\n",
        "    return True\n",
        "  else:\n",
        "    False "
      ]
    },
    {
      "cell_type": "code",
      "source": [
        "palindrome('helleh')"
      ],
      "metadata": {
        "colab": {
          "base_uri": "https://localhost:8080/"
        },
        "id": "4ctAyCdSL4UR",
        "outputId": "573609ff-3846-4fa5-ac01-dfa5d4677ff4"
      },
      "execution_count": 18,
      "outputs": [
        {
          "output_type": "execute_result",
          "data": {
            "text/plain": [
              "True"
            ]
          },
          "metadata": {},
          "execution_count": 18
        }
      ]
    },
    {
      "cell_type": "code",
      "execution_count": 19,
      "metadata": {
        "colab": {
          "base_uri": "https://localhost:8080/"
        },
        "id": "nC2Zp0mRsPG5",
        "outputId": "7ad8fa55-8abe-4ac7-f5fb-7100110d5e3d"
      },
      "outputs": [
        {
          "output_type": "execute_result",
          "data": {
            "text/plain": [
              "True"
            ]
          },
          "metadata": {},
          "execution_count": 19
        }
      ],
      "source": [
        "palindrome('nurses run')"
      ]
    },
    {
      "cell_type": "code",
      "source": [
        "palindrome('abcba')"
      ],
      "metadata": {
        "colab": {
          "base_uri": "https://localhost:8080/"
        },
        "id": "acFE4NsAMdg6",
        "outputId": "a5b554c8-0506-46ef-84ed-404c75327843"
      },
      "execution_count": 20,
      "outputs": [
        {
          "output_type": "execute_result",
          "data": {
            "text/plain": [
              "True"
            ]
          },
          "metadata": {},
          "execution_count": 20
        }
      ]
    },
    {
      "cell_type": "markdown",
      "metadata": {
        "id": "4bW_IzJBsPG6"
      },
      "source": [
        "____\n",
        "#### Hard:\n",
        "\n",
        "**Write a Python function to check whether a string is pangram or not. (Assume the string passed in does not have any punctuation)**\n",
        "\n",
        "    Note : Pangrams are words or sentences containing every letter of the alphabet at least once.\n",
        "    For example : \"The quick brown fox jumps over the lazy dog\"\n",
        "\n",
        "Hint: You may want to use .replace() method to get rid of spaces.\n",
        "\n",
        "Hint: Look at the [string module](https://stackoverflow.com/questions/16060899/alphabet-range-in-python)\n",
        "\n",
        "Hint: In case you want to use [set comparisons](https://medium.com/better-programming/a-visual-guide-to-set-comparisons-in-python-6ab7edb9ec41)"
      ]
    },
    {
      "cell_type": "code",
      "execution_count": 21,
      "metadata": {
        "collapsed": true,
        "id": "OkoLoPbVsPG8"
      },
      "outputs": [],
      "source": [
        "import string\n",
        "\n",
        "def ispangram(str1, alphabet=string.ascii_lowercase): \n",
        "    # Create a set of the alphabet\n",
        "    alphaset = set(alphabet)  \n",
        "    \n",
        "    # Remove spaces from str1\n",
        "    str1 = str1.replace(\" \",'')\n",
        "    \n",
        "    # Lowercase all strings in the passed in string\n",
        "    # Recall we assume no punctuation \n",
        "    str1 = str1.lower()\n",
        "    \n",
        "    # Grab all unique letters in the string as a set\n",
        "    str1 = set(str1)\n",
        "    \n",
        "    # Now check that the alpahbet set is same as string set\n",
        "    return str1 == alphaset"
      ]
    },
    {
      "cell_type": "code",
      "execution_count": 22,
      "metadata": {
        "colab": {
          "base_uri": "https://localhost:8080/"
        },
        "id": "miviX6aSsPG9",
        "outputId": "a7facb63-98fb-4d7c-cf77-2c0ba39ff511"
      },
      "outputs": [
        {
          "output_type": "execute_result",
          "data": {
            "text/plain": [
              "True"
            ]
          },
          "metadata": {},
          "execution_count": 22
        }
      ],
      "source": [
        "ispangram(\"The quick brown fox jumps over the lazy dog\")"
      ]
    },
    {
      "cell_type": "code",
      "execution_count": 23,
      "metadata": {
        "colab": {
          "base_uri": "https://localhost:8080/",
          "height": 35
        },
        "id": "1GDMp-TcsPG-",
        "outputId": "94f56229-e81d-4b8e-b9cd-d0068306eae6"
      },
      "outputs": [
        {
          "output_type": "execute_result",
          "data": {
            "application/vnd.google.colaboratory.intrinsic+json": {
              "type": "string"
            },
            "text/plain": [
              "'abcdefghijklmnopqrstuvwxyz'"
            ]
          },
          "metadata": {},
          "execution_count": 23
        }
      ],
      "source": [
        "string.ascii_lowercase"
      ]
    },
    {
      "cell_type": "markdown",
      "metadata": {
        "collapsed": true,
        "id": "zSbpjeqxsPHA"
      },
      "source": [
        "#### Great Job!"
      ]
    }
  ],
  "metadata": {
    "kernelspec": {
      "display_name": "Python 3",
      "language": "python",
      "name": "python3"
    },
    "language_info": {
      "codemirror_mode": {
        "name": "ipython",
        "version": 3
      },
      "file_extension": ".py",
      "mimetype": "text/x-python",
      "name": "python",
      "nbconvert_exporter": "python",
      "pygments_lexer": "ipython3",
      "version": "3.6.6"
    },
    "colab": {
      "name": "04.1-Functions and Methods Homework.ipynb",
      "provenance": [],
      "collapsed_sections": []
    }
  },
  "nbformat": 4,
  "nbformat_minor": 0
}