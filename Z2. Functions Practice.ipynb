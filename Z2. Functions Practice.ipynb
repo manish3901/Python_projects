{
 "cells": [
  {
   "cell_type": "markdown",
   "id": "4a27bff1",
   "metadata": {},
   "source": [
    "### Functions L2"
   ]
  },
  {
   "cell_type": "code",
   "execution_count": 1,
   "id": "ae872565",
   "metadata": {},
   "outputs": [
    {
     "name": "stdout",
     "output_type": "stream",
     "text": [
      "False\n",
      "True\n"
     ]
    }
   ],
   "source": [
    "#P1. check even num inside list\n",
    "def check_even(l):\n",
    "    for i in l:\n",
    "        if i % 2 == 0:\n",
    "            return True\n",
    "    else:\n",
    "        return False\n",
    "print(check_even([1,3,5]))\n",
    "print(check_even([1,2,5]))"
   ]
  },
  {
   "cell_type": "code",
   "execution_count": 19,
   "id": "2140cbee",
   "metadata": {},
   "outputs": [],
   "source": [
    "#P2. return all the even & odd numbers in a list\n",
    "def check_even_odd(l):\n",
    "    evens = []\n",
    "    odd = []\n",
    "    for i in l:\n",
    "        if i % 2 == 0:\n",
    "            evens.append(i)\n",
    "        else:\n",
    "            odd.append(i)\n",
    "    print(\"Even_list = \" , sorted(evens))\n",
    "    print(\"Odd_list = \" , sorted(odd))"
   ]
  },
  {
   "cell_type": "code",
   "execution_count": 20,
   "id": "144a3ee2",
   "metadata": {},
   "outputs": [
    {
     "name": "stdout",
     "output_type": "stream",
     "text": [
      "Even_list =  [2, 4]\n",
      "Odd_list =  [1, 3, 5]\n"
     ]
    }
   ],
   "source": [
    "check_even_odd([1,2,3,4,5])"
   ]
  },
  {
   "cell_type": "code",
   "execution_count": 21,
   "id": "736ad585",
   "metadata": {},
   "outputs": [
    {
     "name": "stdout",
     "output_type": "stream",
     "text": [
      "Even_list =  [2]\n",
      "Odd_list =  [1, 5]\n"
     ]
    }
   ],
   "source": [
    "check_even_odd([1,2,5])"
   ]
  },
  {
   "cell_type": "code",
   "execution_count": 37,
   "id": "19fee959",
   "metadata": {},
   "outputs": [],
   "source": [
    "#P3. Find out employee of the month\n",
    "def employee_of_the_month(work_hrs):\n",
    "    max_hrs = 0\n",
    "    employee_of_the_month = ''\n",
    "    for name,hrs in work_hrs:\n",
    "        if hrs > max_hrs:\n",
    "            max_hrs = hrs\n",
    "            employee_of_the_month = name\n",
    "    return employee_of_the_month,max_hrs"
   ]
  },
  {
   "cell_type": "code",
   "execution_count": 39,
   "id": "dcf665e5",
   "metadata": {},
   "outputs": [],
   "source": [
    "result = employee_of_the_month([('Abby',100),('Billy',1000),('Cassie',800)])"
   ]
  },
  {
   "cell_type": "code",
   "execution_count": 40,
   "id": "6587ba44",
   "metadata": {},
   "outputs": [
    {
     "data": {
      "text/plain": [
       "('Billy', 1000)"
      ]
     },
     "execution_count": 40,
     "metadata": {},
     "output_type": "execute_result"
    }
   ],
   "source": [
    "result"
   ]
  },
  {
   "cell_type": "code",
   "execution_count": 41,
   "id": "5228fb13",
   "metadata": {},
   "outputs": [
    {
     "name": "stdout",
     "output_type": "stream",
     "text": [
      "Billy\n",
      "1000\n"
     ]
    }
   ],
   "source": [
    "name,hrs = result\n",
    "print(name)\n",
    "print(hrs)"
   ]
  },
  {
   "cell_type": "code",
   "execution_count": 117,
   "id": "f0f9cff0",
   "metadata": {},
   "outputs": [],
   "source": [
    "# P4. player guess\n",
    "# fn for shuffling list\n",
    "from random import shuffle\n",
    "def shuffled_list(mylist):\n",
    "    shuffle(mylist)\n",
    "    return mylist\n",
    "#fn for player guess using indexing\n",
    "def guess():\n",
    "    guess = ''\n",
    "    while guess not in ['0','1','2']:\n",
    "        guess = input('Guess position of 0, from 0 to 2: ')\n",
    "    return int(guess)\n",
    "# fn to check result\n",
    "def check_guess(mylist,guess):\n",
    "    print(mylist)\n",
    "    if mylist[guess] == '0':\n",
    "        print(\"Correct!\")\n",
    "    else:\n",
    "        print(\"Wrong guess!\")"
   ]
  },
  {
   "cell_type": "code",
   "execution_count": 118,
   "id": "03b8b8d5",
   "metadata": {},
   "outputs": [
    {
     "name": "stdout",
     "output_type": "stream",
     "text": [
      "Guess position of 0, from 0 to 2: 2\n",
      "[' ', ' ', '0']\n",
      "Correct!\n"
     ]
    }
   ],
   "source": [
    "#list\n",
    "mylist = [' ','0',' ']\n",
    "#shuffle\n",
    "new_list = shuffled_list(mylist)\n",
    "#guess\n",
    "guess = guess()\n",
    "#check guess\n",
    "check_guess(new_list,guess)"
   ]
  },
  {
   "cell_type": "code",
   "execution_count": 121,
   "id": "54e880e7",
   "metadata": {},
   "outputs": [
    {
     "data": {
      "text/plain": [
       "40"
      ]
     },
     "execution_count": 121,
     "metadata": {},
     "output_type": "execute_result"
    }
   ],
   "source": [
    "# P.5 Program to subtract two numbers.(difference between two num's)\n",
    "def diff(x,y):\n",
    "    return abs(x - y)\n",
    "operations = diff\n",
    "operations(10,50)"
   ]
  },
  {
   "cell_type": "code",
   "execution_count": 126,
   "id": "8f392a95",
   "metadata": {},
   "outputs": [
    {
     "name": "stdout",
     "output_type": "stream",
     "text": [
      "Repeatation count: 2\n",
      "String to repeat : Hello\n",
      "Hello\n",
      "Hello\n"
     ]
    }
   ],
   "source": [
    "#P6. Write a fn that displays a string repeatedly.\n",
    "def func():\n",
    "    T = int(input('Repeatation count: '))\n",
    "    string = input('String to repeat : ' )\n",
    "    while T > 0:\n",
    "        print(string)\n",
    "        T -= 1\n",
    "func()"
   ]
  },
  {
   "cell_type": "code",
   "execution_count": 131,
   "id": "c4776dc2",
   "metadata": {},
   "outputs": [],
   "source": [
    "#P7. Program to add two integers using fns\n",
    "def Sum():\n",
    "    a,b = map(int,input().split())\n",
    "    print(\"Sum of\",a ,\"and\",b,\" = \",a + b)"
   ]
  },
  {
   "cell_type": "code",
   "execution_count": 132,
   "id": "da033100",
   "metadata": {},
   "outputs": [
    {
     "name": "stdout",
     "output_type": "stream",
     "text": [
      "10 20\n",
      "Sum of 10 and 20  =  30\n"
     ]
    }
   ],
   "source": [
    "Sum()"
   ]
  },
  {
   "cell_type": "code",
   "execution_count": 133,
   "id": "a8b7feaa",
   "metadata": {},
   "outputs": [
    {
     "name": "stdout",
     "output_type": "stream",
     "text": [
      "Enter the first number!10\n",
      "Enter the second number!20\n",
      "Sum of 10 and 20  =  30\n"
     ]
    }
   ],
   "source": [
    "#simple fn\n",
    "def Sum():\n",
    "    a = int(input('Enter the first number!'))\n",
    "    b = int(input('Enter the second number!'))\n",
    "    print(\"Sum of\",a ,\"and\",b,\" = \",a + b)\n",
    "Sum()"
   ]
  },
  {
   "cell_type": "code",
   "execution_count": 135,
   "id": "01ba0975",
   "metadata": {},
   "outputs": [
    {
     "name": "stdout",
     "output_type": "stream",
     "text": [
      "Enter the first number!10\n",
      "Enter the second number!20\n",
      "Sum of 10 and 20  =  30\n"
     ]
    }
   ],
   "source": [
    "def Sum(a,b):\n",
    "    print(\"Sum of\",a ,\"and\",b,\" = \",a + b)\n",
    "\n",
    "a = int(input('Enter the first number!'))\n",
    "b = int(input('Enter the second number!'))\n",
    "Sum(a,b)   "
   ]
  },
  {
   "cell_type": "code",
   "execution_count": 151,
   "id": "ca496d04",
   "metadata": {},
   "outputs": [
    {
     "name": "stdout",
     "output_type": "stream",
     "text": [
      "Cube of number 3  =   27\n"
     ]
    }
   ],
   "source": [
    "#P8. cubes\n",
    "def cube(n):\n",
    "    return n**3\n",
    "n = 3\n",
    "result = cube(n)\n",
    "print(\"Cube of number\",n,\" =  \",result)"
   ]
  },
  {
   "cell_type": "code",
   "execution_count": 154,
   "id": "76b051a6",
   "metadata": {},
   "outputs": [
    {
     "name": "stdout",
     "output_type": "stream",
     "text": [
      "3\n",
      "Cube of 3 == 27\n"
     ]
    }
   ],
   "source": [
    "def cubes(n):\n",
    "    n = int(input())\n",
    "    return n**3\n",
    "print(f'Cube of {n} == {cubes(n)}')"
   ]
  },
  {
   "cell_type": "code",
   "execution_count": 170,
   "id": "d2661dfc",
   "metadata": {},
   "outputs": [
    {
     "name": "stdout",
     "output_type": "stream",
     "text": [
      "4\n",
      "34\n",
      "Minutes: 274\n"
     ]
    }
   ],
   "source": [
    "#P9. Write a program to convert time into minutes:\n",
    "def hrs_to_min(hrs,Min):\n",
    "    return (hrs * 60 + Min)\n",
    "hrs = int(input())\n",
    "Min = int(input())\n",
    "print(\"Minutes:\",hrs_to_min(hrs,Min))"
   ]
  },
  {
   "cell_type": "code",
   "execution_count": 171,
   "id": "d9c91d23",
   "metadata": {},
   "outputs": [],
   "source": [
    "#P10. Write a program to calculate simple interest.\n",
    "#Suppose a customer is a senior citizen.He is being offered 12 pc rate of interest;for all other customers ,the roi is 10 pc."
   ]
  },
  {
   "cell_type": "code",
   "execution_count": 177,
   "id": "ca531f8f",
   "metadata": {},
   "outputs": [
    {
     "name": "stdout",
     "output_type": "stream",
     "text": [
      "Principle amount: 200000\n",
      "Time in yrs     : 3\n",
      "age             : 59\n"
     ]
    },
    {
     "data": {
      "text/plain": [
       "60000.0"
      ]
     },
     "execution_count": 177,
     "metadata": {},
     "output_type": "execute_result"
    }
   ],
   "source": [
    "def simple_interest(p,t,age):\n",
    "    if age >= 60:\n",
    "        r = 12  #r = roi in pc\n",
    "    else:\n",
    "        r = 10\n",
    "    return (p*(r/100)*t)\n",
    "p = float(input('Principle amount: '))\n",
    "t = int(input('Time in yrs     : '))\n",
    "age = int(input('age             : '))\n",
    "simple_interest(p,t,age)"
   ]
  },
  {
   "cell_type": "code",
   "execution_count": 180,
   "id": "8fe41dfe",
   "metadata": {},
   "outputs": [
    {
     "name": "stdout",
     "output_type": "stream",
     "text": [
      "Length          : 4\n",
      "Breadth/width   : 3\n",
      "Height          : 4\n",
      "Volume of cuboid:  48.0\n"
     ]
    }
   ],
   "source": [
    "#P.11 Write a program to calulate the volume of a cuboid using default arguments.\n",
    "def vol_cuboid(l,b,h):\n",
    "    return l*b*h\n",
    "l = float(input('Length          : '))\n",
    "b = float(input('Breadth/width   : '))\n",
    "h = float(input('Height          : '))\n",
    "print('Volume of cuboid: ',vol_cuboid(l,b,h))"
   ]
  },
  {
   "cell_type": "code",
   "execution_count": 184,
   "id": "0e2afdac",
   "metadata": {},
   "outputs": [
    {
     "name": "stdout",
     "output_type": "stream",
     "text": [
      "9\n",
      "5\n",
      "P( 9 / 5 ) = 3024.0\n"
     ]
    }
   ],
   "source": [
    "#P12. Write a program that computes P(n,r).(factoral of n and r)\n",
    "def fact(n):\n",
    "    if n == 0 or n == 1:\n",
    "        return 1\n",
    "    else:\n",
    "        fact = 1\n",
    "        for i in range(1,n+1):\n",
    "            fact *= i\n",
    "        return fact\n",
    "n = int(input())\n",
    "r = int(input())\n",
    "result = fact(n) / fact(r)\n",
    "print(f'P( {str(n)} / {str(r)} ) = {str(result)}')"
   ]
  },
  {
   "cell_type": "code",
   "execution_count": 185,
   "id": "fa35e2b4",
   "metadata": {},
   "outputs": [
    {
     "name": "stdout",
     "output_type": "stream",
     "text": [
      "Enter value of n : 5\n",
      "Result :  44.21\n"
     ]
    }
   ],
   "source": [
    "#P13.Write a program to sum the seris 1/1! + 4/2! + 27/3! +...\n",
    "#denominator is factorial series\n",
    "def fact(n):\n",
    "    if n == 0 or n == 1:\n",
    "        return 1\n",
    "    else:\n",
    "        fact = 1\n",
    "        for i in range(1,n+1):\n",
    "            fact *= i\n",
    "        return fact\n",
    "n = int(input('Enter value of n : '))\n",
    "#Nr is square of numbers (2**2 = 2,3**3 = 27 etc)\n",
    "#lets format in typical given series\n",
    "result = 0\n",
    "for i in range(1,n+1):\n",
    "    result += (i**i)/fact(i)\n",
    "print('Result : ',round(result,2))\n"
   ]
  },
  {
   "cell_type": "code",
   "execution_count": 191,
   "id": "fa26bd1b",
   "metadata": {},
   "outputs": [
    {
     "name": "stdout",
     "output_type": "stream",
     "text": [
      "%\n",
      "6\n",
      "1\n",
      "% % % % % % "
     ]
    }
   ],
   "source": [
    "#P14. Write a program to print the following pattern using default arguments.\n",
    "#% % % % % % \n",
    "char = input()\n",
    "count = int(input())\n",
    "row = int(input())\n",
    "def pattern(char,count,row):\n",
    "    for i in range(row):\n",
    "        for j in range(count):\n",
    "            print(char,end=' ')\n",
    "pattern(char,count,row)"
   ]
  },
  {
   "cell_type": "code",
   "execution_count": 195,
   "id": "97aee4bc",
   "metadata": {},
   "outputs": [
    {
     "name": "stdout",
     "output_type": "stream",
     "text": [
      "Enter the character to be displayed: %\n",
      "Enter the number of cols        : 21\n",
      "Enter the number of rows        : 1\n",
      "% % % % % % % % % % % % % % % % % % % % % \n",
      "^ ^ ^ ^ ^ ^ ^ ^ ^ \n",
      "^ ^ ^ ^ ^ ^ ^ ^ ^ ^ ^ ^ ^ \n",
      "^ ^ ^ ^ ^ ^ ^ ^ ^ ^ ^ ^ ^ ^ ^ ^ ^ ^ ^ ^ ^ \n"
     ]
    }
   ],
   "source": [
    "def pattern(char,col,row):\n",
    "    for i in range(row):\n",
    "        for j in range(col):\n",
    "            print(char,end=' ')\n",
    "        print()\n",
    "char = input(\"Enter the character to be displayed: \")\n",
    "col = int(input(\"Enter the number of cols        : \"))\n",
    "row = int(input(\"Enter the number of rows        : \"))\n",
    "pattern(char,col,row)\n",
    "pattern(char = '^',col = 9,row= 1)\n",
    "pattern(char='^',col=13,row=1)\n",
    "pattern(char='^',col=21,row=1)"
   ]
  },
  {
   "cell_type": "code",
   "execution_count": 196,
   "id": "d8768f89",
   "metadata": {},
   "outputs": [
    {
     "name": "stdout",
     "output_type": "stream",
     "text": [
      "Enter the character to be displayed: ^\n",
      "Enter the number of cols        : 9\n",
      "Enter the number of rows        : 1\n",
      "\n",
      "% % % % % % \n",
      "^ ^ ^ ^ ^ ^ ^ ^ ^ "
     ]
    }
   ],
   "source": [
    "def pattern(char = '%',col = 6,row =1):\n",
    "    for i in range(row):\n",
    "        print()\n",
    "        for j in range(col):\n",
    "            print(char,end=' ')\n",
    "char = input(\"Enter the character to be displayed: \")\n",
    "col = int(input(\"Enter the number of cols        : \"))\n",
    "row = int(input(\"Enter the number of rows        : \"))\n",
    "pattern()\n",
    "pattern(char ,col ,row )"
   ]
  },
  {
   "cell_type": "markdown",
   "id": "e84fd03a",
   "metadata": {},
   "source": [
    "## Thank You!"
   ]
  }
 ],
 "metadata": {
  "kernelspec": {
   "display_name": "Python 3 (ipykernel)",
   "language": "python",
   "name": "python3"
  },
  "language_info": {
   "codemirror_mode": {
    "name": "ipython",
    "version": 3
   },
   "file_extension": ".py",
   "mimetype": "text/x-python",
   "name": "python",
   "nbconvert_exporter": "python",
   "pygments_lexer": "ipython3",
   "version": "3.9.12"
  }
 },
 "nbformat": 4,
 "nbformat_minor": 5
}
