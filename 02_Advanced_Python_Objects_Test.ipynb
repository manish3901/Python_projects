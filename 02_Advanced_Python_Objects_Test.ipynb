{
  "cells": [
    {
      "cell_type": "markdown",
      "metadata": {
        "id": "view-in-github",
        "colab_type": "text"
      },
      "source": [
        "<a href=\"https://colab.research.google.com/github/manish3901/Python_projects/blob/main/02_Advanced_Python_Objects_Test.ipynb\" target=\"_parent\"><img src=\"https://colab.research.google.com/assets/colab-badge.svg\" alt=\"Open In Colab\"/></a>"
      ]
    },
    {
      "cell_type": "markdown",
      "metadata": {
        "id": "57mcXdmz745A"
      },
      "source": [
        "# Advanced Python Objects Test"
      ]
    },
    {
      "cell_type": "markdown",
      "metadata": {
        "id": "6grKXVTA745F"
      },
      "source": [
        "## Advanced Numbers\n",
        "\n",
        "**Problem 1: Convert 1024 to binary and hexadecimal representation**"
      ]
    },
    {
      "cell_type": "code",
      "execution_count": 2,
      "metadata": {
        "colab": {
          "base_uri": "https://localhost:8080/"
        },
        "id": "JBONL695745I",
        "outputId": "8003f1e9-374d-4bcd-9655-d8abb535f2e4"
      },
      "outputs": [
        {
          "output_type": "stream",
          "name": "stdout",
          "text": [
            "0b10000000000\n",
            "0x400\n"
          ]
        }
      ],
      "source": [
        "print(bin(1024))\n",
        "print(hex(1024))\n"
      ]
    },
    {
      "cell_type": "markdown",
      "metadata": {
        "id": "JWL1rHnh745K"
      },
      "source": [
        "**Problem 2: Round 5.23222 to two decimal places**"
      ]
    },
    {
      "cell_type": "code",
      "execution_count": 3,
      "metadata": {
        "colab": {
          "base_uri": "https://localhost:8080/"
        },
        "id": "4AgN5FBV745L",
        "outputId": "e14fc6bb-4f0b-4afa-e538-4a03702e2e30"
      },
      "outputs": [
        {
          "output_type": "execute_result",
          "data": {
            "text/plain": [
              "5.23"
            ]
          },
          "metadata": {},
          "execution_count": 3
        }
      ],
      "source": [
        "round(5.23222,2)"
      ]
    },
    {
      "cell_type": "markdown",
      "metadata": {
        "id": "kfFW_Av6745N"
      },
      "source": [
        "## Advanced Strings\n",
        "**Problem 3: Check if every letter in the string s is lower case**"
      ]
    },
    {
      "cell_type": "code",
      "execution_count": 4,
      "metadata": {
        "colab": {
          "base_uri": "https://localhost:8080/"
        },
        "id": "4ZmgLdYv745O",
        "outputId": "b79ef4f3-e165-4ac9-e598-b498964e1809"
      },
      "outputs": [
        {
          "output_type": "execute_result",
          "data": {
            "text/plain": [
              "False"
            ]
          },
          "metadata": {},
          "execution_count": 4
        }
      ],
      "source": [
        "s = 'hello how are you Mary, are you feeling okay?'\n",
        "s.islower()\n"
      ]
    },
    {
      "cell_type": "markdown",
      "metadata": {
        "id": "3TlwZSwC745P"
      },
      "source": [
        "**Problem 4: How many times does the letter 'w' show up in the string below?**"
      ]
    },
    {
      "cell_type": "code",
      "execution_count": 5,
      "metadata": {
        "colab": {
          "base_uri": "https://localhost:8080/"
        },
        "id": "Igi-mTZx745Q",
        "outputId": "a8a875d0-048a-46aa-e08f-20927dc5f512"
      },
      "outputs": [
        {
          "output_type": "execute_result",
          "data": {
            "text/plain": [
              "12"
            ]
          },
          "metadata": {},
          "execution_count": 5
        }
      ],
      "source": [
        "s = 'twywywtwywbwhsjhwuwshshwuwwwjdjdid'\n",
        "s.count('w')\n"
      ]
    },
    {
      "cell_type": "markdown",
      "metadata": {
        "id": "SeVQLtFK745S"
      },
      "source": [
        "## Advanced Sets\n",
        "**Problem 5: Find the elements in set1 that are not in set2:**"
      ]
    },
    {
      "cell_type": "code",
      "execution_count": 8,
      "metadata": {
        "colab": {
          "base_uri": "https://localhost:8080/"
        },
        "id": "GxotUqeA745T",
        "outputId": "dc940258-e767-4c20-c3f7-fa7f79b00f58"
      },
      "outputs": [
        {
          "output_type": "execute_result",
          "data": {
            "text/plain": [
              "{2}"
            ]
          },
          "metadata": {},
          "execution_count": 8
        }
      ],
      "source": [
        "set1 = {2,3,1,5,6,8}\n",
        "set2 = {3,1,7,5,6,8}\n",
        "\n",
        "set1.difference(set2)\n",
        "\n"
      ]
    },
    {
      "cell_type": "markdown",
      "metadata": {
        "id": "MoYHiaas745U"
      },
      "source": [
        "**Problem 6: Find all elements that are in either set:**"
      ]
    },
    {
      "cell_type": "code",
      "execution_count": 9,
      "metadata": {
        "colab": {
          "base_uri": "https://localhost:8080/"
        },
        "id": "rXSF8xEz745V",
        "outputId": "60d5c2c4-6f95-4468-c714-e9eed873153f"
      },
      "outputs": [
        {
          "output_type": "execute_result",
          "data": {
            "text/plain": [
              "{1, 2, 3, 5, 6, 7, 8}"
            ]
          },
          "metadata": {},
          "execution_count": 9
        }
      ],
      "source": [
        "set1.union(set2)"
      ]
    },
    {
      "cell_type": "markdown",
      "metadata": {
        "id": "GFMsJEyB745W"
      },
      "source": [
        "## Advanced Dictionaries\n",
        "\n",
        "**Problem 7: Create this dictionary:\n",
        "{0: 0, 1: 1, 2: 8, 3: 27, 4: 64}\n",
        " using a dictionary comprehension.**"
      ]
    },
    {
      "cell_type": "code",
      "execution_count": 10,
      "metadata": {
        "colab": {
          "base_uri": "https://localhost:8080/"
        },
        "id": "UqFuV77_745X",
        "outputId": "b06cb602-1121-4622-afa7-721a4055b031"
      },
      "outputs": [
        {
          "output_type": "execute_result",
          "data": {
            "text/plain": [
              "{0: 0, 1: 1, 2: 8, 3: 27, 4: 64}"
            ]
          },
          "metadata": {},
          "execution_count": 10
        }
      ],
      "source": [
        "{x:x**3 for x in range(5)}"
      ]
    },
    {
      "cell_type": "markdown",
      "metadata": {
        "id": "AZsQt_aJ745Y"
      },
      "source": [
        "## Advanced Lists\n",
        "\n",
        "**Problem 8: Reverse the list below:**"
      ]
    },
    {
      "cell_type": "code",
      "execution_count": 12,
      "metadata": {
        "colab": {
          "base_uri": "https://localhost:8080/"
        },
        "id": "ID6YJQJR745Z",
        "outputId": "4816c794-e95e-40fb-e2d0-d100d3e614db"
      },
      "outputs": [
        {
          "output_type": "execute_result",
          "data": {
            "text/plain": [
              "[4, 3, 2, 1]"
            ]
          },
          "metadata": {},
          "execution_count": 12
        }
      ],
      "source": [
        "list1 = [1,2,3,4]\n",
        "list1.reverse()\n",
        "list1"
      ]
    },
    {
      "cell_type": "code",
      "source": [
        "list1 = [1,2,3,4]\n",
        "list1[::-1]"
      ],
      "metadata": {
        "colab": {
          "base_uri": "https://localhost:8080/"
        },
        "id": "EducMeM--ReF",
        "outputId": "c351636f-8ecf-4ef5-a19d-0ec9e62ad33b"
      },
      "execution_count": 13,
      "outputs": [
        {
          "output_type": "execute_result",
          "data": {
            "text/plain": [
              "[4, 3, 2, 1]"
            ]
          },
          "metadata": {},
          "execution_count": 13
        }
      ]
    },
    {
      "cell_type": "markdown",
      "metadata": {
        "id": "G4bRd2Zy745a"
      },
      "source": [
        "**Problem 9: Sort the list below:**"
      ]
    },
    {
      "cell_type": "code",
      "execution_count": 15,
      "metadata": {
        "colab": {
          "base_uri": "https://localhost:8080/"
        },
        "id": "_-bxS49r745a",
        "outputId": "a24ae375-7c79-461d-97ba-2ab723116f9a"
      },
      "outputs": [
        {
          "output_type": "execute_result",
          "data": {
            "text/plain": [
              "[1, 2, 3, 4, 5]"
            ]
          },
          "metadata": {},
          "execution_count": 15
        }
      ],
      "source": [
        "list2 = [3,4,2,5,1]\n",
        "list2.sort()\n",
        "list2\n"
      ]
    },
    {
      "cell_type": "code",
      "source": [
        "list2 = [3,4,2,5,1]\n",
        "sorted(list2)           #Python inbuilt."
      ],
      "metadata": {
        "colab": {
          "base_uri": "https://localhost:8080/"
        },
        "id": "0vclYx8h-fU0",
        "outputId": "d4d58f02-f56e-4910-beec-20193d25a060"
      },
      "execution_count": 17,
      "outputs": [
        {
          "output_type": "execute_result",
          "data": {
            "text/plain": [
              "[1, 2, 3, 4, 5]"
            ]
          },
          "metadata": {},
          "execution_count": 17
        }
      ]
    },
    {
      "cell_type": "markdown",
      "metadata": {
        "id": "Ri7ZVC11745b"
      },
      "source": [
        "# Great Job!"
      ]
    }
  ],
  "metadata": {
    "kernelspec": {
      "display_name": "Python 3",
      "language": "python",
      "name": "python3"
    },
    "language_info": {
      "codemirror_mode": {
        "name": "ipython",
        "version": 3
      },
      "file_extension": ".py",
      "mimetype": "text/x-python",
      "name": "python",
      "nbconvert_exporter": "python",
      "pygments_lexer": "ipython3",
      "version": "3.6.2"
    },
    "colab": {
      "name": "Copy of 06-Advanced Python Objects Test.ipynb",
      "provenance": [],
      "collapsed_sections": [],
      "include_colab_link": true
    }
  },
  "nbformat": 4,
  "nbformat_minor": 0
}